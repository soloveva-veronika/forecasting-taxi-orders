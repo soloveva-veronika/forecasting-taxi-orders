{
 "cells": [
  {
   "cell_type": "markdown",
   "metadata": {
    "toc": true
   },
   "source": [
    "<h1>Содержание<span class=\"tocSkip\"></span></h1>\n",
    "<div class=\"toc\"><ul class=\"toc-item\"><li><span><a href=\"#Подготовка\" data-toc-modified-id=\"Подготовка-1\"><span class=\"toc-item-num\">1&nbsp;&nbsp;</span>Подготовка</a></span></li><li><span><a href=\"#Анализ\" data-toc-modified-id=\"Анализ-2\"><span class=\"toc-item-num\">2&nbsp;&nbsp;</span>Анализ</a></span></li><li><span><a href=\"#Обучение\" data-toc-modified-id=\"Обучение-3\"><span class=\"toc-item-num\">3&nbsp;&nbsp;</span>Обучение</a></span></li><li><span><a href=\"#Тестирование\" data-toc-modified-id=\"Тестирование-4\"><span class=\"toc-item-num\">4&nbsp;&nbsp;</span>Тестирование</a></span></li><li><span><a href=\"#Чек-лист-проверки\" data-toc-modified-id=\"Чек-лист-проверки-5\"><span class=\"toc-item-num\">5&nbsp;&nbsp;</span>Чек-лист проверки</a></span></li></ul></div>"
   ]
  },
  {
   "cell_type": "markdown",
   "metadata": {},
   "source": [
    "<img src=\"http://s3.amazonaws.com/pix.iemoji.com/images/emoji/apple/ios-12/256/waving-hand.png\" align=left width=44, heigth=44>\n",
    "<div class=\"alert alert-info\">\n",
    "<b> Комментарий ревьюера</b>\n",
    "\n",
    "\n",
    "Привет,  Вероника! Давай знакомиться! Меня зовут Дмитрий Махортов, и я буду проверять твой проект. Сразу предлагаю общение на «ты» 🙂, но если тебе это не комфортно, то дай знать, и мы перейдем на «вы». \n",
    "\n",
    "Моя основная цель — не указать на совершенные тобою ошибки, а поделиться своим опытом и помочь тебе погрузиться в увлекательный мир работы с данными и вырасти в крепкого профи. Это отдаленная цель. А ближайшая - сделать твою работу еще лучше )).\n",
    "   \n",
    "    \n",
    "Все ключевые этапы в работе выполнены, и я вижу что с проектом ты справшяешься. Есть моменты, которые нужно доработать, но я уверен, у тебя все получится.\n",
    "        \n",
    "Расскажу как обычно проходит проверка:    \n",
    "Бывают моменты, которые требуют пристального внимания. Комментарии по ним выделены <span style='background-color:#F7B3A4'> красным цветом </span> и обозначены значком 🛑. После их доработки проект будет принят.  🙂\n",
    " \n",
    "<span style='background-color:#B7EBA7'> Зеленым цветом </span> и значком ✅ отмечены удачные и элегантные решения, на которые можно опираться в будущих проектах. Или советы «со звездочкой», которые помогут тебе в будущем.\n",
    "\n",
    "<span style='background-color:#F9EDA6'>Жёлтым цветом </span> и значком ⚠️ выделено то, что в следующий раз можно сделать по-другому. Ты можешь учесть эти комментарии при выполнении будущих заданий или доработать проект сейчас (однако это не обязательно).\n",
    "\n",
    "Давай работать над проектом в диалоге: **если ты что-то меняешь в проекте по моим рекомендациям — пиши об этом**. Выбери для своих комментариев какой-то заметный цвет, так мне будет легче отследить изменения. Пожалуйста, **не перемещай, не изменяй и не удаляй мои комментарии**. Всё это поможет выполнить повторную проверку твоего проекта оперативнее. \n",
    "</div>"
   ]
  },
  {
   "cell_type": "markdown",
   "metadata": {},
   "source": [
    "<div class=\"alert\" style=\"background-color:#ead7f7;color:#8737bf\">\n",
    "    <font size=\"3\"><b>образец комментария студента</b></font>\n",
    "   \n",
    "Можешь использовать этот комментарий. Просто удали этот текст и вместо него напиши свой 🙂\n",
    "\n",
    "</div>"
   ]
  },
  {
   "cell_type": "markdown",
   "metadata": {},
   "source": [
    "<div class=\"alert\" style=\"background-color:#ead7f7;color:#8737bf\">\n",
    "    <font size=\"3\"><b>образец комментария студента</b></font>\n",
    "   \n",
    "Здраствуй, Дмитрий! Спасибо за ясные комментрарии🙂\n",
    "\n",
    "</div>"
   ]
  },
  {
   "cell_type": "markdown",
   "metadata": {},
   "source": [
    "<img src=\"http://s3.amazonaws.com/pix.iemoji.com/images/emoji/apple/ios-12/256/waving-hand.png\" align=left width=44, heigth=44>\n",
    "<div class=\"alert alert-info\">\n",
    "<b> Комментарий ревьюера v2</b>\n",
    "\n",
    "Привет! 🤝\n",
    "Давай посмотрим на измененый проект.\n",
    "</div>"
   ]
  },
  {
   "cell_type": "markdown",
   "metadata": {
    "jp-MarkdownHeadingCollapsed": true
   },
   "source": [
    "#  Прогнозирование заказов такси"
   ]
  },
  {
   "cell_type": "markdown",
   "metadata": {},
   "source": [
    "Компания «Чётенькое такси» собрала исторические данные о заказах такси в аэропортах. Чтобы привлекать больше водителей в период пиковой нагрузки, нужно спрогнозировать количество заказов такси на следующий час. Постройте модель для такого предсказания.\n",
    "\n",
    "Значение метрики *RMSE* на тестовой выборке должно быть не больше 48.\n",
    "\n",
    "Вам нужно:\n",
    "\n",
    "1. Загрузить данные и выполнить их ресемплирование по одному часу.\n",
    "2. Проанализировать данные.\n",
    "3. Обучить разные модели с различными гиперпараметрами. Сделать тестовую выборку размером 10% от исходных данных.\n",
    "4. Проверить данные на тестовой выборке и сделать выводы.\n",
    "\n",
    "\n",
    "Данные лежат в файле `taxi.csv`. Количество заказов находится в столбце `num_orders` (от англ. *number of orders*, «число заказов»)."
   ]
  },
  {
   "cell_type": "markdown",
   "metadata": {
    "jp-MarkdownHeadingCollapsed": true
   },
   "source": [
    "# Цель проекта\n",
    "Целью данного проекта является прогнозирование количества заказов такси на следующий час для компании «Чётенькое такси». Это поможет оптимизировать распределение водителей в периоды пиковой нагрузки, что в свою очередь повысит эффективность работы службы такси.\n",
    "\n",
    "# Задачи проекта\n",
    "1. **Загрузка и предобработка данных**:\n",
    "   - Загрузить данные из файла `/datasets/taxi.csv`.\n",
    "   - Выполнить ресемплирование данных по одному часу для получения часовых интервалов.\n",
    "\n",
    "2. **Анализ данных**:\n",
    "   - Провести анализ временных рядов, включая визуализацию данных, чтобы выявить сезонные тренды, аномалии и другие паттерны.\n",
    "\n",
    "3. **Создание обучающей и тестовой выборок**:\n",
    "   - Разделить данные на обучающую и тестовую выборки, выделив 10% данных для тестирования модели.\n",
    "\n",
    "   **Обучение моделей**:\n",
    "   - Обучить различные модели прогнозирования (например, линейную регрессию, деревья решений, модели временных рядов и т.д.) с различными гиперпараметрами.\n",
    "   - Оценить производительность моделей на обучающей выборке.\n",
    "\n",
    "4. **Оценка модели**:\n",
    "   - Проверить качество прогнозов на тестовой выборке, используя метрику RMSE (корень среднеквадратичной ошибки) и убедиться, что значение RMSE не превышает 48.\n",
    "\n",
    "5. **Выводы**:\n",
    "   - Сделать выводы о качестве модели и её применимости для решения задачи прогнозирования количества заказов такси."
   ]
  },
  {
   "cell_type": "markdown",
   "metadata": {},
   "source": [
    "## Подготовка"
   ]
  },
  {
   "cell_type": "code",
   "execution_count": 1,
   "metadata": {},
   "outputs": [],
   "source": [
    "import pandas as pd\n",
    "import matplotlib.pyplot as plt\n",
    "import joblib\n",
    "import warnings\n",
    "import statsmodels.api as sm\n",
    "from statsmodels.tsa.seasonal import seasonal_decompose\n",
    "from sklearn.model_selection import train_test_split, TimeSeriesSplit\n",
    "from sklearn.metrics import make_scorer, mean_squared_error\n",
    "from sklearn.linear_model import LinearRegression, ElasticNet\n",
    "from sklearn.ensemble import RandomForestRegressor\n",
    "from sklearn.tree import DecisionTreeRegressor\n",
    "from sklearn.dummy import DummyRegressor \n",
    "from catboost import CatBoostRegressor\n",
    "import seaborn as sns\n",
    "from sklearn.model_selection import RandomizedSearchCV, GridSearchCV\n",
    "from sklearn.pipeline import Pipeline, make_pipeline\n",
    "from sklearn.preprocessing import StandardScaler\n",
    "from sklearn.compose import make_column_transformer\n",
    "import time\n",
    "from statsmodels.graphics import tsaplots\n",
    "from statsmodels.graphics.tsaplots import plot_acf, plot_pacf\n",
    "from statsmodels.tsa.stattools import acf, pacf\n",
    "from sklearn.preprocessing import MinMaxScaler\n",
    "# Отключение предупреждений\n",
    "warnings.filterwarnings('ignore')\n"
   ]
  },
  {
   "cell_type": "markdown",
   "metadata": {},
   "source": [
    "<img src=\"https://emojigraph.org/media/apple/check-mark-button_2705.png\" align=left width=33, heigth=33>\n",
    "<div class=\"alert alert-success\">\n",
    "Отлично, все нужные библиотеки импортированы в начале ноутбука.Это хорошая практика.</div>"
   ]
  },
  {
   "cell_type": "code",
   "execution_count": 2,
   "metadata": {},
   "outputs": [],
   "source": [
    "STATE = 42"
   ]
  },
  {
   "cell_type": "code",
   "execution_count": 3,
   "metadata": {},
   "outputs": [],
   "source": [
    "def analyze(df, name):\n",
    "    \"\"\"\n",
    "    Функция для анализа датафрейма\n",
    "    :param df: датафрейм для анализа\n",
    "    :param name: имя датафрейма\n",
    "    \"\"\"\n",
    "    print(f\"\\nАнализ DataFrame: {name}\\n\")\n",
    "    \n",
    "    # 1. Общая информация о DataFrame\n",
    "    print(\"Общая информация:\")\n",
    "    display(df.head())\n",
    "    display(df.info())\n",
    "\n",
    "    # 2. Описательная статистика\n",
    "    print(\"Описательная статистика:\")\n",
    "    display(df.describe(include='all'))\n",
    "\n",
    "    # 3. Анализ по каждому столбцу\n",
    "    for col in df.columns:\n",
    "        print('-' * 30)\n",
    "        print(f\"Анализ столбца: {col}\")\n",
    "\n",
    "        # 3.1 Тип данных и количество уникальных значений\n",
    "        dtype = df[col].dtype\n",
    "        num_unique = df[col].nunique()\n",
    "        print(f\"Тип данных: {dtype}, Количество уникальных значений: {num_unique}\")\n",
    "\n",
    "        # 3.2 Уникальные значения (отсортированные) - вывод только если мало уникальных значений\n",
    "        if num_unique <= 20:\n",
    "            unique_values = df[col].sort_values().unique()\n",
    "            print(f\"Уникальные значения: {unique_values}\")\n",
    "        elif num_unique <= 50:  # Вывод первых и последних 10 значений, если их не слишком много\n",
    "            unique_values = df[col].sort_values().unique()\n",
    "            print(f\"Первые 10 уникальных значений: {unique_values[:10]}\")\n",
    "            print(f\"Последние 10 уникальных значений: {unique_values[-10:]}\")\n",
    "\n",
    "        # 3.3 Количество и процент пропущенных значений (NaN, None)\n",
    "        num_missing = df[col].isnull().sum()\n",
    "        percent_missing = round(df[col].isnull().mean() * 100, 2)\n",
    "        print(f\"Количество пропущенных значений (NaN, None): {num_missing}, Процент: {percent_missing}%\")\n",
    "\n",
    "        # 3.4 Количество и процент нулевых значений - только для числовых\n",
    "        if pd.api.types.is_numeric_dtype(dtype):\n",
    "            num_zeros = (df[col] == 0).sum()\n",
    "            percent_zeros = round(num_zeros / len(df) * 100, 2)\n",
    "            print(f\"Количество 0: {num_zeros}, Процент 0: {percent_zeros}%\")\n",
    "\n",
    "        # 3.5 Проверка пропусков для текстовых столбцов (пустые строки и пробелы)\n",
    "        if pd.api.types.is_string_dtype(dtype):\n",
    "            num_empty = (df[col] == \"\").sum() + (df[col] == \" \").sum()\n",
    "            percent_empty = round(num_empty / len(df) * 100, 2)\n",
    "            print(f\"Количество пустых строк и пробелов: {num_empty}, Процент: {percent_empty}%\")\n",
    "\n",
    "        print('-' * 30, \"\\n\")\n",
    "\n",
    "    # 4. Проверка полных дублей\n",
    "    num_duplicates = df.duplicated().sum()\n",
    "    percent_duplicates = round(num_duplicates / len(df) * 100, 2)\n",
    "    print(f\"Количество полных дублей: {num_duplicates}, Процент полных дублей: {percent_duplicates}%\")\n"
   ]
  },
  {
   "cell_type": "markdown",
   "metadata": {},
   "source": [
    "<img src=\"https://emojigraph.org/media/apple/check-mark-button_2705.png\" align=left width=33, heigth=33>\n",
    "<div class=\"alert alert-success\">\n",
    "Солидный инструментарий </div>"
   ]
  },
  {
   "cell_type": "code",
   "execution_count": 4,
   "metadata": {},
   "outputs": [],
   "source": [
    "try:\n",
    "    df = pd.read_csv('taxi.csv', index_col=[0], parse_dates=[0]) \n",
    "except:\n",
    "    df = pd.read_csv('/datasets/taxi.csv', index_col=[0], parse_dates=[0]) \n"
   ]
  },
  {
   "cell_type": "code",
   "execution_count": 5,
   "metadata": {},
   "outputs": [
    {
     "name": "stdout",
     "output_type": "stream",
     "text": [
      "\n",
      "Анализ DataFrame: taxi.csv\n",
      "\n",
      "Общая информация:\n"
     ]
    },
    {
     "data": {
      "text/html": [
       "<div>\n",
       "<style scoped>\n",
       "    .dataframe tbody tr th:only-of-type {\n",
       "        vertical-align: middle;\n",
       "    }\n",
       "\n",
       "    .dataframe tbody tr th {\n",
       "        vertical-align: top;\n",
       "    }\n",
       "\n",
       "    .dataframe thead th {\n",
       "        text-align: right;\n",
       "    }\n",
       "</style>\n",
       "<table border=\"1\" class=\"dataframe\">\n",
       "  <thead>\n",
       "    <tr style=\"text-align: right;\">\n",
       "      <th></th>\n",
       "      <th>num_orders</th>\n",
       "    </tr>\n",
       "    <tr>\n",
       "      <th>datetime</th>\n",
       "      <th></th>\n",
       "    </tr>\n",
       "  </thead>\n",
       "  <tbody>\n",
       "    <tr>\n",
       "      <th>2018-03-01 00:00:00</th>\n",
       "      <td>9</td>\n",
       "    </tr>\n",
       "    <tr>\n",
       "      <th>2018-03-01 00:10:00</th>\n",
       "      <td>14</td>\n",
       "    </tr>\n",
       "    <tr>\n",
       "      <th>2018-03-01 00:20:00</th>\n",
       "      <td>28</td>\n",
       "    </tr>\n",
       "    <tr>\n",
       "      <th>2018-03-01 00:30:00</th>\n",
       "      <td>20</td>\n",
       "    </tr>\n",
       "    <tr>\n",
       "      <th>2018-03-01 00:40:00</th>\n",
       "      <td>32</td>\n",
       "    </tr>\n",
       "  </tbody>\n",
       "</table>\n",
       "</div>"
      ],
      "text/plain": [
       "                     num_orders\n",
       "datetime                       \n",
       "2018-03-01 00:00:00           9\n",
       "2018-03-01 00:10:00          14\n",
       "2018-03-01 00:20:00          28\n",
       "2018-03-01 00:30:00          20\n",
       "2018-03-01 00:40:00          32"
      ]
     },
     "metadata": {},
     "output_type": "display_data"
    },
    {
     "name": "stdout",
     "output_type": "stream",
     "text": [
      "<class 'pandas.core.frame.DataFrame'>\n",
      "DatetimeIndex: 26496 entries, 2018-03-01 00:00:00 to 2018-08-31 23:50:00\n",
      "Data columns (total 1 columns):\n",
      " #   Column      Non-Null Count  Dtype\n",
      "---  ------      --------------  -----\n",
      " 0   num_orders  26496 non-null  int64\n",
      "dtypes: int64(1)\n",
      "memory usage: 414.0 KB\n"
     ]
    },
    {
     "data": {
      "text/plain": [
       "None"
      ]
     },
     "metadata": {},
     "output_type": "display_data"
    },
    {
     "name": "stdout",
     "output_type": "stream",
     "text": [
      "Описательная статистика:\n"
     ]
    },
    {
     "data": {
      "text/html": [
       "<div>\n",
       "<style scoped>\n",
       "    .dataframe tbody tr th:only-of-type {\n",
       "        vertical-align: middle;\n",
       "    }\n",
       "\n",
       "    .dataframe tbody tr th {\n",
       "        vertical-align: top;\n",
       "    }\n",
       "\n",
       "    .dataframe thead th {\n",
       "        text-align: right;\n",
       "    }\n",
       "</style>\n",
       "<table border=\"1\" class=\"dataframe\">\n",
       "  <thead>\n",
       "    <tr style=\"text-align: right;\">\n",
       "      <th></th>\n",
       "      <th>num_orders</th>\n",
       "    </tr>\n",
       "  </thead>\n",
       "  <tbody>\n",
       "    <tr>\n",
       "      <th>count</th>\n",
       "      <td>26496.000000</td>\n",
       "    </tr>\n",
       "    <tr>\n",
       "      <th>mean</th>\n",
       "      <td>14.070463</td>\n",
       "    </tr>\n",
       "    <tr>\n",
       "      <th>std</th>\n",
       "      <td>9.211330</td>\n",
       "    </tr>\n",
       "    <tr>\n",
       "      <th>min</th>\n",
       "      <td>0.000000</td>\n",
       "    </tr>\n",
       "    <tr>\n",
       "      <th>25%</th>\n",
       "      <td>8.000000</td>\n",
       "    </tr>\n",
       "    <tr>\n",
       "      <th>50%</th>\n",
       "      <td>13.000000</td>\n",
       "    </tr>\n",
       "    <tr>\n",
       "      <th>75%</th>\n",
       "      <td>19.000000</td>\n",
       "    </tr>\n",
       "    <tr>\n",
       "      <th>max</th>\n",
       "      <td>119.000000</td>\n",
       "    </tr>\n",
       "  </tbody>\n",
       "</table>\n",
       "</div>"
      ],
      "text/plain": [
       "         num_orders\n",
       "count  26496.000000\n",
       "mean      14.070463\n",
       "std        9.211330\n",
       "min        0.000000\n",
       "25%        8.000000\n",
       "50%       13.000000\n",
       "75%       19.000000\n",
       "max      119.000000"
      ]
     },
     "metadata": {},
     "output_type": "display_data"
    },
    {
     "name": "stdout",
     "output_type": "stream",
     "text": [
      "------------------------------\n",
      "Анализ столбца: num_orders\n",
      "Тип данных: int64, Количество уникальных значений: 81\n",
      "Количество пропущенных значений (NaN, None): 0, Процент: 0.0%\n",
      "Количество 0: 537, Процент 0: 2.03%\n",
      "------------------------------ \n",
      "\n",
      "Количество полных дублей: 26415, Процент полных дублей: 99.69%\n"
     ]
    }
   ],
   "source": [
    "analyze(df, 'taxi.csv')"
   ]
  },
  {
   "cell_type": "code",
   "execution_count": 6,
   "metadata": {},
   "outputs": [
    {
     "name": "stdout",
     "output_type": "stream",
     "text": [
      "True\n"
     ]
    }
   ],
   "source": [
    "# убеждаемся, что время в колонке с индексами расположено хронологически\n",
    "print(df.index.is_monotonic)"
   ]
  },
  {
   "cell_type": "markdown",
   "metadata": {},
   "source": [
    "Данные представлены с интервалом в 10 минут, и наша задача заключается в том, чтобы сделать прогноз на следующий час."
   ]
  },
  {
   "cell_type": "code",
   "execution_count": 7,
   "metadata": {},
   "outputs": [
    {
     "name": "stdout",
     "output_type": "stream",
     "text": [
      "\n",
      "Анализ DataFrame: taxi.csv\n",
      "\n",
      "Общая информация:\n"
     ]
    },
    {
     "data": {
      "text/html": [
       "<div>\n",
       "<style scoped>\n",
       "    .dataframe tbody tr th:only-of-type {\n",
       "        vertical-align: middle;\n",
       "    }\n",
       "\n",
       "    .dataframe tbody tr th {\n",
       "        vertical-align: top;\n",
       "    }\n",
       "\n",
       "    .dataframe thead th {\n",
       "        text-align: right;\n",
       "    }\n",
       "</style>\n",
       "<table border=\"1\" class=\"dataframe\">\n",
       "  <thead>\n",
       "    <tr style=\"text-align: right;\">\n",
       "      <th></th>\n",
       "      <th>num_orders</th>\n",
       "    </tr>\n",
       "    <tr>\n",
       "      <th>datetime</th>\n",
       "      <th></th>\n",
       "    </tr>\n",
       "  </thead>\n",
       "  <tbody>\n",
       "    <tr>\n",
       "      <th>2018-03-01 00:00:00</th>\n",
       "      <td>124</td>\n",
       "    </tr>\n",
       "    <tr>\n",
       "      <th>2018-03-01 01:00:00</th>\n",
       "      <td>85</td>\n",
       "    </tr>\n",
       "    <tr>\n",
       "      <th>2018-03-01 02:00:00</th>\n",
       "      <td>71</td>\n",
       "    </tr>\n",
       "    <tr>\n",
       "      <th>2018-03-01 03:00:00</th>\n",
       "      <td>66</td>\n",
       "    </tr>\n",
       "    <tr>\n",
       "      <th>2018-03-01 04:00:00</th>\n",
       "      <td>43</td>\n",
       "    </tr>\n",
       "  </tbody>\n",
       "</table>\n",
       "</div>"
      ],
      "text/plain": [
       "                     num_orders\n",
       "datetime                       \n",
       "2018-03-01 00:00:00         124\n",
       "2018-03-01 01:00:00          85\n",
       "2018-03-01 02:00:00          71\n",
       "2018-03-01 03:00:00          66\n",
       "2018-03-01 04:00:00          43"
      ]
     },
     "metadata": {},
     "output_type": "display_data"
    },
    {
     "name": "stdout",
     "output_type": "stream",
     "text": [
      "<class 'pandas.core.frame.DataFrame'>\n",
      "DatetimeIndex: 4416 entries, 2018-03-01 00:00:00 to 2018-08-31 23:00:00\n",
      "Freq: H\n",
      "Data columns (total 1 columns):\n",
      " #   Column      Non-Null Count  Dtype\n",
      "---  ------      --------------  -----\n",
      " 0   num_orders  4416 non-null   int64\n",
      "dtypes: int64(1)\n",
      "memory usage: 69.0 KB\n"
     ]
    },
    {
     "data": {
      "text/plain": [
       "None"
      ]
     },
     "metadata": {},
     "output_type": "display_data"
    },
    {
     "name": "stdout",
     "output_type": "stream",
     "text": [
      "Описательная статистика:\n"
     ]
    },
    {
     "data": {
      "text/html": [
       "<div>\n",
       "<style scoped>\n",
       "    .dataframe tbody tr th:only-of-type {\n",
       "        vertical-align: middle;\n",
       "    }\n",
       "\n",
       "    .dataframe tbody tr th {\n",
       "        vertical-align: top;\n",
       "    }\n",
       "\n",
       "    .dataframe thead th {\n",
       "        text-align: right;\n",
       "    }\n",
       "</style>\n",
       "<table border=\"1\" class=\"dataframe\">\n",
       "  <thead>\n",
       "    <tr style=\"text-align: right;\">\n",
       "      <th></th>\n",
       "      <th>num_orders</th>\n",
       "    </tr>\n",
       "  </thead>\n",
       "  <tbody>\n",
       "    <tr>\n",
       "      <th>count</th>\n",
       "      <td>4416.000000</td>\n",
       "    </tr>\n",
       "    <tr>\n",
       "      <th>mean</th>\n",
       "      <td>84.422781</td>\n",
       "    </tr>\n",
       "    <tr>\n",
       "      <th>std</th>\n",
       "      <td>45.023853</td>\n",
       "    </tr>\n",
       "    <tr>\n",
       "      <th>min</th>\n",
       "      <td>0.000000</td>\n",
       "    </tr>\n",
       "    <tr>\n",
       "      <th>25%</th>\n",
       "      <td>54.000000</td>\n",
       "    </tr>\n",
       "    <tr>\n",
       "      <th>50%</th>\n",
       "      <td>78.000000</td>\n",
       "    </tr>\n",
       "    <tr>\n",
       "      <th>75%</th>\n",
       "      <td>107.000000</td>\n",
       "    </tr>\n",
       "    <tr>\n",
       "      <th>max</th>\n",
       "      <td>462.000000</td>\n",
       "    </tr>\n",
       "  </tbody>\n",
       "</table>\n",
       "</div>"
      ],
      "text/plain": [
       "        num_orders\n",
       "count  4416.000000\n",
       "mean     84.422781\n",
       "std      45.023853\n",
       "min       0.000000\n",
       "25%      54.000000\n",
       "50%      78.000000\n",
       "75%     107.000000\n",
       "max     462.000000"
      ]
     },
     "metadata": {},
     "output_type": "display_data"
    },
    {
     "name": "stdout",
     "output_type": "stream",
     "text": [
      "------------------------------\n",
      "Анализ столбца: num_orders\n",
      "Тип данных: int64, Количество уникальных значений: 251\n",
      "Количество пропущенных значений (NaN, None): 0, Процент: 0.0%\n",
      "Количество 0: 1, Процент 0: 0.02%\n",
      "------------------------------ \n",
      "\n",
      "Количество полных дублей: 4165, Процент полных дублей: 94.32%\n"
     ]
    }
   ],
   "source": [
    "df = df.resample('1H').sum()\n",
    "data = df.copy()\n",
    "analyze(data, 'taxi.csv')"
   ]
  },
  {
   "cell_type": "markdown",
   "metadata": {},
   "source": [
    "<img src=\"https://emojigraph.org/media/apple/check-mark-button_2705.png\" align=left width=33, heigth=33>\n",
    "<div class=\"alert alert-success\">\n",
    "Произведено ресемплирование данных по часу. Молодец, что используешь сумму, она понятнее и её проще интерпретировать. </div>"
   ]
  },
  {
   "cell_type": "markdown",
   "metadata": {},
   "source": [
    "## Анализ"
   ]
  },
  {
   "cell_type": "code",
   "execution_count": 8,
   "metadata": {},
   "outputs": [
    {
     "name": "stdout",
     "output_type": "stream",
     "text": [
      "Наш временной промежуток от 2018-03-01 00:00:00 до 2018-08-31 23:00:00\n"
     ]
    }
   ],
   "source": [
    "# выводим границы временного промежутка\n",
    "print('Наш временной промежуток от', df.index.min(), 'до', df.index.max())"
   ]
  },
  {
   "cell_type": "code",
   "execution_count": 9,
   "metadata": {},
   "outputs": [
    {
     "data": {
      "image/png": "[encoded data removed]",
      "text/plain": [
       "<Figure size 1008x504 with 1 Axes>"
      ]
     },
     "metadata": {
      "needs_background": "light"
     },
     "output_type": "display_data"
    }
   ],
   "source": [
    "# Вычисление z-оценки\n",
    "mean_orders = data['num_orders'].mean()\n",
    "std_orders = data['num_orders'].std()\n",
    "threshold = 3\n",
    "\n",
    "# Определение аномалий\n",
    "anomalies = data[(data['num_orders'] > mean_orders + threshold * std_orders) | \n",
    "                 (data['num_orders'] < mean_orders - threshold * std_orders)]\n",
    "\n",
    "# Вычисление скользящего среднего\n",
    "rolling_mean = data['num_orders'].rolling(100).mean()\n",
    "\n",
    "# Визуализация количества заказов, скользящего среднего и аномалий\n",
    "plt.figure(figsize=(14, 7))\n",
    "plt.plot(data.index, data['num_orders'], label='Количество заказов', color='blue')\n",
    "plt.plot(data.index, rolling_mean, label='Скользящее среднее', color='orange', linestyle='--')\n",
    "plt.scatter(anomalies.index, anomalies['num_orders'], color='red', label='Аномалии', zorder=5)\n",
    "plt.title('Количество заказов такси с выявленными аномалиями и скользящим средним')\n",
    "plt.xlabel('Дата')\n",
    "plt.ylabel('Количество заказов')\n",
    "plt.legend()\n",
    "plt.grid()\n",
    "plt.show()\n"
   ]
  },
  {
   "cell_type": "markdown",
   "metadata": {},
   "source": [
    "<img src=\"https://emojigraph.org/media/apple/check-mark-button_2705.png\" align=left width=33, heigth=33>\n",
    "<div class=\"alert alert-success\">\n",
    "ОК, выведен график временного ряда (по часам). Также хорошо, что приведены \"сглаженные\" графики со скользящим средним по дням и неделям. это помогает лучше понять данные.\n",
    "</div>"
   ]
  },
  {
   "cell_type": "markdown",
   "metadata": {},
   "source": [
    "<img src=\"http://s3.amazonaws.com/pix.iemoji.com/images/emoji/apple/ios-12/256/waving-hand.png\" align=left width=44, heigth=44>\n",
    "<div class=\"alert alert-info\">\n",
    "<b> Комментарий ревьюера</b>\n",
    "\n",
    "Работа с выбросами во временных рядах это отдельная очень большая тема. Сразу скажу что точно нельзя делать: брать весь ряд целиком и определять выбросы для него (например с помощью ящика с усами).\n",
    "\n",
    "Дело в том, распределение, из которого приходят к нам объекты во временом ряду меняется со временем. Например, меняется среднее значение (есть тренд) и дисперсия. \n",
    "    \n",
    " \n",
    "Поэтому идея номер один - использование относительно небольшого окна, в рамках которого мы рассчитываем статистики и используем разные критерии для диагностики выбросов. Например, если мы предполагаем что мы имеем дело с данными, распределенными нормально, можно рассмотреть порог в условные 3 сигмы, И всё что будет выпадать из этого корридора объявлять выбросами.  \n",
    "    \n",
    "Здесь возникает другой вопрос - а что делать с выбросами? Удалять нельзя. Заменять на медианну - так себе идея. Заменить на медианну по окну - лучше. Можно уменьшить \"вылет\" за условные три и ограничить его тремя сигмами.  Можно взять среднее между двумя значениями. В любом случае нужно глубоко вникать в данные и понимать в чем причина возникших аномалий. Это может быть \"умерший\" датчик на станке или просто из за погодных аномалий прилетело одновременно  несколько рейсов и мы получили всплеск количества заказов такси.    \n",
    "   \n",
    "    \n",
    "-------------\n",
    "    \n",
    "По нашим данным - среднее количество поездок с марта по август увеличилось в несолько раз. Поэтому редкие выбросы выше 200 в апреле, мае и июне действительно могут быть очень редкими для тех месяцев, однаков уже для августа значения выше 200 уже не являются аномалиями. \n",
    "    \n",
    "Более того, если ты посмотришь в детали по трем самым большим августовским пикам, то окажется что они идут в один и тот же час одного и того же для неледи. Учитывая, что мы имеем дело с заказами  такси из аэропорта, можно предположить что начал летать какой-то новый рейс, которого раньше не было.\n",
    "    \n",
    "\n",
    "</div>"
   ]
  },
  {
   "cell_type": "code",
   "execution_count": 10,
   "metadata": {},
   "outputs": [
    {
     "data": {
      "image/png": "[encoded data removed]",
      "text/plain": [
       "<Figure size 864x432 with 1 Axes>"
      ]
     },
     "metadata": {
      "needs_background": "light"
     },
     "output_type": "display_data"
    },
    {
     "data": {
      "image/png": "[encoded data removed]",
      "text/plain": [
       "<Figure size 864x432 with 1 Axes>"
      ]
     },
     "metadata": {
      "needs_background": "light"
     },
     "output_type": "display_data"
    },
    {
     "data": {
      "image/png": "[encoded data removed]",
      "text/plain": [
       "<Figure size 864x432 with 2 Axes>"
      ]
     },
     "metadata": {
      "needs_background": "light"
     },
     "output_type": "display_data"
    },
    {
     "data": {
      "image/png": "[encoded data removed]",
      "text/plain": [
       "<Figure size 864x432 with 1 Axes>"
      ]
     },
     "metadata": {
      "needs_background": "light"
     },
     "output_type": "display_data"
    }
   ],
   "source": [
    "# Добавление столбцов с часами и днями недели\n",
    "df['hour'] = df.index.hour\n",
    "df['day_of_week'] = df.index.dayofweek  # Пн=0, Вск=6\n",
    "df['month'] = df.index.month  # Месяц\n",
    "\n",
    "# Среднее количество заказов по часам\n",
    "hourly_avg = df.groupby('hour')['num_orders'].mean()\n",
    "\n",
    "# Визуализация среднего количества заказов по часам\n",
    "plt.figure(figsize=(12, 6))\n",
    "plt.plot(hourly_avg.index, hourly_avg.values, marker='o', color='blue')\n",
    "plt.title('Среднее количество заказов по часам')\n",
    "plt.xlabel('Час дня')\n",
    "plt.ylabel('Среднее количество заказов')\n",
    "plt.xticks(hourly_avg.index)  # Отображение всех часов\n",
    "plt.grid()\n",
    "plt.show()\n",
    "\n",
    "# Среднее количество заказов по дням недели\n",
    "daily_avg = df.groupby('day_of_week')['num_orders'].mean()\n",
    "\n",
    "# Визуализация плотности распределения заказов по дням недели\n",
    "plt.figure(figsize=(12, 6))\n",
    "sns.kdeplot(data=df, x='day_of_week', weights='num_orders', fill=True, color='green', alpha=0.7)\n",
    "plt.title('Плотность распределения заказов по дням недели')\n",
    "plt.xlabel('День недели (0=Пн, 6=Вс)')\n",
    "plt.ylabel('Плотность')\n",
    "plt.xticks(range(7), ['Пн', 'Вт', 'Ср', 'Чт', 'Пт', 'Сб', 'Вс'])  # Подписи для дней недели\n",
    "plt.grid(axis='y')\n",
    "plt.show()\n",
    "\n",
    "# Визуализация распределения заказов по дням недели в течение месяца\n",
    "# Для этого создадим новый столбец с номером дня месяца\n",
    "df['day_of_month'] = df.index.day\n",
    "\n",
    "monthly_daily_avg = df.groupby(['month', 'day_of_week'])['num_orders'].mean().unstack()\n",
    "\n",
    "# Визуализация распределения заказов по дням недели в течение месяца\n",
    "plt.figure(figsize=(12, 6))\n",
    "sns.heatmap(monthly_daily_avg, cmap='YlGnBu', annot=True, fmt='.1f', cbar_kws={'label': 'Среднее количество заказов'})\n",
    "plt.title('Распределение заказов по дням недели в течение месяца')\n",
    "plt.xlabel('День недели (0=Пн, 6=Вс)')\n",
    "plt.ylabel('Месяц')\n",
    "plt.xticks(ticks=range(7), labels=['Пн', 'Вт', 'Ср', 'Чт', 'Пт', 'Сб', 'Вс'])\n",
    "plt.grid(False)\n",
    "plt.show()\n",
    "\n",
    "# Среднее количество заказов по месяцам\n",
    "monthly_avg = df.groupby('month')['num_orders'].mean()\n",
    "\n",
    "# Визуализация среднего количества заказов по месяцам\n",
    "plt.figure(figsize=(12, 6))\n",
    "plt.bar(monthly_avg.index, monthly_avg.values, color='purple', alpha=0.7)\n",
    "plt.title('Среднее количество заказов по месяцам')\n",
    "plt.xlabel('Месяц')\n",
    "plt.ylabel('Среднее количество заказов')\n",
    "plt.xticks(monthly_avg.index)  # Отображение всех месяцев\n",
    "plt.grid(axis='y')\n",
    "plt.show()\n",
    "\n"
   ]
  },
  {
   "cell_type": "markdown",
   "metadata": {},
   "source": [
    "<img src=\"https://upload.wikimedia.org/wikipedia/commons/b/ba/Warning_sign_4.0.png\" align=left width=44, heigth=33>\n",
    "<div class=\"alert alert-warning\">\n",
    "На мой взгляд ты немного торопишься с созданием календарных признаков. Я бы советовал исследовать сезонность и тренд используя seasonal_decompose и уже понимая, с какими данными мы работаем начать создавать признаки для машинного обучения.\n",
    "\n",
    "\n",
    "Дело в том, что делая  ручную группировку и агрегацию (суммирование/среднее) ты фактически повторяешь то, что делаетя под капотом seasonal_decompose.\n",
    "    \n",
    "Как работает seasonal_decompose:\n",
    "    \n",
    " - находит период, где сезонность наиболее выражена (в нашем случае он находит сутки)\n",
    " - находит тренд, как скользящее среднее по периоду сезонности\n",
    " - вычитает из данных тренд и производит группировку внутри периода сезоности.\n",
    "    \n",
    "    \n",
    "Фактически ты сделала то же самое для суток и недели, т.е. усреднением смогла показать профили суточной и недельной сезонности.\n",
    "    \n",
    "С случае с месяцами - ты фактически показала линию тренда.\n",
    "    \n",
    "    \n",
    "А вот с \"номер дня внутри месяца\" все очень неоднозначно.  На этом периоде (месяц) уже очень сильно влияние тренда. Поэтому то, что ты находишься якобы закономерность - количество поездок растет с начала месяца к концу - на самом деле такой закономерностью не является. Это тренд.\n",
    "    \n",
    "Если ты вначале уберешь его влияние, а затем попробуешь найти закономерность, то скорее всего ты её не найдешь.    \n",
    "\n",
    "    \n",
    "</div>"
   ]
  },
  {
   "cell_type": "code",
   "execution_count": 11,
   "metadata": {},
   "outputs": [
    {
     "data": {
      "image/png": "[encoded data removed]",
      "text/plain": [
       "<Figure size 864x432 with 1 Axes>"
      ]
     },
     "metadata": {
      "needs_background": "light"
     },
     "output_type": "display_data"
    }
   ],
   "source": [
    "# Среднее количество заказов по дням недели\n",
    "daily_avg = df.groupby('day_of_week')['num_orders'].mean()\n",
    "\n",
    "# Визуализация среднего количества заказов по дням недели\n",
    "plt.figure(figsize=(12, 6))\n",
    "plt.bar(daily_avg.index, daily_avg.values, color='green', alpha=0.7)\n",
    "plt.title('Среднее количество заказов по дням недели')\n",
    "plt.xlabel('День недели (0=Пн, 6=Вс)')\n",
    "plt.ylabel('Среднее количество заказов')\n",
    "plt.xticks(daily_avg.index)  # Отображение всех дней недели\n",
    "plt.grid(axis='y')\n",
    "plt.show()\n"
   ]
  },
  {
   "cell_type": "code",
   "execution_count": 12,
   "metadata": {},
   "outputs": [
    {
     "data": {
      "image/png": "[encoded data removed]",
      "text/plain": [
       "<Figure size 864x432 with 1 Axes>"
      ]
     },
     "metadata": {
      "needs_background": "light"
     },
     "output_type": "display_data"
    }
   ],
   "source": [
    "df['day_of_month'] = df.index.day  # День месяца\n",
    "\n",
    "# График распределения заказов по дням месяца\n",
    "daily_avg_month = df.groupby('day_of_month')['num_orders'].sum()\n",
    "\n",
    "# Визуализация распределения заказов по дням месяца\n",
    "plt.figure(figsize=(12, 6))\n",
    "plt.plot(daily_avg_month.index, daily_avg_month.values, marker='o', color='orange')\n",
    "plt.title('Распределение заказов по дням месяца')\n",
    "plt.xlabel('День месяца')\n",
    "plt.ylabel('Общее количество заказов')\n",
    "plt.xticks(daily_avg_month.index)  # Отображение всех дней месяца\n",
    "plt.grid()\n",
    "plt.show()"
   ]
  },
  {
   "cell_type": "code",
   "execution_count": 13,
   "metadata": {},
   "outputs": [
    {
     "data": {
      "image/png": "[encoded data removed]",
      "text/plain": [
       "<Figure size 1008x720 with 4 Axes>"
      ]
     },
     "metadata": {
      "needs_background": "light"
     },
     "output_type": "display_data"
    }
   ],
   "source": [
    "# Декомпозиция временного ряда\n",
    "decomposition = seasonal_decompose(data['num_orders'], model='additive')\n",
    "\n",
    "# Создание графиков\n",
    "fig, (ax1, ax2, ax3, ax4) = plt.subplots(4, 1, figsize=(14, 10))\n",
    "\n",
    "# Исходные данные\n",
    "ax1.plot(data.index, data['num_orders'], label='Исходные данные', color='blue')\n",
    "ax1.set_title('Исходные данные')\n",
    "ax1.set_ylabel('Количество заказов')\n",
    "ax1.legend()\n",
    "ax1.grid()\n",
    "\n",
    "# Тренд\n",
    "ax2.plot(decomposition.trend.index, decomposition.trend, label='Тренд', color='orange')\n",
    "ax2.set_title('Тренд')\n",
    "ax2.set_ylabel('Тренд')\n",
    "ax2.legend()\n",
    "ax2.grid()\n",
    "\n",
    "# Сезонность\n",
    "ax3.plot(decomposition.seasonal.index, decomposition.seasonal, label='Сезонность', color='green')\n",
    "ax3.set_title('Сезонные колебания')\n",
    "ax3.set_ylabel('Сезонность')\n",
    "ax3.legend()\n",
    "ax3.grid()\n",
    "\n",
    "# Остатки\n",
    "ax4.plot(decomposition.resid.index, decomposition.resid, label='Остатки', color='red')\n",
    "ax4.set_title('Остатки')\n",
    "ax4.set_ylabel('Остатки')\n",
    "ax4.legend()\n",
    "ax4.grid()\n",
    "\n",
    "# Настройка общего заголовка\n",
    "plt.suptitle('Декомпозиция временного ряда количества заказов такси', fontsize=16)\n",
    "plt.tight_layout(rect=[0, 0, 1, 0.96])  # Устранение наложения заголовка\n",
    "plt.show()\n"
   ]
  },
  {
   "cell_type": "markdown",
   "metadata": {},
   "source": [
    "<img src=\"https://emojigraph.org/media/apple/check-mark-button_2705.png\" align=left width=33, heigth=33>\n",
    "<div class=\"alert alert-success\">\n",
    " 👍 Есть декомпозиция на тренд и сезонность</div>"
   ]
  },
  {
   "cell_type": "markdown",
   "metadata": {},
   "source": [
    "Наблюдаются постепенно растущий тренд. \n",
    "В августе наблюдаются существенные выбросы остатков. "
   ]
  },
  {
   "cell_type": "code",
   "execution_count": 14,
   "metadata": {},
   "outputs": [
    {
     "data": {
      "image/png": "[encoded data removed]",
      "text/plain": [
       "<Figure size 864x360 with 1 Axes>"
      ]
     },
     "metadata": {
      "needs_background": "light"
     },
     "output_type": "display_data"
    }
   ],
   "source": [
    "# Построение графика сезонной компоненты\n",
    "plt.figure(figsize=(12, 5))\n",
    "decomposition.seasonal.plot()\n",
    "plt.xlim('2018-07-01', '2018-07-07')  \n",
    "plt.xlabel('Время') \n",
    "plt.ylabel('Сезонная компонента')\n",
    "plt.title('Сезонная компонента зависимости числа заказов такси от времени за неделю \\n') \n",
    "plt.grid()\n",
    "plt.show()"
   ]
  },
  {
   "cell_type": "markdown",
   "metadata": {},
   "source": [
    "<img src=\"https://emojigraph.org/media/apple/check-mark-button_2705.png\" align=left width=33, heigth=33>\n",
    "<div class=\"alert alert-success\">\n",
    " Да, именно ограничив количество выводимых значений можно \"полюбоваться\" на суточную сезонность во всей красе </div>"
   ]
  },
  {
   "cell_type": "markdown",
   "metadata": {},
   "source": [
    "<img src=\"https://emojigraph.org/media/apple/check-mark-button_2705.png\" align=left width=33, heigth=33>\n",
    "<div class=\"alert alert-success\">\n",
    " 👍 Совет: в данных кроме суточной есть недельная сезонность. Чтобы увидеть её нужно сделать ресемплинг данных по суткам и вновь сделать декомпозицию на сезонность и тренд. Дело в том, что seasonal_decompose настраивается на сезонность с самым маленьким циклом, при ресемпле данных по часу это сутки, при ресемпле по суткам это неделя. </div>"
   ]
  },
  {
   "cell_type": "code",
   "execution_count": 15,
   "metadata": {},
   "outputs": [
    {
     "data": {
      "image/png": "[encoded data removed]",
      "text/plain": [
       "<Figure size 1008x720 with 2 Axes>"
      ]
     },
     "metadata": {
      "needs_background": "light"
     },
     "output_type": "display_data"
    }
   ],
   "source": [
    "# Создание графиков ACF и PACF\n",
    "fig, ax = plt.subplots(2, 1, figsize=(14, 10))\n",
    "\n",
    "# Автокорреляция\n",
    "plot_acf(data['num_orders'], lags=50, ax=ax[0])\n",
    "ax[0].set_title('Автокорреляция (ACF)')\n",
    "ax[0].set_xlabel('Лаг')\n",
    "ax[0].set_ylabel('ACF')\n",
    "ax[0].grid()\n",
    "\n",
    "# Частичная автокорреляция\n",
    "plot_pacf(data['num_orders'], lags=50, ax=ax[1], method='ywm')\n",
    "ax[1].set_title('Частичная автокорреляция (PACF)')\n",
    "ax[1].set_xlabel('Лаг')\n",
    "ax[1].set_ylabel('PACF')\n",
    "ax[1].grid()\n",
    "\n",
    "# Показ графиков\n",
    "plt.tight_layout()\n",
    "plt.show()"
   ]
  },
  {
   "cell_type": "markdown",
   "metadata": {},
   "source": [
    "В течение суток наименьшее количество заказов фиксируется в 6 часов утра, в то время как наибольшее наблюдается в полночь. Между этими крайними значениями можно заметить выраженные пики: максимумы приходятся на 10 утра и 16 часов дня, а минимумы — на полдень и 18 часов вечера.\n",
    "\n",
    "Что касается недельного графика, то активность заказов значительно снижается во вторник и воскресенье, при этом наблюдается стабильный рост к максимумам в понедельник и пятницу.\n",
    "\n",
    "В течение месяца количество заказов, как правило, увеличивается от начала к концу, с минимальным значением на 5 число и максимальным на 30 число.\n",
    "\n",
    "Кроме того, на протяжении нескольких месяцев наблюдается общий рост числа заказов.\n",
    "\n",
    "На основе анализа ACF можно предположить, что временной ряд имеет долгосрочные зависимости, что может указывать на необходимость использования моделей, учитывающих такие зависимости.\n",
    "Анализ PACF показывает, что значимые зависимости в основном находятся на первых нескольких лагах, что может указывать на возможность использования простых авторегрессионных моделей."
   ]
  },
  {
   "cell_type": "markdown",
   "metadata": {},
   "source": [
    "<img src=\"https://emojigraph.org/media/apple/check-mark-button_2705.png\" align=left width=33, heigth=33>\n",
    "<div class=\"alert alert-success\">\n",
    " 👍 На самом деле там есть заметный подъем на 168, что может подтверждать интуитивные догадки о наличии недельной сезонности.</div>"
   ]
  },
  {
   "cell_type": "markdown",
   "metadata": {},
   "source": [
    "**Анализ сдвигов и скользящих средних**"
   ]
  },
  {
   "cell_type": "code",
   "execution_count": 16,
   "metadata": {},
   "outputs": [],
   "source": [
    "# Создание аналитического датафрейма\n",
    "data_analysis = data.copy()"
   ]
  },
  {
   "cell_type": "code",
   "execution_count": 17,
   "metadata": {},
   "outputs": [],
   "source": [
    "# Функция для создания новых признаков путем сдвига\n",
    "def shift(data, target, start, finish, step): \n",
    "    for i in range(start, finish, step): \n",
    "        string = 'shift_' + str(i) \n",
    "        data[string] = data[target].shift(i)\n",
    "    return data\n",
    "\n",
    "# Функция для создания новых признаков со скользящими средними с сдвигом на 1 час\n",
    "def rolling_mean_shift(data, target, start, finish, step): \n",
    "    for i in range(start, finish, step): \n",
    "        string = 'rolling_mean_' + str(i) + '_shift_1' \n",
    "        data[string] = data[target].shift().rolling(i).mean()\n",
    "    return data\n",
    "\n",
    "# Функция для создания новых признаков со скользящими средними\n",
    "def rolling_mean(data, target, start, finish, step): \n",
    "    for i in range(start, finish, step): \n",
    "        string = 'rolling_mean_' + str(i) \n",
    "        data[string] = data[target].rolling(i).mean()\n",
    "    return data"
   ]
  },
  {
   "cell_type": "code",
   "execution_count": 18,
   "metadata": {},
   "outputs": [
    {
     "name": "stdout",
     "output_type": "stream",
     "text": [
      "RMSE shift_1 = 39.3029\n",
      "RMSE shift_2 = 46.9458\n",
      "RMSE shift_3 = 52.9526\n",
      "RMSE shift_4 = 55.6349\n",
      "RMSE shift_5 = 56.2334\n",
      "RMSE shift_6 = 55.8674\n",
      "RMSE shift_7 = 53.8742\n",
      "RMSE shift_8 = 53.0908\n",
      "RMSE shift_9 = 54.6252\n",
      "RMSE shift_10 = 54.8890\n",
      "RMSE shift_11 = 52.7858\n",
      "RMSE shift_12 = 52.1045\n",
      "RMSE shift_13 = 52.8800\n",
      "RMSE shift_14 = 54.9699\n",
      "RMSE shift_15 = 55.7880\n",
      "RMSE shift_16 = 54.3548\n",
      "RMSE shift_17 = 55.0521\n",
      "RMSE shift_18 = 56.6988\n",
      "RMSE shift_19 = 57.2117\n",
      "RMSE shift_20 = 56.4578\n",
      "RMSE shift_21 = 54.7686\n",
      "RMSE shift_22 = 49.2501\n",
      "RMSE shift_23 = 42.4254\n",
      "RMSE shift_24 = 35.3994\n",
      "RMSE shift_48 = 33.2295\n",
      "RMSE shift_72 = 34.1122\n",
      "RMSE shift_96 = 34.1557\n",
      "RMSE shift_120 = 33.2987\n",
      "RMSE shift_144 = 36.1125\n",
      "RMSE shift_168 = 27.5739\n"
     ]
    }
   ],
   "source": [
    "# Сдвиг с разным количеством часов\n",
    "data_analysis = shift(data_analysis, 'num_orders', 1, 25, 1)\n",
    "data_analysis = shift(data_analysis, 'num_orders', 48, 169, 24) \n",
    "\n",
    "# Скользящее среднее со сдвигом в 1 час и окном 168 часов\n",
    "data_analysis = rolling_mean_shift(data_analysis, 'num_orders', 168, 168, 1) \n",
    "\n",
    "# Удаление объектов с пустыми значениями\n",
    "data_analysis = data_analysis.dropna() \n",
    "\n",
    "# Вывод RMSE для сдвигов и скользящих средних\n",
    "rmse_results = {}\n",
    "for column in data_analysis.columns:\n",
    "    if column != 'num_orders':\n",
    "        rmse = mean_squared_error(\n",
    "            data_analysis[column], \n",
    "            data_analysis['num_orders'], \n",
    "            squared=False\n",
    "        )\n",
    "        rmse_results[column] = rmse\n",
    "        print(f'RMSE {column} = {rmse:.4f}')  \n",
    "\n",
    "# Удаление не востребованной переменной\n",
    "del data_analysis"
   ]
  },
  {
   "cell_type": "markdown",
   "metadata": {},
   "source": [
    "<img src=\"https://emojigraph.org/media/apple/check-mark-button_2705.png\" align=left width=33, heigth=33>\n",
    "<div class=\"alert alert-success\">\n",
    " 👍 Да, в каком-то смысле сейчас получена оценка бейзлайна (предсказание данными за предыдущие сутки / предыдущую неделю). \n",
    "\n",
    "Единственное, что мы получаем оценку на всем датафрейме (а не на тестовых данных).\n",
    "    \n",
    "Но выводы - \"чем больше отстающих значений тем потенциально лучшее качество модели\" совершенно верные.    \n",
    "</div>"
   ]
  },
  {
   "cell_type": "markdown",
   "metadata": {},
   "source": [
    "Долгосрочные сдвиги (48-168) показывают, что данные за более длительные промежутки времени лучше предсказывают текущее количество заказов. "
   ]
  },
  {
   "cell_type": "markdown",
   "metadata": {},
   "source": [
    "## Обучение"
   ]
  },
  {
   "cell_type": "code",
   "execution_count": 19,
   "metadata": {},
   "outputs": [],
   "source": [
    "# Функция подготовки данных\n",
    "def data_preprocessing(data, target_name):\n",
    "    features = data.drop([target_name], axis=1)\n",
    "    target = data[target_name]\n",
    "    features_train, features_test, target_train, target_test = train_test_split(\n",
    "        features, target, test_size=0.1, shuffle=False, random_state=STATE\n",
    "    )\n",
    "    return features_train, features_test, target_train, target_test"
   ]
  },
  {
   "cell_type": "code",
   "execution_count": 20,
   "metadata": {},
   "outputs": [],
   "source": [
    "# Функция для подбора модели и параметров\n",
    "def model_selection(features_train, target_train, model_params):\n",
    "    start_time = time.time()\n",
    "    \n",
    "    # Пайплайн\n",
    "    pipe = Pipeline([\n",
    "        ('preprocessor', make_column_transformer((make_pipeline(StandardScaler()), features_train.columns))),\n",
    "        ('regressor', model_params[0]['regressor'][0])\n",
    "    ])\n",
    "    \n",
    "    rmse_scorer = make_scorer(mean_squared_error, squared=False)\n",
    "    tscv = TimeSeriesSplit(n_splits=5)\n",
    "    \n",
    "    grid = GridSearchCV(pipe, model_params, cv=tscv, n_jobs=-1, scoring=rmse_scorer)\n",
    "    grid.fit(features_train, target_train)\n",
    "    \n",
    "    return grid, time.time() - start_time"
   ]
  },
  {
   "cell_type": "markdown",
   "metadata": {},
   "source": [
    "<img src=\"https://upload.wikimedia.org/wikipedia/commons/b/ba/Warning_sign_4.0.png\" align=left width=44, heigth=33>\n",
    "<div class=\"alert alert-warning\">\n",
    "Переменные должны точно отображать свое содержимое, только так мы можем подерживать \"порядок\" в коде.  В переменной smape_score содержится rmse, что непорядок.\n",
    "</div>"
   ]
  },
  {
   "cell_type": "markdown",
   "metadata": {},
   "source": [
    "<div class=\"alert\" style=\"background-color:#ead7f7;color:#8737bf\">\n",
    "    <font size=\"3\"><b>образец комментария студента</b></font>\n",
    "   \n",
    "Исправила</div>"
   ]
  },
  {
   "cell_type": "markdown",
   "metadata": {},
   "source": [
    "<img src=\"https://emojigraph.org/media/apple/check-mark-button_2705.png\" align=left width=33, heigth=33>\n",
    "<div class=\"alert alert-success\">\n",
    "    <b>v2</b> 👍 </div>"
   ]
  },
  {
   "cell_type": "code",
   "execution_count": 21,
   "metadata": {},
   "outputs": [],
   "source": [
    "# Функция для вывода результатов\n",
    "def print_model_result(grid, time_taken, model_name):\n",
    "    print(f'Модель   : {model_name}')\n",
    "    print(f'RMSE     : {grid.best_score_}')\n",
    "    print(f'Время    : {time_taken} секунд')\n",
    "    print(f'Параметры:\\n {grid.best_estimator_}\\n{\"-\"*20}\\n')\n",
    "\n",
    "# Общая функция для подбора моделей\n",
    "def grids_model(features_train, target_train, model_name, model_class, params):\n",
    "    grid, time_best = model_selection(features_train, target_train, params)\n",
    "    return grid, time_best"
   ]
  },
  {
   "cell_type": "code",
   "execution_count": 22,
   "metadata": {},
   "outputs": [],
   "source": [
    "def run_models(features_train, target_train):\n",
    "    grids = []\n",
    "    times = []  # Список для хранения времени выполнения\n",
    "    \n",
    "    # Linear Regression\n",
    "    grid, time_best = grids_model(features_train, target_train, \"Linear Regression\", LinearRegression, [{'regressor': [LinearRegression()]}])\n",
    "    grids.append(grid)\n",
    "    times.append(time_best)\n",
    "    \n",
    "    # Decision Tree Regressor\n",
    "    grid, time_best = grids_model(features_train, target_train, \"Decision Tree Regressor\", DecisionTreeRegressor, [{\n",
    "        'regressor': [DecisionTreeRegressor(random_state=STATE)],\n",
    "        'regressor__max_depth': range(1, 201, 20)\n",
    "    }])\n",
    "    grids.append(grid)\n",
    "    times.append(time_best)\n",
    "    \n",
    "    # Random Forest Regressor\n",
    "    grid, time_best = grids_model(features_train, target_train, \"Random Forest Regressor\", RandomForestRegressor, [{\n",
    "        'regressor': [RandomForestRegressor(random_state=STATE)],\n",
    "        'regressor__max_depth': range(20, 61, 20),\n",
    "        'regressor__n_estimators': range(10, 31, 10)\n",
    "    }])\n",
    "    grids.append(grid)\n",
    "    times.append(time_best)\n",
    "    \n",
    "    # CatBoost Regressor\n",
    "    grid, time_best = grids_model(features_train, target_train, \"CatBoost Regressor\", CatBoostRegressor, [{\n",
    "        'regressor': [CatBoostRegressor(verbose=0)]\n",
    "    }])\n",
    "    grids.append(grid)\n",
    "    times.append(time_best)\n",
    "    \n",
    "    return grids, times \n"
   ]
  },
  {
   "cell_type": "code",
   "execution_count": 23,
   "metadata": {},
   "outputs": [],
   "source": [
    "# Дополнение датафрейма признаками для предсказания\n",
    "data = shift(data, 'num_orders', 1, 2, 1) \n",
    "data = shift(data, 'num_orders', 1, 13, 11)\n",
    "data = shift(data, 'num_orders', 24, 169, 24) \n",
    "# Удаление объектов с пропусками\n",
    "data = data.dropna()"
   ]
  },
  {
   "cell_type": "markdown",
   "metadata": {},
   "source": [
    "<img src=\"https://upload.wikimedia.org/wikipedia/commons/thumb/8/81/Stop_sign.png/240px-Stop_sign.png\" align=left width=35, heigth=35>\n",
    "<div class=\"alert alert-danger\">\n",
    "Я согласен, что отстающие значения представляют очень высокую ценность. Однако, в теории мы изучали и другие признаки - календарные, скользящее среднее.\n",
    "    \n",
    "Пожалуйста используй и другие признаки, кроме уже используемых отстающих значений.    \n",
    "    \n",
    "    \n",
    "Важно: не все календарные признаки подходят, пожалуйста хорошо подумай какие нужно добавить а какие будут лишними.    \n",
    "</div>"
   ]
  },
  {
   "cell_type": "markdown",
   "metadata": {},
   "source": [
    "<img src=\"https://emojigraph.org/media/apple/check-mark-button_2705.png\" align=left width=33, heigth=33>\n",
    "<div class=\"alert alert-success\">\n",
    "    <b>v2</b> 👍 </div>"
   ]
  },
  {
   "cell_type": "code",
   "execution_count": 24,
   "metadata": {},
   "outputs": [
    {
     "data": {
      "text/html": [
       "<div>\n",
       "<style scoped>\n",
       "    .dataframe tbody tr th:only-of-type {\n",
       "        vertical-align: middle;\n",
       "    }\n",
       "\n",
       "    .dataframe tbody tr th {\n",
       "        vertical-align: top;\n",
       "    }\n",
       "\n",
       "    .dataframe thead th {\n",
       "        text-align: right;\n",
       "    }\n",
       "</style>\n",
       "<table border=\"1\" class=\"dataframe\">\n",
       "  <thead>\n",
       "    <tr style=\"text-align: right;\">\n",
       "      <th></th>\n",
       "      <th>num_orders</th>\n",
       "      <th>shift_1</th>\n",
       "      <th>shift_12</th>\n",
       "      <th>shift_24</th>\n",
       "      <th>shift_48</th>\n",
       "      <th>shift_72</th>\n",
       "      <th>shift_96</th>\n",
       "      <th>shift_120</th>\n",
       "      <th>shift_144</th>\n",
       "      <th>shift_168</th>\n",
       "      <th>hour</th>\n",
       "      <th>day_of_week</th>\n",
       "    </tr>\n",
       "    <tr>\n",
       "      <th>datetime</th>\n",
       "      <th></th>\n",
       "      <th></th>\n",
       "      <th></th>\n",
       "      <th></th>\n",
       "      <th></th>\n",
       "      <th></th>\n",
       "      <th></th>\n",
       "      <th></th>\n",
       "      <th></th>\n",
       "      <th></th>\n",
       "      <th></th>\n",
       "      <th></th>\n",
       "    </tr>\n",
       "  </thead>\n",
       "  <tbody>\n",
       "    <tr>\n",
       "      <th>2018-03-08 00:00:00</th>\n",
       "      <td>143</td>\n",
       "      <td>94.0</td>\n",
       "      <td>34.0</td>\n",
       "      <td>100.0</td>\n",
       "      <td>42.0</td>\n",
       "      <td>86.0</td>\n",
       "      <td>75.0</td>\n",
       "      <td>163.0</td>\n",
       "      <td>90.0</td>\n",
       "      <td>124.0</td>\n",
       "      <td>0</td>\n",
       "      <td>3</td>\n",
       "    </tr>\n",
       "    <tr>\n",
       "      <th>2018-03-08 01:00:00</th>\n",
       "      <td>78</td>\n",
       "      <td>143.0</td>\n",
       "      <td>55.0</td>\n",
       "      <td>121.0</td>\n",
       "      <td>75.0</td>\n",
       "      <td>176.0</td>\n",
       "      <td>60.0</td>\n",
       "      <td>108.0</td>\n",
       "      <td>120.0</td>\n",
       "      <td>85.0</td>\n",
       "      <td>1</td>\n",
       "      <td>3</td>\n",
       "    </tr>\n",
       "    <tr>\n",
       "      <th>2018-03-08 02:00:00</th>\n",
       "      <td>65</td>\n",
       "      <td>78.0</td>\n",
       "      <td>43.0</td>\n",
       "      <td>24.0</td>\n",
       "      <td>36.0</td>\n",
       "      <td>32.0</td>\n",
       "      <td>26.0</td>\n",
       "      <td>25.0</td>\n",
       "      <td>75.0</td>\n",
       "      <td>71.0</td>\n",
       "      <td>2</td>\n",
       "      <td>3</td>\n",
       "    </tr>\n",
       "    <tr>\n",
       "      <th>2018-03-08 03:00:00</th>\n",
       "      <td>68</td>\n",
       "      <td>65.0</td>\n",
       "      <td>51.0</td>\n",
       "      <td>66.0</td>\n",
       "      <td>49.0</td>\n",
       "      <td>51.0</td>\n",
       "      <td>42.0</td>\n",
       "      <td>64.0</td>\n",
       "      <td>64.0</td>\n",
       "      <td>66.0</td>\n",
       "      <td>3</td>\n",
       "      <td>3</td>\n",
       "    </tr>\n",
       "    <tr>\n",
       "      <th>2018-03-08 04:00:00</th>\n",
       "      <td>60</td>\n",
       "      <td>68.0</td>\n",
       "      <td>46.0</td>\n",
       "      <td>73.0</td>\n",
       "      <td>30.0</td>\n",
       "      <td>34.0</td>\n",
       "      <td>27.0</td>\n",
       "      <td>44.0</td>\n",
       "      <td>20.0</td>\n",
       "      <td>43.0</td>\n",
       "      <td>4</td>\n",
       "      <td>3</td>\n",
       "    </tr>\n",
       "  </tbody>\n",
       "</table>\n",
       "</div>"
      ],
      "text/plain": [
       "                     num_orders  shift_1  shift_12  shift_24  shift_48  \\\n",
       "datetime                                                                 \n",
       "2018-03-08 00:00:00         143     94.0      34.0     100.0      42.0   \n",
       "2018-03-08 01:00:00          78    143.0      55.0     121.0      75.0   \n",
       "2018-03-08 02:00:00          65     78.0      43.0      24.0      36.0   \n",
       "2018-03-08 03:00:00          68     65.0      51.0      66.0      49.0   \n",
       "2018-03-08 04:00:00          60     68.0      46.0      73.0      30.0   \n",
       "\n",
       "                     shift_72  shift_96  shift_120  shift_144  shift_168  \\\n",
       "datetime                                                                   \n",
       "2018-03-08 00:00:00      86.0      75.0      163.0       90.0      124.0   \n",
       "2018-03-08 01:00:00     176.0      60.0      108.0      120.0       85.0   \n",
       "2018-03-08 02:00:00      32.0      26.0       25.0       75.0       71.0   \n",
       "2018-03-08 03:00:00      51.0      42.0       64.0       64.0       66.0   \n",
       "2018-03-08 04:00:00      34.0      27.0       44.0       20.0       43.0   \n",
       "\n",
       "                     hour  day_of_week  \n",
       "datetime                                \n",
       "2018-03-08 00:00:00     0            3  \n",
       "2018-03-08 01:00:00     1            3  \n",
       "2018-03-08 02:00:00     2            3  \n",
       "2018-03-08 03:00:00     3            3  \n",
       "2018-03-08 04:00:00     4            3  "
      ]
     },
     "execution_count": 24,
     "metadata": {},
     "output_type": "execute_result"
    }
   ],
   "source": [
    "data['hour'] = data.index.hour\n",
    "data['day_of_week'] = data.index.dayofweek\n",
    "\n",
    "data.head()"
   ]
  },
  {
   "cell_type": "markdown",
   "metadata": {},
   "source": [
    "<div class=\"alert\" style=\"background-color:#ead7f7;color:#8737bf\">\n",
    "    <font size=\"3\"><b>образец комментария студента</b></font>\n",
    "   \n",
    "Исправила\n",
    "\n",
    "</div>"
   ]
  },
  {
   "cell_type": "markdown",
   "metadata": {},
   "source": [
    "<img src=\"https://emojigraph.org/media/apple/check-mark-button_2705.png\" align=left width=33, heigth=33>\n",
    "<div class=\"alert alert-success\">  <b>v2</b> \n",
    "👍 Хорошо, что в признаки ты выносишь час, у нас четкая сезонность внутри суток.\n",
    "Также очень полезный признак день недели, в данных есть недельная сезонность.\n",
    "        \n",
    "</div>"
   ]
  },
  {
   "cell_type": "markdown",
   "metadata": {},
   "source": [
    "<img src=\"https://upload.wikimedia.org/wikipedia/commons/thumb/8/81/Stop_sign.png/240px-Stop_sign.png\" align=left width=35, heigth=35>\n",
    "<div class=\"alert alert-danger\">  <b>v2</b> \n",
    "А вот календарный признак \"месяц\" нужно удалить.  Данных у нас немного, всего 6 месяцев. При этом данные тренда мы учтем с помощью скользящего среднего и отстающих значений.\n",
    "</div>\n"
   ]
  },
  {
   "cell_type": "markdown",
   "metadata": {},
   "source": [
    "<div class=\"alert\" style=\"background-color:#ead7f7;color:#8737bf\">\n",
    "    <font size=\"3\"><b>образец комментария студента</b></font>\n",
    "   \n",
    "Исправила\n",
    "\n",
    "</div>"
   ]
  },
  {
   "cell_type": "markdown",
   "metadata": {},
   "source": [
    "<img src=\"https://emojigraph.org/media/apple/check-mark-button_2705.png\" align=left width=33, heigth=33>\n",
    "<div class=\"alert alert-success\">\n",
    "<b>v3</b> 👍 </div>"
   ]
  },
  {
   "cell_type": "markdown",
   "metadata": {},
   "source": [
    "<img src=\"https://upload.wikimedia.org/wikipedia/commons/b/ba/Warning_sign_4.0.png\" align=left width=44, heigth=33>\n",
    "<div class=\"alert alert-warning\">\n",
    " <b>v2</b>  \n",
    "    \n",
    " Для линейных моделей стоит  рассмотреть признаки \"час\" и \"день недели\" как категориальные, а не числовые и соответственно применить к ним OHE кодирование (конечно же с использованием pipeline и ColumnTransformer)\n",
    "    \n",
    "</div>"
   ]
  },
  {
   "cell_type": "code",
   "execution_count": 25,
   "metadata": {},
   "outputs": [],
   "source": [
    "correlation_matrix = data.corr()"
   ]
  },
  {
   "cell_type": "code",
   "execution_count": 26,
   "metadata": {},
   "outputs": [
    {
     "data": {
      "image/png": "[encoded data removed]",
      "text/plain": [
       "<Figure size 864x720 with 2 Axes>"
      ]
     },
     "metadata": {
      "needs_background": "light"
     },
     "output_type": "display_data"
    }
   ],
   "source": [
    "# Создаем график корреляции\n",
    "plt.figure(figsize=(12, 10))  \n",
    "sns.heatmap(correlation_matrix, \n",
    "            annot=True, \n",
    "            fmt=\".2f\", \n",
    "            cmap='coolwarm', \n",
    "            square=True, \n",
    "            cbar_kws={\"shrink\": .8}, \n",
    "            linewidths=0.5,  \n",
    "            linecolor='black',  \n",
    "            annot_kws={\"size\": 10})  \n",
    "\n",
    "plt.title('Корреляционная матрица', fontsize=16)\n",
    "plt.xlabel('Переменные', fontsize=12)\n",
    "plt.ylabel('Переменные', fontsize=12)\n",
    "\n",
    "plt.xticks(rotation=45, ha='right')  \n",
    "plt.yticks(rotation=0)  \n",
    "\n",
    "plt.tight_layout() \n",
    "plt.show()"
   ]
  },
  {
   "cell_type": "markdown",
   "metadata": {},
   "source": [
    "<img src=\"https://upload.wikimedia.org/wikipedia/commons/b/ba/Warning_sign_4.0.png\" align=left width=44, heigth=33>\n",
    "<div class=\"alert alert-warning\">\n",
    "Вот это точно делать не стоит... Это же наоборот \"золотая фича\", способная дать очень много полезной информации. Зачем же её выкидывать?\n",
    "\n",
    "</div>"
   ]
  },
  {
   "cell_type": "markdown",
   "metadata": {},
   "source": [
    "<div class=\"alert\" style=\"background-color:#ead7f7;color:#8737bf\">\n",
    "    <font size=\"3\"><b>образец комментария студента</b></font>\n",
    "   \n",
    "Исправила\n",
    "\n",
    "</div>"
   ]
  },
  {
   "cell_type": "markdown",
   "metadata": {},
   "source": [
    "<img src=\"https://emojigraph.org/media/apple/check-mark-button_2705.png\" align=left width=33, heigth=33>\n",
    "<div class=\"alert alert-success\">\n",
    "    <b>v2</b> 👍 </div>"
   ]
  },
  {
   "cell_type": "code",
   "execution_count": 27,
   "metadata": {},
   "outputs": [
    {
     "name": "stdout",
     "output_type": "stream",
     "text": [
      "<class 'pandas.core.frame.DataFrame'>\n",
      "DatetimeIndex: 3823 entries, 2018-03-08 00:00:00 to 2018-08-14 06:00:00\n",
      "Freq: H\n",
      "Data columns (total 11 columns):\n",
      " #   Column       Non-Null Count  Dtype  \n",
      "---  ------       --------------  -----  \n",
      " 0   shift_1      3823 non-null   float64\n",
      " 1   shift_12     3823 non-null   float64\n",
      " 2   shift_24     3823 non-null   float64\n",
      " 3   shift_48     3823 non-null   float64\n",
      " 4   shift_72     3823 non-null   float64\n",
      " 5   shift_96     3823 non-null   float64\n",
      " 6   shift_120    3823 non-null   float64\n",
      " 7   shift_144    3823 non-null   float64\n",
      " 8   shift_168    3823 non-null   float64\n",
      " 9   hour         3823 non-null   int64  \n",
      " 10  day_of_week  3823 non-null   int64  \n",
      "dtypes: float64(9), int64(2)\n",
      "memory usage: 358.4 KB\n"
     ]
    }
   ],
   "source": [
    "# Разделение обучающего датафрейма на целевую и нецелевую выборку\n",
    "features_train,  features_test, target_train, target_test = data_preprocessing(data, 'num_orders')\n",
    "features_train.info()"
   ]
  },
  {
   "cell_type": "code",
   "execution_count": 28,
   "metadata": {},
   "outputs": [
    {
     "data": {
      "text/html": [
       "<div>\n",
       "<style scoped>\n",
       "    .dataframe tbody tr th:only-of-type {\n",
       "        vertical-align: middle;\n",
       "    }\n",
       "\n",
       "    .dataframe tbody tr th {\n",
       "        vertical-align: top;\n",
       "    }\n",
       "\n",
       "    .dataframe thead th {\n",
       "        text-align: right;\n",
       "    }\n",
       "</style>\n",
       "<table border=\"1\" class=\"dataframe\">\n",
       "  <thead>\n",
       "    <tr style=\"text-align: right;\">\n",
       "      <th></th>\n",
       "      <th>shift_1</th>\n",
       "      <th>shift_12</th>\n",
       "      <th>shift_24</th>\n",
       "      <th>shift_48</th>\n",
       "      <th>shift_72</th>\n",
       "      <th>shift_96</th>\n",
       "      <th>shift_120</th>\n",
       "      <th>shift_144</th>\n",
       "      <th>shift_168</th>\n",
       "      <th>hour</th>\n",
       "      <th>day_of_week</th>\n",
       "    </tr>\n",
       "    <tr>\n",
       "      <th>datetime</th>\n",
       "      <th></th>\n",
       "      <th></th>\n",
       "      <th></th>\n",
       "      <th></th>\n",
       "      <th></th>\n",
       "      <th></th>\n",
       "      <th></th>\n",
       "      <th></th>\n",
       "      <th></th>\n",
       "      <th></th>\n",
       "      <th></th>\n",
       "    </tr>\n",
       "  </thead>\n",
       "  <tbody>\n",
       "    <tr>\n",
       "      <th>2018-03-08 00:00:00</th>\n",
       "      <td>94.0</td>\n",
       "      <td>34.0</td>\n",
       "      <td>100.0</td>\n",
       "      <td>42.0</td>\n",
       "      <td>86.0</td>\n",
       "      <td>75.0</td>\n",
       "      <td>163.0</td>\n",
       "      <td>90.0</td>\n",
       "      <td>124.0</td>\n",
       "      <td>0</td>\n",
       "      <td>3</td>\n",
       "    </tr>\n",
       "    <tr>\n",
       "      <th>2018-03-08 01:00:00</th>\n",
       "      <td>143.0</td>\n",
       "      <td>55.0</td>\n",
       "      <td>121.0</td>\n",
       "      <td>75.0</td>\n",
       "      <td>176.0</td>\n",
       "      <td>60.0</td>\n",
       "      <td>108.0</td>\n",
       "      <td>120.0</td>\n",
       "      <td>85.0</td>\n",
       "      <td>1</td>\n",
       "      <td>3</td>\n",
       "    </tr>\n",
       "    <tr>\n",
       "      <th>2018-03-08 02:00:00</th>\n",
       "      <td>78.0</td>\n",
       "      <td>43.0</td>\n",
       "      <td>24.0</td>\n",
       "      <td>36.0</td>\n",
       "      <td>32.0</td>\n",
       "      <td>26.0</td>\n",
       "      <td>25.0</td>\n",
       "      <td>75.0</td>\n",
       "      <td>71.0</td>\n",
       "      <td>2</td>\n",
       "      <td>3</td>\n",
       "    </tr>\n",
       "    <tr>\n",
       "      <th>2018-03-08 03:00:00</th>\n",
       "      <td>65.0</td>\n",
       "      <td>51.0</td>\n",
       "      <td>66.0</td>\n",
       "      <td>49.0</td>\n",
       "      <td>51.0</td>\n",
       "      <td>42.0</td>\n",
       "      <td>64.0</td>\n",
       "      <td>64.0</td>\n",
       "      <td>66.0</td>\n",
       "      <td>3</td>\n",
       "      <td>3</td>\n",
       "    </tr>\n",
       "    <tr>\n",
       "      <th>2018-03-08 04:00:00</th>\n",
       "      <td>68.0</td>\n",
       "      <td>46.0</td>\n",
       "      <td>73.0</td>\n",
       "      <td>30.0</td>\n",
       "      <td>34.0</td>\n",
       "      <td>27.0</td>\n",
       "      <td>44.0</td>\n",
       "      <td>20.0</td>\n",
       "      <td>43.0</td>\n",
       "      <td>4</td>\n",
       "      <td>3</td>\n",
       "    </tr>\n",
       "  </tbody>\n",
       "</table>\n",
       "</div>"
      ],
      "text/plain": [
       "                     shift_1  shift_12  shift_24  shift_48  shift_72  \\\n",
       "datetime                                                               \n",
       "2018-03-08 00:00:00     94.0      34.0     100.0      42.0      86.0   \n",
       "2018-03-08 01:00:00    143.0      55.0     121.0      75.0     176.0   \n",
       "2018-03-08 02:00:00     78.0      43.0      24.0      36.0      32.0   \n",
       "2018-03-08 03:00:00     65.0      51.0      66.0      49.0      51.0   \n",
       "2018-03-08 04:00:00     68.0      46.0      73.0      30.0      34.0   \n",
       "\n",
       "                     shift_96  shift_120  shift_144  shift_168  hour  \\\n",
       "datetime                                                               \n",
       "2018-03-08 00:00:00      75.0      163.0       90.0      124.0     0   \n",
       "2018-03-08 01:00:00      60.0      108.0      120.0       85.0     1   \n",
       "2018-03-08 02:00:00      26.0       25.0       75.0       71.0     2   \n",
       "2018-03-08 03:00:00      42.0       64.0       64.0       66.0     3   \n",
       "2018-03-08 04:00:00      27.0       44.0       20.0       43.0     4   \n",
       "\n",
       "                     day_of_week  \n",
       "datetime                          \n",
       "2018-03-08 00:00:00            3  \n",
       "2018-03-08 01:00:00            3  \n",
       "2018-03-08 02:00:00            3  \n",
       "2018-03-08 03:00:00            3  \n",
       "2018-03-08 04:00:00            3  "
      ]
     },
     "execution_count": 28,
     "metadata": {},
     "output_type": "execute_result"
    }
   ],
   "source": [
    "features_train.head()"
   ]
  },
  {
   "cell_type": "code",
   "execution_count": 29,
   "metadata": {},
   "outputs": [
    {
     "name": "stdout",
     "output_type": "stream",
     "text": [
      "Модель   : LinearRegression\n",
      "RMSE     : 22.138957194489695\n",
      "Время    : 0.12178516387939453 секунд\n",
      "Параметры:\n",
      " Pipeline(steps=[('preprocessor',\n",
      "                 ColumnTransformer(transformers=[('pipeline',\n",
      "                                                  Pipeline(steps=[('standardscaler',\n",
      "                                                                   StandardScaler())]),\n",
      "                                                  Index(['shift_1', 'shift_12', 'shift_24', 'shift_48', 'shift_72', 'shift_96',\n",
      "       'shift_120', 'shift_144', 'shift_168', 'hour', 'day_of_week'],\n",
      "      dtype='object'))])),\n",
      "                ('regressor', LinearRegression())])\n",
      "--------------------\n",
      "\n",
      "Модель   : DecisionTreeRegressor\n",
      "RMSE     : 32.863021569624365\n",
      "Время    : 1.3271124362945557 секунд\n",
      "Параметры:\n",
      " Pipeline(steps=[('preprocessor',\n",
      "                 ColumnTransformer(transformers=[('pipeline',\n",
      "                                                  Pipeline(steps=[('standardscaler',\n",
      "                                                                   StandardScaler())]),\n",
      "                                                  Index(['shift_1', 'shift_12', 'shift_24', 'shift_48', 'shift_72', 'shift_96',\n",
      "       'shift_120', 'shift_144', 'shift_168', 'hour', 'day_of_week'],\n",
      "      dtype='object'))])),\n",
      "                ('regressor',\n",
      "                 DecisionTreeRegressor(max_depth=1, random_state=42))])\n",
      "--------------------\n",
      "\n",
      "Модель   : RandomForestRegressor\n",
      "RMSE     : 23.879450983407143\n",
      "Время    : 9.786632299423218 секунд\n",
      "Параметры:\n",
      " Pipeline(steps=[('preprocessor',\n",
      "                 ColumnTransformer(transformers=[('pipeline',\n",
      "                                                  Pipeline(steps=[('standardscaler',\n",
      "                                                                   StandardScaler())]),\n",
      "                                                  Index(['shift_1', 'shift_12', 'shift_24', 'shift_48', 'shift_72', 'shift_96',\n",
      "       'shift_120', 'shift_144', 'shift_168', 'hour', 'day_of_week'],\n",
      "      dtype='object'))])),\n",
      "                ('regressor',\n",
      "                 RandomForestRegressor(max_depth=40, n_estimators=10,\n",
      "                                       random_state=42))])\n",
      "--------------------\n",
      "\n",
      "Модель   : CatBoostRegressor\n",
      "RMSE     : 23.157123804270633\n",
      "Время    : 14.399150371551514 секунд\n",
      "Параметры:\n",
      " Pipeline(steps=[('preprocessor',\n",
      "                 ColumnTransformer(transformers=[('pipeline',\n",
      "                                                  Pipeline(steps=[('standardscaler',\n",
      "                                                                   StandardScaler())]),\n",
      "                                                  Index(['shift_1', 'shift_12', 'shift_24', 'shift_48', 'shift_72', 'shift_96',\n",
      "       'shift_120', 'shift_144', 'shift_168', 'hour', 'day_of_week'],\n",
      "      dtype='object'))])),\n",
      "                ('regressor',\n",
      "                 <catboost.core.CatBoostRegressor object at 0x7f93a4e6b9a0>)])\n",
      "--------------------\n",
      "\n"
     ]
    }
   ],
   "source": [
    "# Поиск лучших моделей и их параметров\n",
    "data_grids, data_times = run_models(features_train, target_train)\n",
    "\n",
    "# Вывод результатов для каждой модели\n",
    "for grid, time_taken in zip(data_grids, data_times):\n",
    "    print_model_result(grid, time_taken, grid.best_estimator_.named_steps['regressor'].__class__.__name__)"
   ]
  },
  {
   "cell_type": "code",
   "execution_count": 30,
   "metadata": {},
   "outputs": [
    {
     "name": "stdout",
     "output_type": "stream",
     "text": [
      "Сводная таблица результатов моделей:\n"
     ]
    },
    {
     "data": {
      "text/html": [
       "<div>\n",
       "<style scoped>\n",
       "    .dataframe tbody tr th:only-of-type {\n",
       "        vertical-align: middle;\n",
       "    }\n",
       "\n",
       "    .dataframe tbody tr th {\n",
       "        vertical-align: top;\n",
       "    }\n",
       "\n",
       "    .dataframe thead th {\n",
       "        text-align: right;\n",
       "    }\n",
       "</style>\n",
       "<table border=\"1\" class=\"dataframe\">\n",
       "  <thead>\n",
       "    <tr style=\"text-align: right;\">\n",
       "      <th></th>\n",
       "      <th>Модель</th>\n",
       "      <th>RMSE</th>\n",
       "      <th>Время (с)</th>\n",
       "    </tr>\n",
       "  </thead>\n",
       "  <tbody>\n",
       "    <tr>\n",
       "      <th>0</th>\n",
       "      <td>LinearRegression</td>\n",
       "      <td>22.138957</td>\n",
       "      <td>0.121785</td>\n",
       "    </tr>\n",
       "    <tr>\n",
       "      <th>1</th>\n",
       "      <td>DecisionTreeRegressor</td>\n",
       "      <td>32.863022</td>\n",
       "      <td>1.327112</td>\n",
       "    </tr>\n",
       "    <tr>\n",
       "      <th>2</th>\n",
       "      <td>RandomForestRegressor</td>\n",
       "      <td>23.879451</td>\n",
       "      <td>9.786632</td>\n",
       "    </tr>\n",
       "    <tr>\n",
       "      <th>3</th>\n",
       "      <td>CatBoostRegressor</td>\n",
       "      <td>23.157124</td>\n",
       "      <td>14.399150</td>\n",
       "    </tr>\n",
       "  </tbody>\n",
       "</table>\n",
       "</div>"
      ],
      "text/plain": [
       "                  Модель       RMSE  Время (с)\n",
       "0       LinearRegression  22.138957   0.121785\n",
       "1  DecisionTreeRegressor  32.863022   1.327112\n",
       "2  RandomForestRegressor  23.879451   9.786632\n",
       "3      CatBoostRegressor  23.157124  14.399150"
      ]
     },
     "execution_count": 30,
     "metadata": {},
     "output_type": "execute_result"
    }
   ],
   "source": [
    "results = []\n",
    "\n",
    "# Заполнение списка результатами моделей\n",
    "for grid, time_taken in zip(data_grids, data_times):\n",
    "    model_name = grid.best_estimator_.named_steps['regressor'].__class__.__name__\n",
    "    rmse = grid.best_score_  # Предполагаем, что вы уже посчитали RMSE\n",
    "    results.append({'Модель': model_name, 'RMSE': rmse, 'Время (с)': time_taken})\n",
    "\n",
    "# Создание DataFrame из результатов\n",
    "results_df = pd.DataFrame(results)\n",
    "\n",
    "# Вывод сводной таблицы\n",
    "print(\"Сводная таблица результатов моделей:\")\n",
    "results_df\n"
   ]
  },
  {
   "cell_type": "code",
   "execution_count": 31,
   "metadata": {},
   "outputs": [
    {
     "name": "stdout",
     "output_type": "stream",
     "text": [
      "\n",
      "Лучшая модель по качеству и времени:\n",
      "Модель                   LinearRegression\n",
      "RMSE                            22.138957\n",
      "Время (с)                        0.121785\n",
      "Нормализованный RMSE                  0.0\n",
      "Нормализованное время                 0.0\n",
      "Итоговая оценка                       0.0\n",
      "Name: 0, dtype: object\n"
     ]
    }
   ],
   "source": [
    "# Нормализация RMSE и времени\n",
    "scaler = MinMaxScaler()\n",
    "results_df[['Нормализованный RMSE', 'Нормализованное время']] = scaler.fit_transform(\n",
    "    results_df[['RMSE', 'Время (с)']]\n",
    ")\n",
    "\n",
    "# Настройка весов\n",
    "alpha = 0.7  # Важность RMSE\n",
    "beta = 0.3   # Важность времени\n",
    "\n",
    "# Вычисление итоговой оценки\n",
    "results_df['Итоговая оценка'] = alpha * results_df['Нормализованный RMSE'] + beta * results_df['Нормализованное время']\n",
    "\n",
    "# Поиск лучшей модели по итоговой оценке\n",
    "best_model = results_df.loc[results_df['Итоговая оценка'].idxmin()]\n",
    "\n",
    "# Вывод информации о лучшей модели\n",
    "print(\"\\nЛучшая модель по качеству и времени:\")\n",
    "print(best_model)"
   ]
  },
  {
   "cell_type": "markdown",
   "metadata": {},
   "source": [
    "<img src=\"https://upload.wikimedia.org/wikipedia/commons/b/ba/Warning_sign_4.0.png\" align=left width=44, heigth=33>\n",
    "<div class=\"alert alert-warning\">\n",
    "Я бы не советовал придумывать собственные критерии выбора модели. В нашем проекте нет ни слова о скорости и логично выбрать модель, которая может дать наилучшее качество (наименьшую ошибку).\n",
    "    \n",
    "Более того, время, которое ты используешь для оценки - это время обучения, но не предсказания. Насколько часто мы будем переобучать модели? В проде нас как правило интересует время получения предсказания, а оно для всех моделей достаточно быстрое.    \n",
    "</div>"
   ]
  },
  {
   "cell_type": "markdown",
   "metadata": {},
   "source": [
    "## Тестирование"
   ]
  },
  {
   "cell_type": "code",
   "execution_count": 32,
   "metadata": {},
   "outputs": [
    {
     "name": "stdout",
     "output_type": "stream",
     "text": [
      "RMSE              : 34.526985939322415\n",
      "Время предсказания: 0.002838611602783203 секунд\n"
     ]
    }
   ],
   "source": [
    "best_model_index = results_df['Итоговая оценка'].idxmin()  \n",
    "best_model_object = data_grids[best_model_index]  \n",
    "\n",
    "start_time = time.time()\n",
    "\n",
    "# Предсказание лучшей модели\n",
    "predict = best_model_object.predict(features_test)\n",
    "\n",
    "finish_time = time.time()\n",
    "function_time = finish_time - start_time\n",
    "\n",
    "# Расчет RMSE и времени выполнения предсказания\n",
    "print('RMSE              :', mean_squared_error(target_test, predict, squared=False))\n",
    "print(f'Время предсказания: {function_time} секунд')"
   ]
  },
  {
   "cell_type": "markdown",
   "metadata": {},
   "source": [
    "<img src=\"https://emojigraph.org/media/apple/check-mark-button_2705.png\" align=left width=33, heigth=33>\n",
    "<div class=\"alert alert-success\">\n",
    "Молодец: \n",
    "    \n",
    "  - тестирование произведено корректно \n",
    "  - достигнута хорошая точность на тестовой выборке\n",
    "    \n",
    "\n",
    "</div>\n"
   ]
  },
  {
   "cell_type": "code",
   "execution_count": 33,
   "metadata": {},
   "outputs": [
    {
     "data": {
      "image/png": "[encoded data removed]",
      "text/plain": [
       "<Figure size 1008x504 with 1 Axes>"
      ]
     },
     "metadata": {
      "needs_background": "light"
     },
     "output_type": "display_data"
    }
   ],
   "source": [
    "plt.figure(figsize=(14, 7))\n",
    "plt.plot(target_test.index, target_test, label='Реальные значения', color='blue', linewidth=2)\n",
    "plt.plot(target_test.index, predict, label='Предсказанные значения', color='orange', linewidth=2)\n",
    "\n",
    "# Настройка графика\n",
    "plt.title('Сравнение реальных и предсказанных значений', fontsize=16)\n",
    "plt.xlabel('Дата и время', fontsize=14)\n",
    "plt.ylabel('Количество заказов', fontsize=14)\n",
    "plt.legend()\n",
    "plt.grid()\n",
    "\n",
    "# Показать график\n",
    "plt.tight_layout()\n",
    "plt.show()"
   ]
  },
  {
   "cell_type": "markdown",
   "metadata": {},
   "source": [
    "<img src=\"https://emojigraph.org/media/apple/check-mark-button_2705.png\" align=left width=33, heigth=33>\n",
    "<div class=\"alert alert-success\">\n",
    " 👍 </div>"
   ]
  },
  {
   "cell_type": "markdown",
   "metadata": {},
   "source": [
    "**Проект по прогнозированию заказов такси**\n",
    "=====================================\n",
    "\n",
    "Проект успешно достиг своей цели — прогнозирования количества заказов такси на следующий час для компании «Чётенькое такси».\n",
    "\n",
    "# Лучшие результаты\n",
    "\n",
    "* **Линейная регрессия**: RMSE 22.13, что значительно ниже установленного порога в 48.\n",
    "* **Время выполнения предсказания**: всего 0.1 секунды.\n",
    "\n",
    "# Эффективность\n",
    "\n",
    "* **Производительность на тестовой выборке**: RMSE 34.52, подтверждая свою способность к адекватному прогнозированию."
   ]
  },
  {
   "cell_type": "markdown",
   "metadata": {},
   "source": [
    "## Чек-лист проверки"
   ]
  },
  {
   "cell_type": "markdown",
   "metadata": {},
   "source": [
    "- [x]  Jupyter Notebook открыт\n",
    "- [x]  Весь код выполняется без ошибок\n",
    "- [x]  Ячейки с кодом расположены в порядке исполнения\n",
    "- [x]  Данные загружены и подготовлены\n",
    "- [x]  Данные проанализированы\n",
    "- [x]  Модель обучена, гиперпараметры подобраны\n",
    "- [x]  Качество моделей проверено, выводы сделаны\n",
    "- [x]  Значение *RMSE* на тестовой выборке не больше 48"
   ]
  },
  {
   "cell_type": "markdown",
   "metadata": {},
   "source": [
    "<img src=\"http://s3.amazonaws.com/pix.iemoji.com/images/emoji/apple/ios-12/256/waving-hand.png\" align=left width=44, heigth=44>\n",
    "<div class=\"alert alert-info\">\n",
    "<b> Заключительный комментарий v3</b>\n",
    "\n",
    "Проект принят. Поздравляю и желаю дальнейших успехов!\n",
    "</div>"
   ]
  },
  {
   "cell_type": "markdown",
   "metadata": {},
   "source": [
    "<img src=\"http://s3.amazonaws.com/pix.iemoji.com/images/emoji/apple/ios-12/256/waving-hand.png\" align=left width=44, heigth=44>\n",
    "<div class=\"alert alert-info\">\n",
    "<b> Заключительный комментарий v2</b>\n",
    "    \n",
    "Все хорошо, но к сожалению ты все-таки попала в \"ловушку\" от которой я пытался тебя предостеречь. Календарный признак месяц использовать в нашем проекте не стоит. Банально, обучившись на данных за март-август, модель перестанет работать в сентябре (или будет делать это очень плохо).    \n",
    "\n",
    "</div>"
   ]
  },
  {
   "cell_type": "markdown",
   "metadata": {},
   "source": [
    "<img src=\"http://s3.amazonaws.com/pix.iemoji.com/images/emoji/apple/ios-12/256/waving-hand.png\" align=left width=44, heigth=44>\n",
    "<div class=\"alert alert-info\">\n",
    "<b> Заключительный комментарий</b>\n",
    "\n",
    " Давай подведем итоги: твоя работа выполнена на достаточно высоком уровне.  Изучены данные, найдены сезоность и тренды,  подготовлены признаки и обучены модели. Также в проекте много графиков и пояснений.\n",
    "\n",
    "Мне понравилось, что ты правильно использовала кросс-валидацию для временых рядов.\n",
    "    \n",
    "Единственный красный комментарий связан с подготовкой признаков: нужно использовать еще хотя бы один тип признаков, кроме отстающих значений.\n",
    "    \n",
    "Желтые комментарии на твое усмотрение.\n",
    "    \n",
    "Жду твой проект на финальное ревью :)\n",
    "</div>"
   ]
  },
  {
   "cell_type": "markdown",
   "metadata": {},
   "source": [
    "<img src=\"http://s3.amazonaws.com/pix.iemoji.com/images/emoji/apple/ios-12/256/waving-hand.png\" align=left width=44, heigth=44>\n",
    "<div class=\"alert alert-info\">\n",
    "<b> Дополнительные материалы </b>\n",
    "\n",
    "Если решишь глубже погрузиться в тему временных рядов, думаю тебе стоит знать что подход, изученный в курсе далеко не единственный. Вот к чему возможно стоит обратиться:\n",
    " - Авторегрессионные модели семейства ARIMA. В качестве экскурса очень полезно следующее видео: https://www.youtube.com/watch?v=u433nrxdf5k&t=110s\n",
    " - Библиотека prophet от Facebook. По моим наблюдениям, качество решения этой моделью ниже, но она очень проста в применении. https://habr.com/ru/company/ods/blog/323730/\n",
    "    \n",
    " - Урок по временным рядам из курса ML от ODS (https://habr.com/ru/company/ods/blog/327242/)\n",
    " - Лекция по прогнозированию временных рядов из курса Computer Science Center (https://www.youtube.com/watch?v=COBcXzKmOyk)   \n",
    "\n",
    "\n",
    "</div>"
   ]
  },
  {
   "cell_type": "markdown",
   "metadata": {},
   "source": []
  }
 ],
 "metadata": {
  "ExecuteTimeLog": [
   {
    "duration": 2024,
    "start_time": "2024-11-21T13:49:23.709Z"
   },
   {
    "duration": 10,
    "start_time": "2024-11-21T13:49:25.735Z"
   },
   {
    "duration": 1463,
    "start_time": "2024-11-21T13:49:25.747Z"
   },
   {
    "duration": 4274,
    "start_time": "2024-11-21T13:49:27.212Z"
   },
   {
    "duration": 210,
    "start_time": "2024-11-21T13:49:55.991Z"
   },
   {
    "duration": 1817,
    "start_time": "2024-11-21T13:50:00.902Z"
   },
   {
    "duration": 10,
    "start_time": "2024-11-21T13:50:02.721Z"
   },
   {
    "duration": 112,
    "start_time": "2024-11-21T13:50:02.732Z"
   },
   {
    "duration": 36,
    "start_time": "2024-11-21T13:50:02.846Z"
   },
   {
    "duration": 4,
    "start_time": "2024-11-21T13:51:33.891Z"
   },
   {
    "duration": 33,
    "start_time": "2024-11-21T14:18:53.087Z"
   },
   {
    "duration": 148,
    "start_time": "2024-11-21T14:23:56.985Z"
   },
   {
    "duration": 12,
    "start_time": "2024-11-21T14:24:12.719Z"
   },
   {
    "duration": 1786,
    "start_time": "2024-11-21T14:24:26.329Z"
   },
   {
    "duration": 9,
    "start_time": "2024-11-21T14:24:28.117Z"
   },
   {
    "duration": 98,
    "start_time": "2024-11-21T14:24:28.127Z"
   },
   {
    "duration": 35,
    "start_time": "2024-11-21T14:24:28.228Z"
   },
   {
    "duration": 3,
    "start_time": "2024-11-21T14:24:28.265Z"
   },
   {
    "duration": 38,
    "start_time": "2024-11-21T14:24:28.270Z"
   },
   {
    "duration": 373,
    "start_time": "2024-11-21T14:24:28.310Z"
   },
   {
    "duration": 365,
    "start_time": "2024-11-21T14:26:48.058Z"
   },
   {
    "duration": 264,
    "start_time": "2024-11-21T14:27:27.685Z"
   },
   {
    "duration": 272,
    "start_time": "2024-11-21T14:28:01.650Z"
   },
   {
    "duration": 154,
    "start_time": "2024-11-21T14:28:38.958Z"
   },
   {
    "duration": 699,
    "start_time": "2024-11-21T14:28:52.139Z"
   },
   {
    "duration": 931,
    "start_time": "2024-11-21T14:30:30.582Z"
   },
   {
    "duration": 993,
    "start_time": "2024-11-21T14:30:52.698Z"
   },
   {
    "duration": 209,
    "start_time": "2024-11-21T14:31:30.287Z"
   },
   {
    "duration": 1704,
    "start_time": "2024-11-21T14:31:47.181Z"
   },
   {
    "duration": 16,
    "start_time": "2024-11-21T14:32:47.034Z"
   },
   {
    "duration": 3206,
    "start_time": "2024-11-21T14:33:08.169Z"
   },
   {
    "duration": 255,
    "start_time": "2024-11-21T14:35:08.732Z"
   },
   {
    "duration": 2554,
    "start_time": "2024-11-21T14:35:18.150Z"
   },
   {
    "duration": 1800,
    "start_time": "2024-11-21T14:36:25.492Z"
   },
   {
    "duration": 9,
    "start_time": "2024-11-21T14:36:27.295Z"
   },
   {
    "duration": 113,
    "start_time": "2024-11-21T14:36:27.306Z"
   },
   {
    "duration": 43,
    "start_time": "2024-11-21T14:36:27.421Z"
   },
   {
    "duration": 4,
    "start_time": "2024-11-21T14:36:27.466Z"
   },
   {
    "duration": 38,
    "start_time": "2024-11-21T14:36:27.472Z"
   },
   {
    "duration": 395,
    "start_time": "2024-11-21T14:36:27.512Z"
   },
   {
    "duration": 970,
    "start_time": "2024-11-21T14:36:27.909Z"
   },
   {
    "duration": 19652,
    "start_time": "2024-11-21T14:36:28.881Z"
   },
   {
    "duration": 8059,
    "start_time": "2024-11-21T14:37:53.598Z"
   },
   {
    "duration": 258,
    "start_time": "2024-11-21T14:39:12.402Z"
   },
   {
    "duration": 274,
    "start_time": "2024-11-21T14:39:55.263Z"
   },
   {
    "duration": 369,
    "start_time": "2024-11-21T14:40:53.543Z"
   },
   {
    "duration": 284,
    "start_time": "2024-11-21T14:41:08.800Z"
   },
   {
    "duration": 1701,
    "start_time": "2024-11-21T14:42:19.390Z"
   },
   {
    "duration": 9,
    "start_time": "2024-11-21T14:42:21.093Z"
   },
   {
    "duration": 91,
    "start_time": "2024-11-21T14:42:21.104Z"
   },
   {
    "duration": 38,
    "start_time": "2024-11-21T14:42:21.198Z"
   },
   {
    "duration": 3,
    "start_time": "2024-11-21T14:42:21.238Z"
   },
   {
    "duration": 60,
    "start_time": "2024-11-21T14:42:21.242Z"
   },
   {
    "duration": 4,
    "start_time": "2024-11-21T14:42:21.304Z"
   },
   {
    "duration": 410,
    "start_time": "2024-11-21T14:42:21.309Z"
   },
   {
    "duration": 850,
    "start_time": "2024-11-21T14:42:21.720Z"
   },
   {
    "duration": 6206,
    "start_time": "2024-11-21T14:42:22.572Z"
   },
   {
    "duration": 504,
    "start_time": "2024-11-21T14:49:48.006Z"
   },
   {
    "duration": 396,
    "start_time": "2024-11-21T14:50:28.632Z"
   },
   {
    "duration": 169,
    "start_time": "2024-11-21T14:55:43.380Z"
   },
   {
    "duration": 1802,
    "start_time": "2024-11-21T14:56:01.136Z"
   },
   {
    "duration": 10,
    "start_time": "2024-11-21T14:56:02.940Z"
   },
   {
    "duration": 86,
    "start_time": "2024-11-21T14:56:02.952Z"
   },
   {
    "duration": 37,
    "start_time": "2024-11-21T14:56:03.040Z"
   },
   {
    "duration": 4,
    "start_time": "2024-11-21T14:56:03.079Z"
   },
   {
    "duration": 40,
    "start_time": "2024-11-21T14:56:03.085Z"
   },
   {
    "duration": 5,
    "start_time": "2024-11-21T14:56:03.127Z"
   },
   {
    "duration": 482,
    "start_time": "2024-11-21T14:56:03.133Z"
   },
   {
    "duration": 421,
    "start_time": "2024-11-21T14:56:03.616Z"
   },
   {
    "duration": 1018,
    "start_time": "2024-11-21T14:56:04.039Z"
   },
   {
    "duration": 170,
    "start_time": "2024-11-21T14:56:05.058Z"
   },
   {
    "duration": 0,
    "start_time": "2024-11-21T14:56:05.230Z"
   },
   {
    "duration": 1772,
    "start_time": "2024-11-21T14:56:11.782Z"
   },
   {
    "duration": 10,
    "start_time": "2024-11-21T14:56:13.556Z"
   },
   {
    "duration": 91,
    "start_time": "2024-11-21T14:56:13.569Z"
   },
   {
    "duration": 46,
    "start_time": "2024-11-21T14:56:13.663Z"
   },
   {
    "duration": 4,
    "start_time": "2024-11-21T14:56:13.711Z"
   },
   {
    "duration": 62,
    "start_time": "2024-11-21T14:56:13.717Z"
   },
   {
    "duration": 4,
    "start_time": "2024-11-21T14:56:13.781Z"
   },
   {
    "duration": 507,
    "start_time": "2024-11-21T14:56:13.791Z"
   },
   {
    "duration": 419,
    "start_time": "2024-11-21T14:56:14.300Z"
   },
   {
    "duration": 1012,
    "start_time": "2024-11-21T14:56:14.721Z"
   },
   {
    "duration": 168,
    "start_time": "2024-11-21T14:56:15.735Z"
   },
   {
    "duration": 0,
    "start_time": "2024-11-21T14:56:15.904Z"
   },
   {
    "duration": 239,
    "start_time": "2024-11-21T14:57:04.617Z"
   },
   {
    "duration": 225,
    "start_time": "2024-11-21T14:58:10.845Z"
   },
   {
    "duration": 214,
    "start_time": "2024-11-21T14:58:22.965Z"
   },
   {
    "duration": 16,
    "start_time": "2024-11-21T15:00:46.182Z"
   },
   {
    "duration": 355,
    "start_time": "2024-11-21T15:01:00.779Z"
   },
   {
    "duration": 219,
    "start_time": "2024-11-21T15:01:46.827Z"
   },
   {
    "duration": 1705,
    "start_time": "2024-11-21T15:02:37.778Z"
   },
   {
    "duration": 10,
    "start_time": "2024-11-21T15:02:39.485Z"
   },
   {
    "duration": 88,
    "start_time": "2024-11-21T15:02:39.497Z"
   },
   {
    "duration": 44,
    "start_time": "2024-11-21T15:02:39.587Z"
   },
   {
    "duration": 4,
    "start_time": "2024-11-21T15:02:39.632Z"
   },
   {
    "duration": 67,
    "start_time": "2024-11-21T15:02:39.638Z"
   },
   {
    "duration": 5,
    "start_time": "2024-11-21T15:02:39.707Z"
   },
   {
    "duration": 485,
    "start_time": "2024-11-21T15:02:39.714Z"
   },
   {
    "duration": 471,
    "start_time": "2024-11-21T15:02:40.201Z"
   },
   {
    "duration": 984,
    "start_time": "2024-11-21T15:02:40.676Z"
   },
   {
    "duration": 273,
    "start_time": "2024-11-21T15:02:41.661Z"
   },
   {
    "duration": 2166,
    "start_time": "2024-11-21T15:02:41.935Z"
   },
   {
    "duration": 1055,
    "start_time": "2024-11-21T15:07:40.612Z"
   },
   {
    "duration": 482,
    "start_time": "2024-11-21T15:10:57.622Z"
   },
   {
    "duration": 1178,
    "start_time": "2024-11-21T15:11:32.583Z"
   },
   {
    "duration": 158,
    "start_time": "2024-11-21T15:12:40.542Z"
   },
   {
    "duration": 1240,
    "start_time": "2024-11-21T15:12:52.186Z"
   },
   {
    "duration": 1400,
    "start_time": "2024-11-21T15:16:49.225Z"
   },
   {
    "duration": 272,
    "start_time": "2024-11-21T15:18:05.304Z"
   },
   {
    "duration": 46,
    "start_time": "2024-11-21T15:20:32.421Z"
   },
   {
    "duration": 14,
    "start_time": "2024-11-21T15:22:58.755Z"
   },
   {
    "duration": 1842,
    "start_time": "2024-11-21T15:23:48.343Z"
   },
   {
    "duration": 9,
    "start_time": "2024-11-21T15:23:50.187Z"
   },
   {
    "duration": 83,
    "start_time": "2024-11-21T15:23:50.198Z"
   },
   {
    "duration": 32,
    "start_time": "2024-11-21T15:23:50.283Z"
   },
   {
    "duration": 4,
    "start_time": "2024-11-21T15:23:50.316Z"
   },
   {
    "duration": 60,
    "start_time": "2024-11-21T15:23:50.321Z"
   },
   {
    "duration": 3,
    "start_time": "2024-11-21T15:23:50.383Z"
   },
   {
    "duration": 427,
    "start_time": "2024-11-21T15:23:50.388Z"
   },
   {
    "duration": 398,
    "start_time": "2024-11-21T15:23:50.816Z"
   },
   {
    "duration": 0,
    "start_time": "2024-11-21T15:23:51.216Z"
   },
   {
    "duration": 0,
    "start_time": "2024-11-21T15:23:51.218Z"
   },
   {
    "duration": 0,
    "start_time": "2024-11-21T15:23:51.219Z"
   },
   {
    "duration": 0,
    "start_time": "2024-11-21T15:23:51.220Z"
   },
   {
    "duration": 0,
    "start_time": "2024-11-21T15:23:51.222Z"
   },
   {
    "duration": 0,
    "start_time": "2024-11-21T15:23:51.223Z"
   },
   {
    "duration": 1799,
    "start_time": "2024-11-21T15:24:45.042Z"
   },
   {
    "duration": 9,
    "start_time": "2024-11-21T15:24:46.842Z"
   },
   {
    "duration": 80,
    "start_time": "2024-11-21T15:24:46.853Z"
   },
   {
    "duration": 31,
    "start_time": "2024-11-21T15:24:46.935Z"
   },
   {
    "duration": 4,
    "start_time": "2024-11-21T15:24:46.968Z"
   },
   {
    "duration": 65,
    "start_time": "2024-11-21T15:24:46.974Z"
   },
   {
    "duration": 3,
    "start_time": "2024-11-21T15:24:47.041Z"
   },
   {
    "duration": 384,
    "start_time": "2024-11-21T15:24:47.046Z"
   },
   {
    "duration": 1177,
    "start_time": "2024-11-21T15:24:47.432Z"
   },
   {
    "duration": 162,
    "start_time": "2024-11-21T15:24:48.611Z"
   },
   {
    "duration": 269,
    "start_time": "2024-11-21T15:24:48.775Z"
   },
   {
    "duration": 1058,
    "start_time": "2024-11-21T15:24:49.045Z"
   },
   {
    "duration": 241,
    "start_time": "2024-11-21T15:24:50.104Z"
   },
   {
    "duration": 1923,
    "start_time": "2024-11-21T15:24:50.347Z"
   },
   {
    "duration": 156,
    "start_time": "2024-11-21T15:24:52.271Z"
   },
   {
    "duration": 2747,
    "start_time": "2024-11-21T15:26:11.651Z"
   },
   {
    "duration": 163,
    "start_time": "2024-11-21T16:11:36.041Z"
   },
   {
    "duration": 266,
    "start_time": "2024-11-21T16:13:06.243Z"
   },
   {
    "duration": 52,
    "start_time": "2024-11-21T16:19:23.043Z"
   },
   {
    "duration": 1708,
    "start_time": "2024-11-21T16:22:25.562Z"
   },
   {
    "duration": 9,
    "start_time": "2024-11-21T16:22:27.272Z"
   },
   {
    "duration": 82,
    "start_time": "2024-11-21T16:22:27.282Z"
   },
   {
    "duration": 33,
    "start_time": "2024-11-21T16:22:27.365Z"
   },
   {
    "duration": 3,
    "start_time": "2024-11-21T16:22:27.400Z"
   },
   {
    "duration": 66,
    "start_time": "2024-11-21T16:22:27.405Z"
   },
   {
    "duration": 5,
    "start_time": "2024-11-21T16:22:27.473Z"
   },
   {
    "duration": 416,
    "start_time": "2024-11-21T16:22:27.479Z"
   },
   {
    "duration": 1144,
    "start_time": "2024-11-21T16:22:27.897Z"
   },
   {
    "duration": 156,
    "start_time": "2024-11-21T16:22:29.044Z"
   },
   {
    "duration": 271,
    "start_time": "2024-11-21T16:22:29.202Z"
   },
   {
    "duration": 980,
    "start_time": "2024-11-21T16:22:29.475Z"
   },
   {
    "duration": 254,
    "start_time": "2024-11-21T16:22:30.457Z"
   },
   {
    "duration": 4253,
    "start_time": "2024-11-21T16:22:30.713Z"
   },
   {
    "duration": 3,
    "start_time": "2024-11-21T16:22:34.969Z"
   },
   {
    "duration": 61,
    "start_time": "2024-11-21T16:22:34.973Z"
   },
   {
    "duration": 63,
    "start_time": "2024-11-21T16:22:35.036Z"
   },
   {
    "duration": 1682,
    "start_time": "2024-11-21T16:34:44.341Z"
   },
   {
    "duration": 9,
    "start_time": "2024-11-21T16:34:46.025Z"
   },
   {
    "duration": 83,
    "start_time": "2024-11-21T16:34:46.036Z"
   },
   {
    "duration": 35,
    "start_time": "2024-11-21T16:34:46.121Z"
   },
   {
    "duration": 4,
    "start_time": "2024-11-21T16:34:46.158Z"
   },
   {
    "duration": 42,
    "start_time": "2024-11-21T16:34:46.164Z"
   },
   {
    "duration": 4,
    "start_time": "2024-11-21T16:34:46.208Z"
   },
   {
    "duration": 420,
    "start_time": "2024-11-21T16:34:46.214Z"
   },
   {
    "duration": 1142,
    "start_time": "2024-11-21T16:34:46.636Z"
   },
   {
    "duration": 169,
    "start_time": "2024-11-21T16:34:47.781Z"
   },
   {
    "duration": 301,
    "start_time": "2024-11-21T16:34:47.952Z"
   },
   {
    "duration": 1019,
    "start_time": "2024-11-21T16:34:48.255Z"
   },
   {
    "duration": 231,
    "start_time": "2024-11-21T16:34:49.275Z"
   },
   {
    "duration": 7477,
    "start_time": "2024-11-21T16:34:49.508Z"
   },
   {
    "duration": 4,
    "start_time": "2024-11-21T16:34:56.986Z"
   },
   {
    "duration": 5,
    "start_time": "2024-11-21T16:34:56.991Z"
   },
   {
    "duration": 111,
    "start_time": "2024-11-21T16:34:56.998Z"
   },
   {
    "duration": 1827,
    "start_time": "2024-11-21T16:51:29.648Z"
   },
   {
    "duration": 0,
    "start_time": "2024-11-21T16:51:31.478Z"
   },
   {
    "duration": 0,
    "start_time": "2024-11-21T16:51:31.479Z"
   },
   {
    "duration": 0,
    "start_time": "2024-11-21T16:51:31.480Z"
   },
   {
    "duration": 0,
    "start_time": "2024-11-21T16:51:31.481Z"
   },
   {
    "duration": 0,
    "start_time": "2024-11-21T16:51:31.482Z"
   },
   {
    "duration": 0,
    "start_time": "2024-11-21T16:51:31.483Z"
   },
   {
    "duration": 0,
    "start_time": "2024-11-21T16:51:31.484Z"
   },
   {
    "duration": 0,
    "start_time": "2024-11-21T16:51:31.486Z"
   },
   {
    "duration": 0,
    "start_time": "2024-11-21T16:51:31.487Z"
   },
   {
    "duration": 0,
    "start_time": "2024-11-21T16:51:31.488Z"
   },
   {
    "duration": 0,
    "start_time": "2024-11-21T16:51:31.489Z"
   },
   {
    "duration": 0,
    "start_time": "2024-11-21T16:51:31.490Z"
   },
   {
    "duration": 0,
    "start_time": "2024-11-21T16:51:31.491Z"
   },
   {
    "duration": 0,
    "start_time": "2024-11-21T16:51:31.492Z"
   },
   {
    "duration": 0,
    "start_time": "2024-11-21T16:51:31.493Z"
   },
   {
    "duration": 0,
    "start_time": "2024-11-21T16:51:31.494Z"
   },
   {
    "duration": 0,
    "start_time": "2024-11-21T16:51:31.495Z"
   },
   {
    "duration": 0,
    "start_time": "2024-11-21T16:51:31.496Z"
   },
   {
    "duration": 0,
    "start_time": "2024-11-21T16:51:31.497Z"
   },
   {
    "duration": 0,
    "start_time": "2024-11-21T16:51:31.498Z"
   },
   {
    "duration": 0,
    "start_time": "2024-11-21T16:51:31.500Z"
   },
   {
    "duration": 0,
    "start_time": "2024-11-21T16:51:31.501Z"
   },
   {
    "duration": 0,
    "start_time": "2024-11-21T16:51:31.502Z"
   },
   {
    "duration": 0,
    "start_time": "2024-11-21T16:51:31.504Z"
   },
   {
    "duration": 1655,
    "start_time": "2024-11-21T16:53:43.362Z"
   },
   {
    "duration": 10,
    "start_time": "2024-11-21T16:53:45.019Z"
   },
   {
    "duration": 94,
    "start_time": "2024-11-21T16:53:45.031Z"
   },
   {
    "duration": 35,
    "start_time": "2024-11-21T16:53:45.128Z"
   },
   {
    "duration": 3,
    "start_time": "2024-11-21T16:53:45.165Z"
   },
   {
    "duration": 109,
    "start_time": "2024-11-21T16:53:45.170Z"
   },
   {
    "duration": 4,
    "start_time": "2024-11-21T16:53:45.281Z"
   },
   {
    "duration": 460,
    "start_time": "2024-11-21T16:53:45.287Z"
   },
   {
    "duration": 1102,
    "start_time": "2024-11-21T16:53:45.748Z"
   },
   {
    "duration": 155,
    "start_time": "2024-11-21T16:53:46.853Z"
   },
   {
    "duration": 260,
    "start_time": "2024-11-21T16:53:47.010Z"
   },
   {
    "duration": 1045,
    "start_time": "2024-11-21T16:53:47.272Z"
   },
   {
    "duration": 234,
    "start_time": "2024-11-21T16:53:48.318Z"
   },
   {
    "duration": 10960,
    "start_time": "2024-11-21T16:53:48.554Z"
   },
   {
    "duration": 4,
    "start_time": "2024-11-21T16:53:59.516Z"
   },
   {
    "duration": 7,
    "start_time": "2024-11-21T16:53:59.524Z"
   },
   {
    "duration": 76,
    "start_time": "2024-11-21T16:53:59.534Z"
   },
   {
    "duration": 6,
    "start_time": "2024-11-21T16:53:59.612Z"
   },
   {
    "duration": 6,
    "start_time": "2024-11-21T16:53:59.620Z"
   },
   {
    "duration": 14,
    "start_time": "2024-11-21T16:53:59.628Z"
   },
   {
    "duration": 26,
    "start_time": "2024-11-21T16:53:59.644Z"
   },
   {
    "duration": 3,
    "start_time": "2024-11-21T16:53:59.673Z"
   },
   {
    "duration": 192,
    "start_time": "2024-11-21T16:53:59.678Z"
   },
   {
    "duration": 265,
    "start_time": "2024-11-21T16:53:59.871Z"
   },
   {
    "duration": 48,
    "start_time": "2024-11-21T16:54:00.138Z"
   },
   {
    "duration": 54,
    "start_time": "2024-11-21T16:54:26.744Z"
   },
   {
    "duration": 53,
    "start_time": "2024-11-21T16:55:39.661Z"
   },
   {
    "duration": 1704,
    "start_time": "2024-11-21T16:57:35.689Z"
   },
   {
    "duration": 9,
    "start_time": "2024-11-21T16:57:37.395Z"
   },
   {
    "duration": 121,
    "start_time": "2024-11-21T16:57:37.406Z"
   },
   {
    "duration": 36,
    "start_time": "2024-11-21T16:57:37.529Z"
   },
   {
    "duration": 3,
    "start_time": "2024-11-21T16:57:37.567Z"
   },
   {
    "duration": 43,
    "start_time": "2024-11-21T16:57:37.572Z"
   },
   {
    "duration": 4,
    "start_time": "2024-11-21T16:57:37.617Z"
   },
   {
    "duration": 432,
    "start_time": "2024-11-21T16:57:37.623Z"
   },
   {
    "duration": 1162,
    "start_time": "2024-11-21T16:57:38.056Z"
   },
   {
    "duration": 168,
    "start_time": "2024-11-21T16:57:39.220Z"
   },
   {
    "duration": 346,
    "start_time": "2024-11-21T16:57:39.389Z"
   },
   {
    "duration": 986,
    "start_time": "2024-11-21T16:57:39.737Z"
   },
   {
    "duration": 221,
    "start_time": "2024-11-21T16:57:40.725Z"
   },
   {
    "duration": 3440,
    "start_time": "2024-11-21T16:57:40.949Z"
   },
   {
    "duration": 3,
    "start_time": "2024-11-21T16:57:44.390Z"
   },
   {
    "duration": 6,
    "start_time": "2024-11-21T16:57:44.395Z"
   },
   {
    "duration": 71,
    "start_time": "2024-11-21T16:57:44.403Z"
   },
   {
    "duration": 4,
    "start_time": "2024-11-21T16:57:44.476Z"
   },
   {
    "duration": 6,
    "start_time": "2024-11-21T16:57:44.482Z"
   },
   {
    "duration": 6,
    "start_time": "2024-11-21T16:57:44.489Z"
   },
   {
    "duration": 5,
    "start_time": "2024-11-21T16:57:44.497Z"
   },
   {
    "duration": 4,
    "start_time": "2024-11-21T16:57:44.503Z"
   },
   {
    "duration": 184,
    "start_time": "2024-11-21T16:57:44.509Z"
   },
   {
    "duration": 43,
    "start_time": "2024-11-21T16:57:44.695Z"
   },
   {
    "duration": 59,
    "start_time": "2024-11-21T16:59:01.230Z"
   },
   {
    "duration": 8,
    "start_time": "2024-11-21T16:59:02.730Z"
   },
   {
    "duration": 62,
    "start_time": "2024-11-21T16:59:10.598Z"
   },
   {
    "duration": 7,
    "start_time": "2024-11-21T16:59:11.760Z"
   },
   {
    "duration": 66,
    "start_time": "2024-11-21T16:59:19.915Z"
   },
   {
    "duration": 9,
    "start_time": "2024-11-21T16:59:20.791Z"
   },
   {
    "duration": 1694,
    "start_time": "2024-11-21T16:59:39.516Z"
   },
   {
    "duration": 9,
    "start_time": "2024-11-21T16:59:41.213Z"
   },
   {
    "duration": 149,
    "start_time": "2024-11-21T16:59:41.224Z"
   },
   {
    "duration": 36,
    "start_time": "2024-11-21T16:59:41.375Z"
   },
   {
    "duration": 37,
    "start_time": "2024-11-21T16:59:41.414Z"
   },
   {
    "duration": 39,
    "start_time": "2024-11-21T16:59:41.453Z"
   },
   {
    "duration": 4,
    "start_time": "2024-11-21T16:59:41.494Z"
   },
   {
    "duration": 427,
    "start_time": "2024-11-21T16:59:41.500Z"
   },
   {
    "duration": 1120,
    "start_time": "2024-11-21T16:59:41.928Z"
   },
   {
    "duration": 160,
    "start_time": "2024-11-21T16:59:43.050Z"
   },
   {
    "duration": 270,
    "start_time": "2024-11-21T16:59:43.211Z"
   },
   {
    "duration": 994,
    "start_time": "2024-11-21T16:59:43.483Z"
   },
   {
    "duration": 220,
    "start_time": "2024-11-21T16:59:44.479Z"
   },
   {
    "duration": 1281,
    "start_time": "2024-11-21T16:59:44.703Z"
   },
   {
    "duration": 3,
    "start_time": "2024-11-21T16:59:45.986Z"
   },
   {
    "duration": 18,
    "start_time": "2024-11-21T16:59:45.990Z"
   },
   {
    "duration": 64,
    "start_time": "2024-11-21T16:59:46.009Z"
   },
   {
    "duration": 3,
    "start_time": "2024-11-21T16:59:46.075Z"
   },
   {
    "duration": 5,
    "start_time": "2024-11-21T16:59:46.080Z"
   },
   {
    "duration": 10,
    "start_time": "2024-11-21T16:59:46.087Z"
   },
   {
    "duration": 6,
    "start_time": "2024-11-21T16:59:46.099Z"
   },
   {
    "duration": 5,
    "start_time": "2024-11-21T16:59:46.107Z"
   },
   {
    "duration": 65,
    "start_time": "2024-11-21T16:59:46.114Z"
   },
   {
    "duration": 10,
    "start_time": "2024-11-21T16:59:46.181Z"
   },
   {
    "duration": 56,
    "start_time": "2024-11-21T17:00:02.787Z"
   },
   {
    "duration": 25,
    "start_time": "2024-11-21T17:00:02.845Z"
   },
   {
    "duration": 86,
    "start_time": "2024-11-21T17:00:02.872Z"
   },
   {
    "duration": 32,
    "start_time": "2024-11-21T17:00:02.962Z"
   },
   {
    "duration": 4,
    "start_time": "2024-11-21T17:00:02.995Z"
   },
   {
    "duration": 48,
    "start_time": "2024-11-21T17:00:03.001Z"
   },
   {
    "duration": 23,
    "start_time": "2024-11-21T17:00:03.051Z"
   },
   {
    "duration": 394,
    "start_time": "2024-11-21T17:00:03.076Z"
   },
   {
    "duration": 1198,
    "start_time": "2024-11-21T17:00:03.472Z"
   },
   {
    "duration": 270,
    "start_time": "2024-11-21T17:00:04.672Z"
   },
   {
    "duration": 274,
    "start_time": "2024-11-21T17:00:04.943Z"
   },
   {
    "duration": 927,
    "start_time": "2024-11-21T17:00:05.218Z"
   },
   {
    "duration": 226,
    "start_time": "2024-11-21T17:00:06.147Z"
   },
   {
    "duration": 2500,
    "start_time": "2024-11-21T17:00:06.376Z"
   },
   {
    "duration": 3,
    "start_time": "2024-11-21T17:00:08.878Z"
   },
   {
    "duration": 20,
    "start_time": "2024-11-21T17:00:08.882Z"
   },
   {
    "duration": 67,
    "start_time": "2024-11-21T17:00:08.904Z"
   },
   {
    "duration": 4,
    "start_time": "2024-11-21T17:00:08.973Z"
   },
   {
    "duration": 9,
    "start_time": "2024-11-21T17:00:08.978Z"
   },
   {
    "duration": 6,
    "start_time": "2024-11-21T17:00:08.988Z"
   },
   {
    "duration": 8,
    "start_time": "2024-11-21T17:00:08.996Z"
   },
   {
    "duration": 9,
    "start_time": "2024-11-21T17:00:09.005Z"
   },
   {
    "duration": 62,
    "start_time": "2024-11-21T17:00:09.016Z"
   },
   {
    "duration": 7,
    "start_time": "2024-11-21T17:00:09.080Z"
   },
   {
    "duration": 1665,
    "start_time": "2024-11-21T17:00:33.921Z"
   },
   {
    "duration": 9,
    "start_time": "2024-11-21T17:00:35.588Z"
   },
   {
    "duration": 122,
    "start_time": "2024-11-21T17:00:35.599Z"
   },
   {
    "duration": 34,
    "start_time": "2024-11-21T17:00:35.723Z"
   },
   {
    "duration": 3,
    "start_time": "2024-11-21T17:00:35.759Z"
   },
   {
    "duration": 57,
    "start_time": "2024-11-21T17:00:35.764Z"
   },
   {
    "duration": 4,
    "start_time": "2024-11-21T17:00:35.823Z"
   },
   {
    "duration": 417,
    "start_time": "2024-11-21T17:00:35.829Z"
   },
   {
    "duration": 1167,
    "start_time": "2024-11-21T17:00:36.248Z"
   },
   {
    "duration": 173,
    "start_time": "2024-11-21T17:00:37.417Z"
   },
   {
    "duration": 281,
    "start_time": "2024-11-21T17:00:37.592Z"
   },
   {
    "duration": 1013,
    "start_time": "2024-11-21T17:00:37.875Z"
   },
   {
    "duration": 235,
    "start_time": "2024-11-21T17:00:38.890Z"
   },
   {
    "duration": 1738,
    "start_time": "2024-11-21T17:00:39.127Z"
   },
   {
    "duration": 3,
    "start_time": "2024-11-21T17:00:40.870Z"
   },
   {
    "duration": 7,
    "start_time": "2024-11-21T17:00:40.875Z"
   },
   {
    "duration": 60,
    "start_time": "2024-11-21T17:00:40.884Z"
   },
   {
    "duration": 25,
    "start_time": "2024-11-21T17:00:40.945Z"
   },
   {
    "duration": 12,
    "start_time": "2024-11-21T17:00:40.972Z"
   },
   {
    "duration": 17,
    "start_time": "2024-11-21T17:00:40.986Z"
   },
   {
    "duration": 6,
    "start_time": "2024-11-21T17:00:41.005Z"
   },
   {
    "duration": 16,
    "start_time": "2024-11-21T17:00:41.013Z"
   },
   {
    "duration": 79,
    "start_time": "2024-11-21T17:00:41.031Z"
   },
   {
    "duration": 7,
    "start_time": "2024-11-21T17:00:41.112Z"
   },
   {
    "duration": 14,
    "start_time": "2024-11-21T17:03:16.387Z"
   },
   {
    "duration": 7,
    "start_time": "2024-11-21T17:03:17.340Z"
   },
   {
    "duration": 1875,
    "start_time": "2024-11-21T17:03:22.428Z"
   },
   {
    "duration": 14,
    "start_time": "2024-11-21T17:03:24.305Z"
   },
   {
    "duration": 85,
    "start_time": "2024-11-21T17:03:24.321Z"
   },
   {
    "duration": 45,
    "start_time": "2024-11-21T17:03:24.409Z"
   },
   {
    "duration": 3,
    "start_time": "2024-11-21T17:03:24.456Z"
   },
   {
    "duration": 52,
    "start_time": "2024-11-21T17:03:24.461Z"
   },
   {
    "duration": 4,
    "start_time": "2024-11-21T17:03:24.514Z"
   },
   {
    "duration": 464,
    "start_time": "2024-11-21T17:03:24.519Z"
   },
   {
    "duration": 1207,
    "start_time": "2024-11-21T17:03:24.985Z"
   },
   {
    "duration": 168,
    "start_time": "2024-11-21T17:03:26.194Z"
   },
   {
    "duration": 287,
    "start_time": "2024-11-21T17:03:26.364Z"
   },
   {
    "duration": 1097,
    "start_time": "2024-11-21T17:03:26.653Z"
   },
   {
    "duration": 244,
    "start_time": "2024-11-21T17:03:27.751Z"
   },
   {
    "duration": 2707,
    "start_time": "2024-11-21T17:03:27.997Z"
   },
   {
    "duration": 3,
    "start_time": "2024-11-21T17:03:30.706Z"
   },
   {
    "duration": 27,
    "start_time": "2024-11-21T17:03:30.711Z"
   },
   {
    "duration": 54,
    "start_time": "2024-11-21T17:03:30.740Z"
   },
   {
    "duration": 4,
    "start_time": "2024-11-21T17:03:30.796Z"
   },
   {
    "duration": 7,
    "start_time": "2024-11-21T17:03:30.801Z"
   },
   {
    "duration": 33,
    "start_time": "2024-11-21T17:03:30.809Z"
   },
   {
    "duration": 7,
    "start_time": "2024-11-21T17:03:30.844Z"
   },
   {
    "duration": 54,
    "start_time": "2024-11-21T17:03:30.853Z"
   },
   {
    "duration": 139,
    "start_time": "2024-11-21T17:03:30.909Z"
   },
   {
    "duration": 50,
    "start_time": "2024-11-21T17:05:08.419Z"
   },
   {
    "duration": 7,
    "start_time": "2024-11-21T17:05:38.942Z"
   },
   {
    "duration": 47,
    "start_time": "2024-11-21T17:05:42.927Z"
   },
   {
    "duration": 1788,
    "start_time": "2024-11-21T17:05:52.655Z"
   },
   {
    "duration": 9,
    "start_time": "2024-11-21T17:05:54.445Z"
   },
   {
    "duration": 87,
    "start_time": "2024-11-21T17:05:54.455Z"
   },
   {
    "duration": 47,
    "start_time": "2024-11-21T17:05:54.545Z"
   },
   {
    "duration": 3,
    "start_time": "2024-11-21T17:05:54.594Z"
   },
   {
    "duration": 41,
    "start_time": "2024-11-21T17:05:54.599Z"
   },
   {
    "duration": 11,
    "start_time": "2024-11-21T17:05:54.671Z"
   },
   {
    "duration": 424,
    "start_time": "2024-11-21T17:05:54.687Z"
   },
   {
    "duration": 1181,
    "start_time": "2024-11-21T17:05:55.113Z"
   },
   {
    "duration": 170,
    "start_time": "2024-11-21T17:05:56.296Z"
   },
   {
    "duration": 276,
    "start_time": "2024-11-21T17:05:56.468Z"
   },
   {
    "duration": 1127,
    "start_time": "2024-11-21T17:05:56.747Z"
   },
   {
    "duration": 241,
    "start_time": "2024-11-21T17:05:57.876Z"
   },
   {
    "duration": 8797,
    "start_time": "2024-11-21T17:05:58.119Z"
   },
   {
    "duration": 2,
    "start_time": "2024-11-21T17:06:06.918Z"
   },
   {
    "duration": 17,
    "start_time": "2024-11-21T17:06:06.922Z"
   },
   {
    "duration": 55,
    "start_time": "2024-11-21T17:06:06.941Z"
   },
   {
    "duration": 4,
    "start_time": "2024-11-21T17:06:06.998Z"
   },
   {
    "duration": 6,
    "start_time": "2024-11-21T17:06:07.003Z"
   },
   {
    "duration": 17,
    "start_time": "2024-11-21T17:06:07.010Z"
   },
   {
    "duration": 7,
    "start_time": "2024-11-21T17:06:07.029Z"
   },
   {
    "duration": 11,
    "start_time": "2024-11-21T17:06:07.038Z"
   },
   {
    "duration": 36,
    "start_time": "2024-11-21T17:06:07.051Z"
   },
   {
    "duration": 1689,
    "start_time": "2024-11-21T17:09:21.639Z"
   },
   {
    "duration": 9,
    "start_time": "2024-11-21T17:09:23.330Z"
   },
   {
    "duration": 92,
    "start_time": "2024-11-21T17:09:23.340Z"
   },
   {
    "duration": 41,
    "start_time": "2024-11-21T17:09:23.434Z"
   },
   {
    "duration": 4,
    "start_time": "2024-11-21T17:09:23.477Z"
   },
   {
    "duration": 43,
    "start_time": "2024-11-21T17:09:23.482Z"
   },
   {
    "duration": 4,
    "start_time": "2024-11-21T17:09:23.527Z"
   },
   {
    "duration": 426,
    "start_time": "2024-11-21T17:09:23.533Z"
   },
   {
    "duration": 1141,
    "start_time": "2024-11-21T17:09:23.961Z"
   },
   {
    "duration": 167,
    "start_time": "2024-11-21T17:09:25.105Z"
   },
   {
    "duration": 285,
    "start_time": "2024-11-21T17:09:25.273Z"
   },
   {
    "duration": 1038,
    "start_time": "2024-11-21T17:09:25.560Z"
   },
   {
    "duration": 229,
    "start_time": "2024-11-21T17:09:26.599Z"
   },
   {
    "duration": 1358,
    "start_time": "2024-11-21T17:09:26.830Z"
   },
   {
    "duration": 5,
    "start_time": "2024-11-21T17:09:28.191Z"
   },
   {
    "duration": 8,
    "start_time": "2024-11-21T17:09:28.199Z"
   },
   {
    "duration": 79,
    "start_time": "2024-11-21T17:09:28.209Z"
   },
   {
    "duration": 5,
    "start_time": "2024-11-21T17:09:28.290Z"
   },
   {
    "duration": 5,
    "start_time": "2024-11-21T17:09:28.296Z"
   },
   {
    "duration": 15,
    "start_time": "2024-11-21T17:09:28.303Z"
   },
   {
    "duration": 13,
    "start_time": "2024-11-21T17:09:28.319Z"
   },
   {
    "duration": 21,
    "start_time": "2024-11-21T17:09:28.334Z"
   },
   {
    "duration": 30,
    "start_time": "2024-11-21T17:09:28.357Z"
   },
   {
    "duration": 1741,
    "start_time": "2024-11-21T17:09:43.163Z"
   },
   {
    "duration": 10,
    "start_time": "2024-11-21T17:09:44.906Z"
   },
   {
    "duration": 88,
    "start_time": "2024-11-21T17:09:44.918Z"
   },
   {
    "duration": 36,
    "start_time": "2024-11-21T17:09:45.008Z"
   },
   {
    "duration": 4,
    "start_time": "2024-11-21T17:09:45.045Z"
   },
   {
    "duration": 33,
    "start_time": "2024-11-21T17:09:45.071Z"
   },
   {
    "duration": 4,
    "start_time": "2024-11-21T17:09:45.106Z"
   },
   {
    "duration": 431,
    "start_time": "2024-11-21T17:09:45.111Z"
   },
   {
    "duration": 1119,
    "start_time": "2024-11-21T17:09:45.544Z"
   },
   {
    "duration": 154,
    "start_time": "2024-11-21T17:09:46.670Z"
   },
   {
    "duration": 273,
    "start_time": "2024-11-21T17:09:46.826Z"
   },
   {
    "duration": 976,
    "start_time": "2024-11-21T17:09:47.100Z"
   },
   {
    "duration": 255,
    "start_time": "2024-11-21T17:09:48.078Z"
   },
   {
    "duration": 1064,
    "start_time": "2024-11-21T17:09:48.335Z"
   },
   {
    "duration": 3,
    "start_time": "2024-11-21T17:09:49.401Z"
   },
   {
    "duration": 69,
    "start_time": "2024-11-21T17:09:49.406Z"
   },
   {
    "duration": 55,
    "start_time": "2024-11-21T17:09:49.477Z"
   },
   {
    "duration": 4,
    "start_time": "2024-11-21T17:09:49.533Z"
   },
   {
    "duration": 22,
    "start_time": "2024-11-21T17:09:49.538Z"
   },
   {
    "duration": 17,
    "start_time": "2024-11-21T17:09:49.562Z"
   },
   {
    "duration": 7,
    "start_time": "2024-11-21T17:09:49.581Z"
   },
   {
    "duration": 13,
    "start_time": "2024-11-21T17:09:49.589Z"
   },
   {
    "duration": 16,
    "start_time": "2024-11-21T17:09:49.604Z"
   },
   {
    "duration": 6,
    "start_time": "2024-11-21T17:10:18.833Z"
   },
   {
    "duration": 29,
    "start_time": "2024-11-21T17:10:18.841Z"
   },
   {
    "duration": 83,
    "start_time": "2024-11-21T17:10:18.872Z"
   },
   {
    "duration": 27,
    "start_time": "2024-11-21T17:10:18.956Z"
   },
   {
    "duration": 3,
    "start_time": "2024-11-21T17:10:18.987Z"
   },
   {
    "duration": 35,
    "start_time": "2024-11-21T17:10:18.992Z"
   },
   {
    "duration": 4,
    "start_time": "2024-11-21T17:10:19.028Z"
   },
   {
    "duration": 349,
    "start_time": "2024-11-21T17:10:19.033Z"
   },
   {
    "duration": 1108,
    "start_time": "2024-11-21T17:10:19.383Z"
   },
   {
    "duration": 286,
    "start_time": "2024-11-21T17:10:20.493Z"
   },
   {
    "duration": 272,
    "start_time": "2024-11-21T17:10:20.780Z"
   },
   {
    "duration": 916,
    "start_time": "2024-11-21T17:10:21.054Z"
   },
   {
    "duration": 220,
    "start_time": "2024-11-21T17:10:21.972Z"
   },
   {
    "duration": 1183,
    "start_time": "2024-11-21T17:10:22.194Z"
   },
   {
    "duration": 3,
    "start_time": "2024-11-21T17:10:23.379Z"
   },
   {
    "duration": 6,
    "start_time": "2024-11-21T17:10:23.383Z"
   },
   {
    "duration": 47,
    "start_time": "2024-11-21T17:10:23.391Z"
   },
   {
    "duration": 43,
    "start_time": "2024-11-21T17:10:23.440Z"
   },
   {
    "duration": 5,
    "start_time": "2024-11-21T17:10:23.485Z"
   },
   {
    "duration": 11,
    "start_time": "2024-11-21T17:10:23.492Z"
   },
   {
    "duration": 9,
    "start_time": "2024-11-21T17:10:23.504Z"
   },
   {
    "duration": 14,
    "start_time": "2024-11-21T17:10:23.514Z"
   },
   {
    "duration": 14,
    "start_time": "2024-11-21T17:10:23.530Z"
   },
   {
    "duration": 9,
    "start_time": "2024-11-21T17:10:44.708Z"
   },
   {
    "duration": 20,
    "start_time": "2024-11-21T17:10:46.158Z"
   },
   {
    "duration": 1789,
    "start_time": "2024-11-21T17:10:59.781Z"
   },
   {
    "duration": 11,
    "start_time": "2024-11-21T17:11:01.572Z"
   },
   {
    "duration": 118,
    "start_time": "2024-11-21T17:11:01.585Z"
   },
   {
    "duration": 35,
    "start_time": "2024-11-21T17:11:01.706Z"
   },
   {
    "duration": 4,
    "start_time": "2024-11-21T17:11:01.742Z"
   },
   {
    "duration": 59,
    "start_time": "2024-11-21T17:11:01.748Z"
   },
   {
    "duration": 4,
    "start_time": "2024-11-21T17:11:01.808Z"
   },
   {
    "duration": 465,
    "start_time": "2024-11-21T17:11:01.814Z"
   },
   {
    "duration": 1227,
    "start_time": "2024-11-21T17:11:02.281Z"
   },
   {
    "duration": 169,
    "start_time": "2024-11-21T17:11:03.512Z"
   },
   {
    "duration": 290,
    "start_time": "2024-11-21T17:11:03.683Z"
   },
   {
    "duration": 1076,
    "start_time": "2024-11-21T17:11:03.975Z"
   },
   {
    "duration": 245,
    "start_time": "2024-11-21T17:11:05.052Z"
   },
   {
    "duration": 3042,
    "start_time": "2024-11-21T17:11:05.299Z"
   },
   {
    "duration": 3,
    "start_time": "2024-11-21T17:11:08.343Z"
   },
   {
    "duration": 19,
    "start_time": "2024-11-21T17:11:08.347Z"
   },
   {
    "duration": 55,
    "start_time": "2024-11-21T17:11:08.367Z"
   },
   {
    "duration": 4,
    "start_time": "2024-11-21T17:11:08.424Z"
   },
   {
    "duration": 6,
    "start_time": "2024-11-21T17:11:08.430Z"
   },
   {
    "duration": 7,
    "start_time": "2024-11-21T17:11:08.437Z"
   },
   {
    "duration": 27,
    "start_time": "2024-11-21T17:11:08.445Z"
   },
   {
    "duration": 12,
    "start_time": "2024-11-21T17:11:08.473Z"
   },
   {
    "duration": 24,
    "start_time": "2024-11-21T17:11:08.487Z"
   },
   {
    "duration": 1790,
    "start_time": "2024-11-21T17:12:22.873Z"
   },
   {
    "duration": 10,
    "start_time": "2024-11-21T17:12:24.664Z"
   },
   {
    "duration": 85,
    "start_time": "2024-11-21T17:12:24.677Z"
   },
   {
    "duration": 37,
    "start_time": "2024-11-21T17:12:24.764Z"
   },
   {
    "duration": 3,
    "start_time": "2024-11-21T17:12:24.802Z"
   },
   {
    "duration": 70,
    "start_time": "2024-11-21T17:12:24.807Z"
   },
   {
    "duration": 5,
    "start_time": "2024-11-21T17:12:24.879Z"
   },
   {
    "duration": 466,
    "start_time": "2024-11-21T17:12:24.885Z"
   },
   {
    "duration": 1187,
    "start_time": "2024-11-21T17:12:25.353Z"
   },
   {
    "duration": 173,
    "start_time": "2024-11-21T17:12:26.543Z"
   },
   {
    "duration": 289,
    "start_time": "2024-11-21T17:12:26.719Z"
   },
   {
    "duration": 1032,
    "start_time": "2024-11-21T17:12:27.010Z"
   },
   {
    "duration": 269,
    "start_time": "2024-11-21T17:12:28.044Z"
   },
   {
    "duration": 1979,
    "start_time": "2024-11-21T17:12:28.314Z"
   },
   {
    "duration": 3,
    "start_time": "2024-11-21T17:12:30.295Z"
   },
   {
    "duration": 22,
    "start_time": "2024-11-21T17:12:30.300Z"
   },
   {
    "duration": 68,
    "start_time": "2024-11-21T17:12:30.324Z"
   },
   {
    "duration": 5,
    "start_time": "2024-11-21T17:12:30.394Z"
   },
   {
    "duration": 17,
    "start_time": "2024-11-21T17:12:30.401Z"
   },
   {
    "duration": 23,
    "start_time": "2024-11-21T17:12:30.419Z"
   },
   {
    "duration": 4,
    "start_time": "2024-11-21T17:12:30.444Z"
   },
   {
    "duration": 14,
    "start_time": "2024-11-21T17:12:30.450Z"
   },
   {
    "duration": 17,
    "start_time": "2024-11-21T17:12:30.466Z"
   },
   {
    "duration": 1764,
    "start_time": "2024-11-21T17:13:04.720Z"
   },
   {
    "duration": 13,
    "start_time": "2024-11-21T17:13:06.487Z"
   },
   {
    "duration": 89,
    "start_time": "2024-11-21T17:13:06.504Z"
   },
   {
    "duration": 41,
    "start_time": "2024-11-21T17:13:06.595Z"
   },
   {
    "duration": 3,
    "start_time": "2024-11-21T17:13:06.638Z"
   },
   {
    "duration": 59,
    "start_time": "2024-11-21T17:13:06.642Z"
   },
   {
    "duration": 4,
    "start_time": "2024-11-21T17:13:06.703Z"
   },
   {
    "duration": 445,
    "start_time": "2024-11-21T17:13:06.709Z"
   },
   {
    "duration": 1207,
    "start_time": "2024-11-21T17:13:07.157Z"
   },
   {
    "duration": 165,
    "start_time": "2024-11-21T17:13:08.369Z"
   },
   {
    "duration": 287,
    "start_time": "2024-11-21T17:13:08.535Z"
   },
   {
    "duration": 1107,
    "start_time": "2024-11-21T17:13:08.824Z"
   },
   {
    "duration": 240,
    "start_time": "2024-11-21T17:13:09.932Z"
   },
   {
    "duration": 1617,
    "start_time": "2024-11-21T17:13:10.174Z"
   },
   {
    "duration": 4,
    "start_time": "2024-11-21T17:13:11.792Z"
   },
   {
    "duration": 12,
    "start_time": "2024-11-21T17:13:11.798Z"
   },
   {
    "duration": 63,
    "start_time": "2024-11-21T17:13:11.812Z"
   },
   {
    "duration": 4,
    "start_time": "2024-11-21T17:13:11.877Z"
   },
   {
    "duration": 9,
    "start_time": "2024-11-21T17:13:11.883Z"
   },
   {
    "duration": 10,
    "start_time": "2024-11-21T17:13:11.894Z"
   },
   {
    "duration": 20,
    "start_time": "2024-11-21T17:13:11.905Z"
   },
   {
    "duration": 17,
    "start_time": "2024-11-21T17:13:11.926Z"
   },
   {
    "duration": 17,
    "start_time": "2024-11-21T17:13:11.945Z"
   },
   {
    "duration": 962,
    "start_time": "2024-11-21T17:15:12.783Z"
   },
   {
    "duration": 1303,
    "start_time": "2024-11-21T17:15:56.643Z"
   },
   {
    "duration": 1771,
    "start_time": "2024-11-21T17:16:51.266Z"
   },
   {
    "duration": 9,
    "start_time": "2024-11-21T17:16:53.039Z"
   },
   {
    "duration": 91,
    "start_time": "2024-11-21T17:16:53.050Z"
   },
   {
    "duration": 35,
    "start_time": "2024-11-21T17:16:53.142Z"
   },
   {
    "duration": 25,
    "start_time": "2024-11-21T17:16:53.179Z"
   },
   {
    "duration": 33,
    "start_time": "2024-11-21T17:16:53.205Z"
   },
   {
    "duration": 4,
    "start_time": "2024-11-21T17:16:53.239Z"
   },
   {
    "duration": 471,
    "start_time": "2024-11-21T17:16:53.244Z"
   },
   {
    "duration": 1180,
    "start_time": "2024-11-21T17:16:53.717Z"
   },
   {
    "duration": 158,
    "start_time": "2024-11-21T17:16:54.898Z"
   },
   {
    "duration": 278,
    "start_time": "2024-11-21T17:16:55.057Z"
   },
   {
    "duration": 1029,
    "start_time": "2024-11-21T17:16:55.336Z"
   },
   {
    "duration": 234,
    "start_time": "2024-11-21T17:16:56.372Z"
   },
   {
    "duration": 1596,
    "start_time": "2024-11-21T17:16:56.609Z"
   },
   {
    "duration": 5,
    "start_time": "2024-11-21T17:16:58.207Z"
   },
   {
    "duration": 8,
    "start_time": "2024-11-21T17:16:58.214Z"
   },
   {
    "duration": 82,
    "start_time": "2024-11-21T17:16:58.224Z"
   },
   {
    "duration": 4,
    "start_time": "2024-11-21T17:16:58.308Z"
   },
   {
    "duration": 5,
    "start_time": "2024-11-21T17:16:58.313Z"
   },
   {
    "duration": 5,
    "start_time": "2024-11-21T17:16:58.319Z"
   },
   {
    "duration": 4,
    "start_time": "2024-11-21T17:16:58.327Z"
   },
   {
    "duration": 38,
    "start_time": "2024-11-21T17:16:58.333Z"
   },
   {
    "duration": 6,
    "start_time": "2024-11-21T17:16:58.373Z"
   },
   {
    "duration": 1281,
    "start_time": "2024-11-21T17:16:58.381Z"
   },
   {
    "duration": 5,
    "start_time": "2024-11-21T17:17:37.767Z"
   },
   {
    "duration": 1314,
    "start_time": "2024-11-21T17:17:54.615Z"
   },
   {
    "duration": 1226,
    "start_time": "2024-11-21T17:18:23.210Z"
   },
   {
    "duration": 147,
    "start_time": "2024-11-21T17:20:33.426Z"
   },
   {
    "duration": 1827,
    "start_time": "2024-11-21T17:21:46.815Z"
   },
   {
    "duration": 3,
    "start_time": "2024-11-21T17:21:48.644Z"
   },
   {
    "duration": 10,
    "start_time": "2024-11-21T17:21:48.648Z"
   },
   {
    "duration": 90,
    "start_time": "2024-11-21T17:21:48.660Z"
   },
   {
    "duration": 31,
    "start_time": "2024-11-21T17:21:48.752Z"
   },
   {
    "duration": 4,
    "start_time": "2024-11-21T17:21:48.785Z"
   },
   {
    "duration": 42,
    "start_time": "2024-11-21T17:21:48.791Z"
   },
   {
    "duration": 36,
    "start_time": "2024-11-21T17:21:48.834Z"
   },
   {
    "duration": 494,
    "start_time": "2024-11-21T17:21:48.872Z"
   },
   {
    "duration": 1199,
    "start_time": "2024-11-21T17:21:49.370Z"
   },
   {
    "duration": 183,
    "start_time": "2024-11-21T17:21:50.571Z"
   },
   {
    "duration": 276,
    "start_time": "2024-11-21T17:21:50.756Z"
   },
   {
    "duration": 1008,
    "start_time": "2024-11-21T17:21:51.034Z"
   },
   {
    "duration": 237,
    "start_time": "2024-11-21T17:21:52.044Z"
   },
   {
    "duration": 1992,
    "start_time": "2024-11-21T17:21:52.284Z"
   },
   {
    "duration": 3,
    "start_time": "2024-11-21T17:21:54.278Z"
   },
   {
    "duration": 7,
    "start_time": "2024-11-21T17:21:54.283Z"
   },
   {
    "duration": 55,
    "start_time": "2024-11-21T17:21:54.292Z"
   },
   {
    "duration": 24,
    "start_time": "2024-11-21T17:21:54.348Z"
   },
   {
    "duration": 6,
    "start_time": "2024-11-21T17:21:54.374Z"
   },
   {
    "duration": 11,
    "start_time": "2024-11-21T17:21:54.382Z"
   },
   {
    "duration": 5,
    "start_time": "2024-11-21T17:21:54.395Z"
   },
   {
    "duration": 25,
    "start_time": "2024-11-21T17:21:54.402Z"
   },
   {
    "duration": 15,
    "start_time": "2024-11-21T17:21:54.429Z"
   },
   {
    "duration": 1245,
    "start_time": "2024-11-21T17:21:54.446Z"
   },
   {
    "duration": 4,
    "start_time": "2024-11-21T17:21:55.693Z"
   },
   {
    "duration": 18,
    "start_time": "2024-11-21T17:21:55.698Z"
   },
   {
    "duration": 12,
    "start_time": "2024-11-21T17:21:55.719Z"
   },
   {
    "duration": 1916,
    "start_time": "2024-11-21T17:23:07.641Z"
   },
   {
    "duration": 3,
    "start_time": "2024-11-21T17:23:09.559Z"
   },
   {
    "duration": 11,
    "start_time": "2024-11-21T17:23:09.564Z"
   },
   {
    "duration": 81,
    "start_time": "2024-11-21T17:23:09.577Z"
   },
   {
    "duration": 49,
    "start_time": "2024-11-21T17:23:09.660Z"
   },
   {
    "duration": 5,
    "start_time": "2024-11-21T17:23:09.711Z"
   },
   {
    "duration": 74,
    "start_time": "2024-11-21T17:23:09.718Z"
   },
   {
    "duration": 12,
    "start_time": "2024-11-21T17:23:09.794Z"
   },
   {
    "duration": 507,
    "start_time": "2024-11-21T17:23:09.808Z"
   },
   {
    "duration": 1252,
    "start_time": "2024-11-21T17:23:10.318Z"
   },
   {
    "duration": 177,
    "start_time": "2024-11-21T17:23:11.572Z"
   },
   {
    "duration": 291,
    "start_time": "2024-11-21T17:23:11.750Z"
   },
   {
    "duration": 1117,
    "start_time": "2024-11-21T17:23:12.043Z"
   },
   {
    "duration": 268,
    "start_time": "2024-11-21T17:23:13.162Z"
   },
   {
    "duration": 4440,
    "start_time": "2024-11-21T17:23:13.432Z"
   },
   {
    "duration": 3,
    "start_time": "2024-11-21T17:23:17.874Z"
   },
   {
    "duration": 8,
    "start_time": "2024-11-21T17:23:17.880Z"
   },
   {
    "duration": 57,
    "start_time": "2024-11-21T17:23:17.891Z"
   },
   {
    "duration": 5,
    "start_time": "2024-11-21T17:23:17.970Z"
   },
   {
    "duration": 9,
    "start_time": "2024-11-21T17:23:17.977Z"
   },
   {
    "duration": 6,
    "start_time": "2024-11-21T17:23:17.989Z"
   },
   {
    "duration": 6,
    "start_time": "2024-11-21T17:23:17.997Z"
   },
   {
    "duration": 19,
    "start_time": "2024-11-21T17:23:18.005Z"
   },
   {
    "duration": 5,
    "start_time": "2024-11-21T17:23:18.026Z"
   },
   {
    "duration": 1371,
    "start_time": "2024-11-21T17:23:18.033Z"
   },
   {
    "duration": 5,
    "start_time": "2024-11-21T17:23:19.407Z"
   },
   {
    "duration": 23,
    "start_time": "2024-11-21T17:23:19.414Z"
   },
   {
    "duration": 44,
    "start_time": "2024-11-21T17:23:19.441Z"
   },
   {
    "duration": 4,
    "start_time": "2024-11-21T17:24:33.024Z"
   },
   {
    "duration": 148,
    "start_time": "2024-11-21T17:24:56.406Z"
   },
   {
    "duration": 23,
    "start_time": "2024-11-21T17:26:43.530Z"
   },
   {
    "duration": 1749,
    "start_time": "2024-11-21T17:26:54.620Z"
   },
   {
    "duration": 3,
    "start_time": "2024-11-21T17:26:56.371Z"
   },
   {
    "duration": 10,
    "start_time": "2024-11-21T17:26:56.375Z"
   },
   {
    "duration": 83,
    "start_time": "2024-11-21T17:26:56.387Z"
   },
   {
    "duration": 42,
    "start_time": "2024-11-21T17:26:56.472Z"
   },
   {
    "duration": 3,
    "start_time": "2024-11-21T17:26:56.516Z"
   },
   {
    "duration": 65,
    "start_time": "2024-11-21T17:26:56.521Z"
   },
   {
    "duration": 5,
    "start_time": "2024-11-21T17:26:56.588Z"
   },
   {
    "duration": 480,
    "start_time": "2024-11-21T17:26:56.595Z"
   },
   {
    "duration": 1269,
    "start_time": "2024-11-21T17:26:57.076Z"
   },
   {
    "duration": 156,
    "start_time": "2024-11-21T17:26:58.347Z"
   },
   {
    "duration": 291,
    "start_time": "2024-11-21T17:26:58.505Z"
   },
   {
    "duration": 1087,
    "start_time": "2024-11-21T17:26:58.798Z"
   },
   {
    "duration": 239,
    "start_time": "2024-11-21T17:26:59.887Z"
   },
   {
    "duration": 2173,
    "start_time": "2024-11-21T17:27:00.128Z"
   },
   {
    "duration": 4,
    "start_time": "2024-11-21T17:27:02.303Z"
   },
   {
    "duration": 24,
    "start_time": "2024-11-21T17:27:02.310Z"
   },
   {
    "duration": 67,
    "start_time": "2024-11-21T17:27:02.336Z"
   },
   {
    "duration": 48,
    "start_time": "2024-11-21T17:27:02.404Z"
   },
   {
    "duration": 6,
    "start_time": "2024-11-21T17:27:02.454Z"
   },
   {
    "duration": 15,
    "start_time": "2024-11-21T17:27:02.462Z"
   },
   {
    "duration": 15,
    "start_time": "2024-11-21T17:27:02.479Z"
   },
   {
    "duration": 50,
    "start_time": "2024-11-21T17:27:02.496Z"
   },
   {
    "duration": 17,
    "start_time": "2024-11-21T17:27:02.548Z"
   },
   {
    "duration": 1253,
    "start_time": "2024-11-21T17:27:02.567Z"
   },
   {
    "duration": 4,
    "start_time": "2024-11-21T17:27:03.821Z"
   },
   {
    "duration": 18,
    "start_time": "2024-11-21T17:27:03.827Z"
   },
   {
    "duration": 31,
    "start_time": "2024-11-21T17:27:03.846Z"
   },
   {
    "duration": 182,
    "start_time": "2024-11-21T17:27:03.879Z"
   },
   {
    "duration": 1800,
    "start_time": "2024-11-21T17:27:54.774Z"
   },
   {
    "duration": 3,
    "start_time": "2024-11-21T17:27:56.576Z"
   },
   {
    "duration": 10,
    "start_time": "2024-11-21T17:27:56.581Z"
   },
   {
    "duration": 87,
    "start_time": "2024-11-21T17:27:56.593Z"
   },
   {
    "duration": 34,
    "start_time": "2024-11-21T17:27:56.684Z"
   },
   {
    "duration": 3,
    "start_time": "2024-11-21T17:27:56.720Z"
   },
   {
    "duration": 67,
    "start_time": "2024-11-21T17:27:56.725Z"
   },
   {
    "duration": 3,
    "start_time": "2024-11-21T17:27:56.793Z"
   },
   {
    "duration": 468,
    "start_time": "2024-11-21T17:27:56.798Z"
   },
   {
    "duration": 1275,
    "start_time": "2024-11-21T17:27:57.268Z"
   },
   {
    "duration": 177,
    "start_time": "2024-11-21T17:27:58.544Z"
   },
   {
    "duration": 288,
    "start_time": "2024-11-21T17:27:58.723Z"
   },
   {
    "duration": 1144,
    "start_time": "2024-11-21T17:27:59.013Z"
   },
   {
    "duration": 259,
    "start_time": "2024-11-21T17:28:00.160Z"
   },
   {
    "duration": 3217,
    "start_time": "2024-11-21T17:28:00.422Z"
   },
   {
    "duration": 3,
    "start_time": "2024-11-21T17:28:03.641Z"
   },
   {
    "duration": 24,
    "start_time": "2024-11-21T17:28:03.645Z"
   },
   {
    "duration": 78,
    "start_time": "2024-11-21T17:28:03.672Z"
   },
   {
    "duration": 4,
    "start_time": "2024-11-21T17:28:03.752Z"
   },
   {
    "duration": 9,
    "start_time": "2024-11-21T17:28:03.758Z"
   },
   {
    "duration": 20,
    "start_time": "2024-11-21T17:28:03.769Z"
   },
   {
    "duration": 16,
    "start_time": "2024-11-21T17:28:03.790Z"
   },
   {
    "duration": 40,
    "start_time": "2024-11-21T17:28:03.808Z"
   },
   {
    "duration": 9,
    "start_time": "2024-11-21T17:28:03.850Z"
   },
   {
    "duration": 1285,
    "start_time": "2024-11-21T17:28:03.861Z"
   },
   {
    "duration": 4,
    "start_time": "2024-11-21T17:28:05.147Z"
   },
   {
    "duration": 30,
    "start_time": "2024-11-21T17:28:05.152Z"
   },
   {
    "duration": 18,
    "start_time": "2024-11-21T17:28:05.183Z"
   },
   {
    "duration": 24369,
    "start_time": "2024-11-21T17:28:05.203Z"
   },
   {
    "duration": 24053,
    "start_time": "2024-11-21T17:32:42.019Z"
   },
   {
    "duration": 24269,
    "start_time": "2024-11-21T17:35:32.142Z"
   },
   {
    "duration": 1846,
    "start_time": "2024-11-21T17:37:04.918Z"
   },
   {
    "duration": 2,
    "start_time": "2024-11-21T17:37:06.770Z"
   },
   {
    "duration": 15,
    "start_time": "2024-11-21T17:37:06.775Z"
   },
   {
    "duration": 80,
    "start_time": "2024-11-21T17:37:06.792Z"
   },
   {
    "duration": 36,
    "start_time": "2024-11-21T17:37:06.874Z"
   },
   {
    "duration": 4,
    "start_time": "2024-11-21T17:37:06.912Z"
   },
   {
    "duration": 69,
    "start_time": "2024-11-21T17:37:06.918Z"
   },
   {
    "duration": 5,
    "start_time": "2024-11-21T17:37:06.989Z"
   },
   {
    "duration": 456,
    "start_time": "2024-11-21T17:37:06.995Z"
   },
   {
    "duration": 1249,
    "start_time": "2024-11-21T17:37:07.454Z"
   },
   {
    "duration": 170,
    "start_time": "2024-11-21T17:37:08.705Z"
   },
   {
    "duration": 283,
    "start_time": "2024-11-21T17:37:08.877Z"
   },
   {
    "duration": 1073,
    "start_time": "2024-11-21T17:37:09.169Z"
   },
   {
    "duration": 257,
    "start_time": "2024-11-21T17:37:10.243Z"
   },
   {
    "duration": 2792,
    "start_time": "2024-11-21T17:37:10.502Z"
   },
   {
    "duration": 4,
    "start_time": "2024-11-21T17:37:13.296Z"
   },
   {
    "duration": 7,
    "start_time": "2024-11-21T17:37:13.301Z"
   },
   {
    "duration": 80,
    "start_time": "2024-11-21T17:37:13.310Z"
   },
   {
    "duration": 3,
    "start_time": "2024-11-21T17:37:13.392Z"
   },
   {
    "duration": 5,
    "start_time": "2024-11-21T17:37:13.398Z"
   },
   {
    "duration": 5,
    "start_time": "2024-11-21T17:37:13.405Z"
   },
   {
    "duration": 7,
    "start_time": "2024-11-21T17:37:13.411Z"
   },
   {
    "duration": 16,
    "start_time": "2024-11-21T17:37:13.420Z"
   },
   {
    "duration": 9,
    "start_time": "2024-11-21T17:37:13.469Z"
   },
   {
    "duration": 1277,
    "start_time": "2024-11-21T17:37:13.480Z"
   },
   {
    "duration": 4,
    "start_time": "2024-11-21T17:37:14.758Z"
   },
   {
    "duration": 24,
    "start_time": "2024-11-21T17:37:14.763Z"
   },
   {
    "duration": 19,
    "start_time": "2024-11-21T17:37:14.791Z"
   },
   {
    "duration": 12,
    "start_time": "2024-11-21T17:37:14.812Z"
   },
   {
    "duration": 24548,
    "start_time": "2024-11-21T17:37:14.827Z"
   },
   {
    "duration": 7,
    "start_time": "2024-11-21T17:38:14.654Z"
   },
   {
    "duration": 1729,
    "start_time": "2024-11-21T17:42:17.313Z"
   },
   {
    "duration": 3,
    "start_time": "2024-11-21T17:42:19.044Z"
   },
   {
    "duration": 9,
    "start_time": "2024-11-21T17:42:19.049Z"
   },
   {
    "duration": 88,
    "start_time": "2024-11-21T17:42:19.060Z"
   },
   {
    "duration": 34,
    "start_time": "2024-11-21T17:42:19.151Z"
   },
   {
    "duration": 3,
    "start_time": "2024-11-21T17:42:19.187Z"
   },
   {
    "duration": 37,
    "start_time": "2024-11-21T17:42:19.192Z"
   },
   {
    "duration": 4,
    "start_time": "2024-11-21T17:42:19.230Z"
   },
   {
    "duration": 507,
    "start_time": "2024-11-21T17:42:19.236Z"
   },
   {
    "duration": 1160,
    "start_time": "2024-11-21T17:42:19.745Z"
   },
   {
    "duration": 170,
    "start_time": "2024-11-21T17:42:20.907Z"
   },
   {
    "duration": 279,
    "start_time": "2024-11-21T17:42:21.079Z"
   },
   {
    "duration": 1088,
    "start_time": "2024-11-21T17:42:21.360Z"
   },
   {
    "duration": 247,
    "start_time": "2024-11-21T17:42:22.451Z"
   },
   {
    "duration": 2598,
    "start_time": "2024-11-21T17:42:22.700Z"
   },
   {
    "duration": 3,
    "start_time": "2024-11-21T17:42:25.299Z"
   },
   {
    "duration": 74,
    "start_time": "2024-11-21T17:42:25.304Z"
   },
   {
    "duration": 70,
    "start_time": "2024-11-21T17:42:25.380Z"
   },
   {
    "duration": 4,
    "start_time": "2024-11-21T17:42:25.452Z"
   },
   {
    "duration": 16,
    "start_time": "2024-11-21T17:42:25.457Z"
   },
   {
    "duration": 10,
    "start_time": "2024-11-21T17:42:25.475Z"
   },
   {
    "duration": 17,
    "start_time": "2024-11-21T17:42:25.487Z"
   },
   {
    "duration": 15,
    "start_time": "2024-11-21T17:42:25.506Z"
   },
   {
    "duration": 4,
    "start_time": "2024-11-21T17:42:25.523Z"
   },
   {
    "duration": 1303,
    "start_time": "2024-11-21T17:42:25.529Z"
   },
   {
    "duration": 4,
    "start_time": "2024-11-21T17:42:26.833Z"
   },
   {
    "duration": 13,
    "start_time": "2024-11-21T17:42:26.839Z"
   },
   {
    "duration": 30,
    "start_time": "2024-11-21T17:42:26.853Z"
   },
   {
    "duration": 23415,
    "start_time": "2024-11-21T17:42:26.886Z"
   },
   {
    "duration": 1808,
    "start_time": "2024-11-21T17:43:10.936Z"
   },
   {
    "duration": 2,
    "start_time": "2024-11-21T17:43:12.746Z"
   },
   {
    "duration": 9,
    "start_time": "2024-11-21T17:43:12.750Z"
   },
   {
    "duration": 88,
    "start_time": "2024-11-21T17:43:12.760Z"
   },
   {
    "duration": 40,
    "start_time": "2024-11-21T17:43:12.850Z"
   },
   {
    "duration": 4,
    "start_time": "2024-11-21T17:43:12.892Z"
   },
   {
    "duration": 33,
    "start_time": "2024-11-21T17:43:12.898Z"
   },
   {
    "duration": 3,
    "start_time": "2024-11-21T17:43:12.933Z"
   },
   {
    "duration": 433,
    "start_time": "2024-11-21T17:43:12.970Z"
   },
   {
    "duration": 1200,
    "start_time": "2024-11-21T17:43:13.405Z"
   },
   {
    "duration": 175,
    "start_time": "2024-11-21T17:43:14.607Z"
   },
   {
    "duration": 288,
    "start_time": "2024-11-21T17:43:14.785Z"
   },
   {
    "duration": 1058,
    "start_time": "2024-11-21T17:43:15.075Z"
   },
   {
    "duration": 252,
    "start_time": "2024-11-21T17:43:16.136Z"
   },
   {
    "duration": 3015,
    "start_time": "2024-11-21T17:43:16.390Z"
   },
   {
    "duration": 4,
    "start_time": "2024-11-21T17:43:19.407Z"
   },
   {
    "duration": 18,
    "start_time": "2024-11-21T17:43:19.412Z"
   },
   {
    "duration": 67,
    "start_time": "2024-11-21T17:43:19.432Z"
   },
   {
    "duration": 5,
    "start_time": "2024-11-21T17:43:19.501Z"
   },
   {
    "duration": 9,
    "start_time": "2024-11-21T17:43:19.507Z"
   },
   {
    "duration": 11,
    "start_time": "2024-11-21T17:43:19.518Z"
   },
   {
    "duration": 28,
    "start_time": "2024-11-21T17:43:19.531Z"
   },
   {
    "duration": 78,
    "start_time": "2024-11-21T17:43:19.561Z"
   },
   {
    "duration": 4,
    "start_time": "2024-11-21T17:43:19.641Z"
   },
   {
    "duration": 1349,
    "start_time": "2024-11-21T17:43:19.647Z"
   },
   {
    "duration": 4,
    "start_time": "2024-11-21T17:43:20.999Z"
   },
   {
    "duration": 27,
    "start_time": "2024-11-21T17:43:21.005Z"
   },
   {
    "duration": 23,
    "start_time": "2024-11-21T17:43:21.034Z"
   },
   {
    "duration": 23627,
    "start_time": "2024-11-21T17:43:21.074Z"
   },
   {
    "duration": 1762,
    "start_time": "2024-11-21T17:47:27.111Z"
   },
   {
    "duration": 4,
    "start_time": "2024-11-21T17:47:28.875Z"
   },
   {
    "duration": 11,
    "start_time": "2024-11-21T17:47:28.881Z"
   },
   {
    "duration": 80,
    "start_time": "2024-11-21T17:47:28.895Z"
   },
   {
    "duration": 43,
    "start_time": "2024-11-21T17:47:28.976Z"
   },
   {
    "duration": 3,
    "start_time": "2024-11-21T17:47:29.021Z"
   },
   {
    "duration": 65,
    "start_time": "2024-11-21T17:47:29.026Z"
   },
   {
    "duration": 5,
    "start_time": "2024-11-21T17:47:29.093Z"
   },
   {
    "duration": 502,
    "start_time": "2024-11-21T17:47:29.101Z"
   },
   {
    "duration": 1279,
    "start_time": "2024-11-21T17:47:29.607Z"
   },
   {
    "duration": 187,
    "start_time": "2024-11-21T17:47:30.887Z"
   },
   {
    "duration": 308,
    "start_time": "2024-11-21T17:47:31.076Z"
   },
   {
    "duration": 1064,
    "start_time": "2024-11-21T17:47:31.386Z"
   },
   {
    "duration": 233,
    "start_time": "2024-11-21T17:47:32.452Z"
   },
   {
    "duration": 3093,
    "start_time": "2024-11-21T17:47:32.686Z"
   },
   {
    "duration": 4,
    "start_time": "2024-11-21T17:47:35.782Z"
   },
   {
    "duration": 25,
    "start_time": "2024-11-21T17:47:35.788Z"
   },
   {
    "duration": 53,
    "start_time": "2024-11-21T17:47:35.815Z"
   },
   {
    "duration": 5,
    "start_time": "2024-11-21T17:47:35.870Z"
   },
   {
    "duration": 7,
    "start_time": "2024-11-21T17:47:35.877Z"
   },
   {
    "duration": 10,
    "start_time": "2024-11-21T17:47:35.886Z"
   },
   {
    "duration": 7,
    "start_time": "2024-11-21T17:47:35.898Z"
   },
   {
    "duration": 22,
    "start_time": "2024-11-21T17:47:35.908Z"
   },
   {
    "duration": 14,
    "start_time": "2024-11-21T17:47:35.931Z"
   },
   {
    "duration": 1304,
    "start_time": "2024-11-21T17:47:35.947Z"
   },
   {
    "duration": 4,
    "start_time": "2024-11-21T17:47:37.253Z"
   },
   {
    "duration": 42,
    "start_time": "2024-11-21T17:47:37.259Z"
   },
   {
    "duration": 20,
    "start_time": "2024-11-21T17:47:37.304Z"
   },
   {
    "duration": 23448,
    "start_time": "2024-11-21T17:47:37.325Z"
   },
   {
    "duration": 1795,
    "start_time": "2024-11-21T17:49:52.545Z"
   },
   {
    "duration": 3,
    "start_time": "2024-11-21T17:49:54.342Z"
   },
   {
    "duration": 14,
    "start_time": "2024-11-21T17:49:54.346Z"
   },
   {
    "duration": 100,
    "start_time": "2024-11-21T17:49:54.370Z"
   },
   {
    "duration": 39,
    "start_time": "2024-11-21T17:49:54.471Z"
   },
   {
    "duration": 3,
    "start_time": "2024-11-21T17:49:54.512Z"
   },
   {
    "duration": 65,
    "start_time": "2024-11-21T17:49:54.516Z"
   },
   {
    "duration": 7,
    "start_time": "2024-11-21T17:49:54.583Z"
   },
   {
    "duration": 439,
    "start_time": "2024-11-21T17:49:54.592Z"
   },
   {
    "duration": 1179,
    "start_time": "2024-11-21T17:49:55.034Z"
   },
   {
    "duration": 163,
    "start_time": "2024-11-21T17:49:56.215Z"
   },
   {
    "duration": 265,
    "start_time": "2024-11-21T17:49:56.380Z"
   },
   {
    "duration": 1070,
    "start_time": "2024-11-21T17:49:56.647Z"
   },
   {
    "duration": 253,
    "start_time": "2024-11-21T17:49:57.719Z"
   },
   {
    "duration": 2227,
    "start_time": "2024-11-21T17:49:57.974Z"
   },
   {
    "duration": 4,
    "start_time": "2024-11-21T17:50:00.203Z"
   },
   {
    "duration": 37,
    "start_time": "2024-11-21T17:50:00.209Z"
   },
   {
    "duration": 55,
    "start_time": "2024-11-21T17:50:00.247Z"
   },
   {
    "duration": 4,
    "start_time": "2024-11-21T17:50:00.304Z"
   },
   {
    "duration": 29,
    "start_time": "2024-11-21T17:50:00.310Z"
   },
   {
    "duration": 18,
    "start_time": "2024-11-21T17:50:00.341Z"
   },
   {
    "duration": 6,
    "start_time": "2024-11-21T17:50:00.360Z"
   },
   {
    "duration": 31,
    "start_time": "2024-11-21T17:50:00.367Z"
   },
   {
    "duration": 6,
    "start_time": "2024-11-21T17:50:00.400Z"
   },
   {
    "duration": 1265,
    "start_time": "2024-11-21T17:50:00.408Z"
   },
   {
    "duration": 6,
    "start_time": "2024-11-21T17:50:01.675Z"
   },
   {
    "duration": 33,
    "start_time": "2024-11-21T17:50:01.682Z"
   },
   {
    "duration": 18,
    "start_time": "2024-11-21T17:50:01.718Z"
   },
   {
    "duration": 22959,
    "start_time": "2024-11-21T17:50:01.738Z"
   },
   {
    "duration": 11,
    "start_time": "2024-11-21T17:52:38.111Z"
   },
   {
    "duration": 13,
    "start_time": "2024-11-21T17:52:54.493Z"
   },
   {
    "duration": 145,
    "start_time": "2024-11-21T17:54:37.425Z"
   },
   {
    "duration": 17,
    "start_time": "2024-11-21T17:54:51.877Z"
   },
   {
    "duration": 1738,
    "start_time": "2024-11-21T17:55:46.717Z"
   },
   {
    "duration": 3,
    "start_time": "2024-11-21T17:55:48.456Z"
   },
   {
    "duration": 14,
    "start_time": "2024-11-21T17:55:48.460Z"
   },
   {
    "duration": 81,
    "start_time": "2024-11-21T17:55:48.477Z"
   },
   {
    "duration": 37,
    "start_time": "2024-11-21T17:55:48.559Z"
   },
   {
    "duration": 4,
    "start_time": "2024-11-21T17:55:48.598Z"
   },
   {
    "duration": 32,
    "start_time": "2024-11-21T17:55:48.604Z"
   },
   {
    "duration": 35,
    "start_time": "2024-11-21T17:55:48.637Z"
   },
   {
    "duration": 441,
    "start_time": "2024-11-21T17:55:48.674Z"
   },
   {
    "duration": 1280,
    "start_time": "2024-11-21T17:55:49.118Z"
   },
   {
    "duration": 175,
    "start_time": "2024-11-21T17:55:50.400Z"
   },
   {
    "duration": 296,
    "start_time": "2024-11-21T17:55:50.577Z"
   },
   {
    "duration": 1054,
    "start_time": "2024-11-21T17:55:50.875Z"
   },
   {
    "duration": 237,
    "start_time": "2024-11-21T17:55:51.931Z"
   },
   {
    "duration": 2231,
    "start_time": "2024-11-21T17:55:52.170Z"
   },
   {
    "duration": 4,
    "start_time": "2024-11-21T17:55:54.402Z"
   },
   {
    "duration": 18,
    "start_time": "2024-11-21T17:55:54.407Z"
   },
   {
    "duration": 60,
    "start_time": "2024-11-21T17:55:54.427Z"
   },
   {
    "duration": 4,
    "start_time": "2024-11-21T17:55:54.488Z"
   },
   {
    "duration": 7,
    "start_time": "2024-11-21T17:55:54.494Z"
   },
   {
    "duration": 6,
    "start_time": "2024-11-21T17:55:54.503Z"
   },
   {
    "duration": 7,
    "start_time": "2024-11-21T17:55:54.511Z"
   },
   {
    "duration": 16,
    "start_time": "2024-11-21T17:55:54.519Z"
   },
   {
    "duration": 33,
    "start_time": "2024-11-21T17:55:54.537Z"
   },
   {
    "duration": 1286,
    "start_time": "2024-11-21T17:55:54.572Z"
   },
   {
    "duration": 12,
    "start_time": "2024-11-21T17:55:55.860Z"
   },
   {
    "duration": 20,
    "start_time": "2024-11-21T17:55:55.875Z"
   },
   {
    "duration": 21,
    "start_time": "2024-11-21T17:55:55.899Z"
   },
   {
    "duration": 23224,
    "start_time": "2024-11-21T17:55:55.923Z"
   },
   {
    "duration": 11,
    "start_time": "2024-11-21T17:56:19.148Z"
   },
   {
    "duration": 147,
    "start_time": "2024-11-21T17:56:45.210Z"
   },
   {
    "duration": 18,
    "start_time": "2024-11-21T17:57:03.989Z"
   },
   {
    "duration": 8,
    "start_time": "2024-11-21T17:59:06.569Z"
   },
   {
    "duration": 1828,
    "start_time": "2024-11-21T17:59:15.119Z"
   },
   {
    "duration": 3,
    "start_time": "2024-11-21T17:59:16.949Z"
   },
   {
    "duration": 17,
    "start_time": "2024-11-21T17:59:16.953Z"
   },
   {
    "duration": 85,
    "start_time": "2024-11-21T17:59:16.971Z"
   },
   {
    "duration": 34,
    "start_time": "2024-11-21T17:59:17.058Z"
   },
   {
    "duration": 4,
    "start_time": "2024-11-21T17:59:17.094Z"
   },
   {
    "duration": 73,
    "start_time": "2024-11-21T17:59:17.100Z"
   },
   {
    "duration": 5,
    "start_time": "2024-11-21T17:59:17.174Z"
   },
   {
    "duration": 430,
    "start_time": "2024-11-21T17:59:17.181Z"
   },
   {
    "duration": 1252,
    "start_time": "2024-11-21T17:59:17.613Z"
   },
   {
    "duration": 166,
    "start_time": "2024-11-21T17:59:18.869Z"
   },
   {
    "duration": 316,
    "start_time": "2024-11-21T17:59:19.037Z"
   },
   {
    "duration": 1116,
    "start_time": "2024-11-21T17:59:19.355Z"
   },
   {
    "duration": 289,
    "start_time": "2024-11-21T17:59:20.476Z"
   },
   {
    "duration": 3523,
    "start_time": "2024-11-21T17:59:20.769Z"
   },
   {
    "duration": 4,
    "start_time": "2024-11-21T17:59:24.294Z"
   },
   {
    "duration": 7,
    "start_time": "2024-11-21T17:59:24.299Z"
   },
   {
    "duration": 76,
    "start_time": "2024-11-21T17:59:24.308Z"
   },
   {
    "duration": 7,
    "start_time": "2024-11-21T17:59:24.387Z"
   },
   {
    "duration": 8,
    "start_time": "2024-11-21T17:59:24.396Z"
   },
   {
    "duration": 5,
    "start_time": "2024-11-21T17:59:24.406Z"
   },
   {
    "duration": 8,
    "start_time": "2024-11-21T17:59:24.413Z"
   },
   {
    "duration": 17,
    "start_time": "2024-11-21T17:59:24.423Z"
   },
   {
    "duration": 29,
    "start_time": "2024-11-21T17:59:24.442Z"
   },
   {
    "duration": 1300,
    "start_time": "2024-11-21T17:59:24.473Z"
   },
   {
    "duration": 4,
    "start_time": "2024-11-21T17:59:25.776Z"
   },
   {
    "duration": 17,
    "start_time": "2024-11-21T17:59:25.782Z"
   },
   {
    "duration": 15,
    "start_time": "2024-11-21T17:59:25.801Z"
   },
   {
    "duration": 23461,
    "start_time": "2024-11-21T17:59:25.818Z"
   },
   {
    "duration": 13,
    "start_time": "2024-11-21T17:59:49.281Z"
   },
   {
    "duration": 941,
    "start_time": "2024-11-21T17:59:49.297Z"
   },
   {
    "duration": 13,
    "start_time": "2024-11-21T18:01:29.004Z"
   },
   {
    "duration": 10,
    "start_time": "2024-11-21T18:01:49.139Z"
   },
   {
    "duration": 14,
    "start_time": "2024-11-21T18:02:04.806Z"
   },
   {
    "duration": 10,
    "start_time": "2024-11-21T18:03:20.782Z"
   },
   {
    "duration": 1584,
    "start_time": "2024-11-21T18:03:31.869Z"
   },
   {
    "duration": 2,
    "start_time": "2024-11-21T18:03:33.455Z"
   },
   {
    "duration": 12,
    "start_time": "2024-11-21T18:03:33.459Z"
   },
   {
    "duration": 87,
    "start_time": "2024-11-21T18:03:33.473Z"
   },
   {
    "duration": 32,
    "start_time": "2024-11-21T18:03:33.562Z"
   },
   {
    "duration": 3,
    "start_time": "2024-11-21T18:03:33.595Z"
   },
   {
    "duration": 144,
    "start_time": "2024-11-21T18:03:33.599Z"
   },
   {
    "duration": 5,
    "start_time": "2024-11-21T18:03:33.744Z"
   },
   {
    "duration": 389,
    "start_time": "2024-11-21T18:03:33.750Z"
   },
   {
    "duration": 1119,
    "start_time": "2024-11-21T18:03:34.141Z"
   },
   {
    "duration": 152,
    "start_time": "2024-11-21T18:03:35.261Z"
   },
   {
    "duration": 247,
    "start_time": "2024-11-21T18:03:35.415Z"
   },
   {
    "duration": 986,
    "start_time": "2024-11-21T18:03:35.664Z"
   },
   {
    "duration": 219,
    "start_time": "2024-11-21T18:03:36.653Z"
   },
   {
    "duration": 2184,
    "start_time": "2024-11-21T18:03:36.874Z"
   },
   {
    "duration": 2,
    "start_time": "2024-11-21T18:03:39.060Z"
   },
   {
    "duration": 22,
    "start_time": "2024-11-21T18:03:39.064Z"
   },
   {
    "duration": 47,
    "start_time": "2024-11-21T18:03:39.087Z"
   },
   {
    "duration": 3,
    "start_time": "2024-11-21T18:03:39.136Z"
   },
   {
    "duration": 5,
    "start_time": "2024-11-21T18:03:39.140Z"
   },
   {
    "duration": 24,
    "start_time": "2024-11-21T18:03:39.146Z"
   },
   {
    "duration": 6,
    "start_time": "2024-11-21T18:03:39.171Z"
   },
   {
    "duration": 19,
    "start_time": "2024-11-21T18:03:39.179Z"
   },
   {
    "duration": 4,
    "start_time": "2024-11-21T18:03:39.199Z"
   },
   {
    "duration": 1336,
    "start_time": "2024-11-21T18:03:39.205Z"
   },
   {
    "duration": 4,
    "start_time": "2024-11-21T18:03:40.542Z"
   },
   {
    "duration": 26,
    "start_time": "2024-11-21T18:03:40.548Z"
   },
   {
    "duration": 19,
    "start_time": "2024-11-21T18:03:40.577Z"
   },
   {
    "duration": 21048,
    "start_time": "2024-11-21T18:03:40.598Z"
   },
   {
    "duration": 10,
    "start_time": "2024-11-21T18:04:01.647Z"
   },
   {
    "duration": 57,
    "start_time": "2024-11-21T18:04:01.659Z"
   },
   {
    "duration": 12,
    "start_time": "2024-11-21T18:04:01.718Z"
   },
   {
    "duration": 414,
    "start_time": "2024-11-21T18:06:05.872Z"
   },
   {
    "duration": 7952,
    "start_time": "2024-11-21T18:06:57.795Z"
   },
   {
    "duration": 403,
    "start_time": "2024-11-21T18:07:22.524Z"
   },
   {
    "duration": 1791,
    "start_time": "2024-11-21T18:13:34.374Z"
   },
   {
    "duration": 6,
    "start_time": "2024-11-21T18:13:36.167Z"
   },
   {
    "duration": 34,
    "start_time": "2024-11-21T18:13:36.177Z"
   },
   {
    "duration": 104,
    "start_time": "2024-11-21T18:13:36.213Z"
   },
   {
    "duration": 34,
    "start_time": "2024-11-21T18:13:36.319Z"
   },
   {
    "duration": 21,
    "start_time": "2024-11-21T18:13:36.354Z"
   },
   {
    "duration": 46,
    "start_time": "2024-11-21T18:13:36.383Z"
   },
   {
    "duration": 4,
    "start_time": "2024-11-21T18:13:36.431Z"
   },
   {
    "duration": 482,
    "start_time": "2024-11-21T18:13:36.437Z"
   },
   {
    "duration": 1188,
    "start_time": "2024-11-21T18:13:36.920Z"
   },
   {
    "duration": 192,
    "start_time": "2024-11-21T18:13:38.109Z"
   },
   {
    "duration": 277,
    "start_time": "2024-11-21T18:13:38.302Z"
   },
   {
    "duration": 1229,
    "start_time": "2024-11-21T18:13:38.581Z"
   },
   {
    "duration": 246,
    "start_time": "2024-11-21T18:13:39.814Z"
   },
   {
    "duration": 3115,
    "start_time": "2024-11-21T18:13:40.071Z"
   },
   {
    "duration": 3,
    "start_time": "2024-11-21T18:13:43.187Z"
   },
   {
    "duration": 12,
    "start_time": "2024-11-21T18:13:43.191Z"
   },
   {
    "duration": 54,
    "start_time": "2024-11-21T18:13:43.204Z"
   },
   {
    "duration": 15,
    "start_time": "2024-11-21T18:13:43.259Z"
   },
   {
    "duration": 23,
    "start_time": "2024-11-21T18:13:43.276Z"
   },
   {
    "duration": 94,
    "start_time": "2024-11-21T18:13:43.301Z"
   },
   {
    "duration": 69,
    "start_time": "2024-11-21T18:13:43.397Z"
   },
   {
    "duration": 19,
    "start_time": "2024-11-21T18:13:43.468Z"
   },
   {
    "duration": 5,
    "start_time": "2024-11-21T18:13:43.488Z"
   },
   {
    "duration": 1203,
    "start_time": "2024-11-21T18:13:43.494Z"
   },
   {
    "duration": 4,
    "start_time": "2024-11-21T18:13:44.699Z"
   },
   {
    "duration": 16,
    "start_time": "2024-11-21T18:13:44.705Z"
   },
   {
    "duration": 15,
    "start_time": "2024-11-21T18:13:44.722Z"
   },
   {
    "duration": 25483,
    "start_time": "2024-11-21T18:13:44.739Z"
   },
   {
    "duration": 11,
    "start_time": "2024-11-21T18:14:10.224Z"
   },
   {
    "duration": 19,
    "start_time": "2024-11-21T18:14:10.237Z"
   },
   {
    "duration": 19,
    "start_time": "2024-11-21T18:14:10.257Z"
   },
   {
    "duration": 426,
    "start_time": "2024-11-21T18:14:10.282Z"
   },
   {
    "duration": 29,
    "start_time": "2024-11-21T18:18:48.954Z"
   },
   {
    "duration": 50,
    "start_time": "2024-11-21T18:22:43.227Z"
   },
   {
    "duration": 1895,
    "start_time": "2024-11-21T18:23:08.437Z"
   },
   {
    "duration": 2,
    "start_time": "2024-11-21T18:23:10.334Z"
   },
   {
    "duration": 10,
    "start_time": "2024-11-21T18:23:10.337Z"
   },
   {
    "duration": 90,
    "start_time": "2024-11-21T18:23:10.348Z"
   },
   {
    "duration": 34,
    "start_time": "2024-11-21T18:23:10.441Z"
   },
   {
    "duration": 5,
    "start_time": "2024-11-21T18:23:10.487Z"
   },
   {
    "duration": 34,
    "start_time": "2024-11-21T18:23:10.494Z"
   },
   {
    "duration": 3,
    "start_time": "2024-11-21T18:23:10.530Z"
   },
   {
    "duration": 463,
    "start_time": "2024-11-21T18:23:10.535Z"
   },
   {
    "duration": 1210,
    "start_time": "2024-11-21T18:23:11.000Z"
   },
   {
    "duration": 172,
    "start_time": "2024-11-21T18:23:12.211Z"
   },
   {
    "duration": 277,
    "start_time": "2024-11-21T18:23:12.390Z"
   },
   {
    "duration": 1063,
    "start_time": "2024-11-21T18:23:12.669Z"
   },
   {
    "duration": 268,
    "start_time": "2024-11-21T18:23:13.737Z"
   },
   {
    "duration": 12433,
    "start_time": "2024-11-21T18:23:14.008Z"
   },
   {
    "duration": 4,
    "start_time": "2024-11-21T18:23:26.443Z"
   },
   {
    "duration": 6,
    "start_time": "2024-11-21T18:23:26.449Z"
   },
   {
    "duration": 65,
    "start_time": "2024-11-21T18:23:26.472Z"
   },
   {
    "duration": 3,
    "start_time": "2024-11-21T18:23:26.539Z"
   },
   {
    "duration": 5,
    "start_time": "2024-11-21T18:23:26.544Z"
   },
   {
    "duration": 22,
    "start_time": "2024-11-21T18:23:26.551Z"
   },
   {
    "duration": 9,
    "start_time": "2024-11-21T18:23:26.585Z"
   },
   {
    "duration": 24,
    "start_time": "2024-11-21T18:23:26.595Z"
   },
   {
    "duration": 6,
    "start_time": "2024-11-21T18:23:26.621Z"
   },
   {
    "duration": 1221,
    "start_time": "2024-11-21T18:23:26.628Z"
   },
   {
    "duration": 3,
    "start_time": "2024-11-21T18:23:27.851Z"
   },
   {
    "duration": 26,
    "start_time": "2024-11-21T18:23:27.855Z"
   },
   {
    "duration": 23,
    "start_time": "2024-11-21T18:23:27.883Z"
   },
   {
    "duration": 27096,
    "start_time": "2024-11-21T18:23:27.908Z"
   },
   {
    "duration": 11,
    "start_time": "2024-11-21T18:23:55.006Z"
   },
   {
    "duration": 13,
    "start_time": "2024-11-21T18:23:55.019Z"
   },
   {
    "duration": 11,
    "start_time": "2024-11-21T18:23:55.033Z"
   },
   {
    "duration": 441,
    "start_time": "2024-11-21T18:23:55.046Z"
   },
   {
    "duration": 1761,
    "start_time": "2024-11-21T18:24:26.707Z"
   },
   {
    "duration": 21,
    "start_time": "2024-11-21T18:24:28.470Z"
   },
   {
    "duration": 12,
    "start_time": "2024-11-21T18:24:28.494Z"
   },
   {
    "duration": 93,
    "start_time": "2024-11-21T18:24:28.508Z"
   },
   {
    "duration": 31,
    "start_time": "2024-11-21T18:24:28.603Z"
   },
   {
    "duration": 3,
    "start_time": "2024-11-21T18:24:28.635Z"
   },
   {
    "duration": 64,
    "start_time": "2024-11-21T18:24:28.639Z"
   },
   {
    "duration": 4,
    "start_time": "2024-11-21T18:24:28.705Z"
   },
   {
    "duration": 436,
    "start_time": "2024-11-21T18:24:28.710Z"
   },
   {
    "duration": 1273,
    "start_time": "2024-11-21T18:24:29.149Z"
   },
   {
    "duration": 181,
    "start_time": "2024-11-21T18:24:30.424Z"
   },
   {
    "duration": 312,
    "start_time": "2024-11-21T18:24:30.609Z"
   },
   {
    "duration": 1020,
    "start_time": "2024-11-21T18:24:30.922Z"
   },
   {
    "duration": 263,
    "start_time": "2024-11-21T18:24:31.944Z"
   },
   {
    "duration": 12799,
    "start_time": "2024-11-21T18:24:32.209Z"
   },
   {
    "duration": 2,
    "start_time": "2024-11-21T18:24:45.010Z"
   },
   {
    "duration": 27,
    "start_time": "2024-11-21T18:24:45.014Z"
   },
   {
    "duration": 81,
    "start_time": "2024-11-21T18:24:45.043Z"
   },
   {
    "duration": 4,
    "start_time": "2024-11-21T18:24:45.125Z"
   },
   {
    "duration": 11,
    "start_time": "2024-11-21T18:24:45.130Z"
   },
   {
    "duration": 32,
    "start_time": "2024-11-21T18:24:45.143Z"
   },
   {
    "duration": 19,
    "start_time": "2024-11-21T18:24:45.183Z"
   },
   {
    "duration": 24,
    "start_time": "2024-11-21T18:24:45.203Z"
   },
   {
    "duration": 4,
    "start_time": "2024-11-21T18:24:45.229Z"
   },
   {
    "duration": 1253,
    "start_time": "2024-11-21T18:24:45.235Z"
   },
   {
    "duration": 5,
    "start_time": "2024-11-21T18:24:46.493Z"
   },
   {
    "duration": 15,
    "start_time": "2024-11-21T18:24:46.503Z"
   },
   {
    "duration": 19,
    "start_time": "2024-11-21T18:24:46.522Z"
   },
   {
    "duration": 28224,
    "start_time": "2024-11-21T18:24:46.543Z"
   },
   {
    "duration": 29,
    "start_time": "2024-11-21T18:25:14.768Z"
   },
   {
    "duration": 17,
    "start_time": "2024-11-21T18:25:14.807Z"
   },
   {
    "duration": 12,
    "start_time": "2024-11-21T18:25:14.825Z"
   },
   {
    "duration": 496,
    "start_time": "2024-11-21T18:25:14.838Z"
   },
   {
    "duration": 1879,
    "start_time": "2024-11-21T18:25:19.283Z"
   },
   {
    "duration": 2,
    "start_time": "2024-11-21T18:25:21.164Z"
   },
   {
    "duration": 21,
    "start_time": "2024-11-21T18:25:21.168Z"
   },
   {
    "duration": 102,
    "start_time": "2024-11-21T18:25:21.195Z"
   },
   {
    "duration": 33,
    "start_time": "2024-11-21T18:25:21.301Z"
   },
   {
    "duration": 3,
    "start_time": "2024-11-21T18:25:21.336Z"
   },
   {
    "duration": 100,
    "start_time": "2024-11-21T18:25:21.340Z"
   },
   {
    "duration": 4,
    "start_time": "2024-11-21T18:25:21.441Z"
   },
   {
    "duration": 484,
    "start_time": "2024-11-21T18:25:21.447Z"
   },
   {
    "duration": 1184,
    "start_time": "2024-11-21T18:25:21.932Z"
   },
   {
    "duration": 180,
    "start_time": "2024-11-21T18:25:23.119Z"
   },
   {
    "duration": 292,
    "start_time": "2024-11-21T18:25:23.302Z"
   },
   {
    "duration": 1050,
    "start_time": "2024-11-21T18:25:23.601Z"
   },
   {
    "duration": 247,
    "start_time": "2024-11-21T18:25:24.654Z"
   },
   {
    "duration": 11925,
    "start_time": "2024-11-21T18:25:24.902Z"
   },
   {
    "duration": 4,
    "start_time": "2024-11-21T18:25:36.829Z"
   },
   {
    "duration": 6,
    "start_time": "2024-11-21T18:25:36.834Z"
   },
   {
    "duration": 84,
    "start_time": "2024-11-21T18:25:36.842Z"
   },
   {
    "duration": 4,
    "start_time": "2024-11-21T18:25:36.927Z"
   },
   {
    "duration": 5,
    "start_time": "2024-11-21T18:25:36.932Z"
   },
   {
    "duration": 5,
    "start_time": "2024-11-21T18:25:36.939Z"
   },
   {
    "duration": 6,
    "start_time": "2024-11-21T18:25:36.945Z"
   },
   {
    "duration": 47,
    "start_time": "2024-11-21T18:25:36.952Z"
   },
   {
    "duration": 9,
    "start_time": "2024-11-21T18:25:37.005Z"
   },
   {
    "duration": 1301,
    "start_time": "2024-11-21T18:25:37.016Z"
   },
   {
    "duration": 5,
    "start_time": "2024-11-21T18:25:38.318Z"
   },
   {
    "duration": 12,
    "start_time": "2024-11-21T18:25:38.325Z"
   },
   {
    "duration": 36,
    "start_time": "2024-11-21T18:25:38.339Z"
   },
   {
    "duration": 1783,
    "start_time": "2024-11-21T18:25:52.581Z"
   },
   {
    "duration": 6,
    "start_time": "2024-11-21T18:25:54.373Z"
   },
   {
    "duration": 16,
    "start_time": "2024-11-21T18:25:54.380Z"
   },
   {
    "duration": 103,
    "start_time": "2024-11-21T18:25:54.400Z"
   },
   {
    "duration": 35,
    "start_time": "2024-11-21T18:25:54.505Z"
   },
   {
    "duration": 3,
    "start_time": "2024-11-21T18:25:54.542Z"
   },
   {
    "duration": 44,
    "start_time": "2024-11-21T18:25:54.573Z"
   },
   {
    "duration": 4,
    "start_time": "2024-11-21T18:25:54.618Z"
   },
   {
    "duration": 453,
    "start_time": "2024-11-21T18:25:54.624Z"
   },
   {
    "duration": 1234,
    "start_time": "2024-11-21T18:25:55.079Z"
   },
   {
    "duration": 172,
    "start_time": "2024-11-21T18:25:56.315Z"
   },
   {
    "duration": 284,
    "start_time": "2024-11-21T18:25:56.492Z"
   },
   {
    "duration": 2229,
    "start_time": "2024-11-21T18:25:56.777Z"
   },
   {
    "duration": 598,
    "start_time": "2024-11-21T18:25:59.011Z"
   },
   {
    "duration": 11130,
    "start_time": "2024-11-21T18:25:59.610Z"
   },
   {
    "duration": 3,
    "start_time": "2024-11-21T18:26:10.742Z"
   },
   {
    "duration": 14,
    "start_time": "2024-11-21T18:26:10.747Z"
   },
   {
    "duration": 67,
    "start_time": "2024-11-21T18:26:10.763Z"
   },
   {
    "duration": 4,
    "start_time": "2024-11-21T18:26:10.831Z"
   },
   {
    "duration": 4,
    "start_time": "2024-11-21T18:26:10.837Z"
   },
   {
    "duration": 31,
    "start_time": "2024-11-21T18:26:10.842Z"
   },
   {
    "duration": 13,
    "start_time": "2024-11-21T18:26:10.875Z"
   },
   {
    "duration": 20,
    "start_time": "2024-11-21T18:26:10.890Z"
   },
   {
    "duration": 5,
    "start_time": "2024-11-21T18:26:10.911Z"
   },
   {
    "duration": 1233,
    "start_time": "2024-11-21T18:26:10.917Z"
   },
   {
    "duration": 4,
    "start_time": "2024-11-21T18:26:12.151Z"
   },
   {
    "duration": 33,
    "start_time": "2024-11-21T18:26:12.157Z"
   },
   {
    "duration": 15,
    "start_time": "2024-11-21T18:26:12.196Z"
   },
   {
    "duration": 28002,
    "start_time": "2024-11-21T18:26:12.213Z"
   },
   {
    "duration": 14,
    "start_time": "2024-11-21T18:26:40.217Z"
   },
   {
    "duration": 18,
    "start_time": "2024-11-21T18:26:40.233Z"
   },
   {
    "duration": 10,
    "start_time": "2024-11-21T18:26:40.252Z"
   },
   {
    "duration": 478,
    "start_time": "2024-11-21T18:26:40.270Z"
   },
   {
    "duration": 3342,
    "start_time": "2024-11-21T18:37:49.405Z"
   },
   {
    "duration": 2,
    "start_time": "2024-11-21T18:37:52.749Z"
   },
   {
    "duration": 12,
    "start_time": "2024-11-21T18:37:52.753Z"
   },
   {
    "duration": 83,
    "start_time": "2024-11-21T18:37:52.766Z"
   },
   {
    "duration": 32,
    "start_time": "2024-11-21T18:37:52.852Z"
   },
   {
    "duration": 4,
    "start_time": "2024-11-21T18:37:52.885Z"
   },
   {
    "duration": 32,
    "start_time": "2024-11-21T18:37:52.890Z"
   },
   {
    "duration": 41,
    "start_time": "2024-11-21T18:37:52.924Z"
   },
   {
    "duration": 403,
    "start_time": "2024-11-21T18:37:52.966Z"
   },
   {
    "duration": 1159,
    "start_time": "2024-11-21T18:37:53.370Z"
   },
   {
    "duration": 157,
    "start_time": "2024-11-21T18:37:54.531Z"
   },
   {
    "duration": 262,
    "start_time": "2024-11-21T18:37:54.689Z"
   },
   {
    "duration": 1034,
    "start_time": "2024-11-21T18:37:54.953Z"
   },
   {
    "duration": 253,
    "start_time": "2024-11-21T18:37:55.991Z"
   },
   {
    "duration": 1863,
    "start_time": "2024-11-21T18:37:56.246Z"
   },
   {
    "duration": 3,
    "start_time": "2024-11-21T18:37:58.110Z"
   },
   {
    "duration": 13,
    "start_time": "2024-11-21T18:37:58.114Z"
   },
   {
    "duration": 71,
    "start_time": "2024-11-21T18:37:58.129Z"
   },
   {
    "duration": 4,
    "start_time": "2024-11-21T18:37:58.201Z"
   },
   {
    "duration": 7,
    "start_time": "2024-11-21T18:37:58.206Z"
   },
   {
    "duration": 42,
    "start_time": "2024-11-21T18:37:58.214Z"
   },
   {
    "duration": 11,
    "start_time": "2024-11-21T18:37:58.258Z"
   },
   {
    "duration": 15,
    "start_time": "2024-11-21T18:37:58.270Z"
   },
   {
    "duration": 4,
    "start_time": "2024-11-21T18:37:58.287Z"
   },
   {
    "duration": 1198,
    "start_time": "2024-11-21T18:37:58.293Z"
   },
   {
    "duration": 4,
    "start_time": "2024-11-21T18:37:59.493Z"
   },
   {
    "duration": 17,
    "start_time": "2024-11-21T18:37:59.498Z"
   },
   {
    "duration": 116,
    "start_time": "2024-11-21T18:37:59.517Z"
   },
   {
    "duration": 25590,
    "start_time": "2024-11-21T18:37:59.635Z"
   },
   {
    "duration": 11,
    "start_time": "2024-11-21T18:38:25.227Z"
   },
   {
    "duration": 18,
    "start_time": "2024-11-21T18:38:25.239Z"
   },
   {
    "duration": 13,
    "start_time": "2024-11-21T18:38:25.265Z"
   },
   {
    "duration": 420,
    "start_time": "2024-11-21T18:38:25.279Z"
   },
   {
    "duration": 21,
    "start_time": "2024-11-21T21:50:08.030Z"
   },
   {
    "duration": 2080,
    "start_time": "2024-11-24T14:18:24.449Z"
   },
   {
    "duration": 3,
    "start_time": "2024-11-24T14:18:26.531Z"
   },
   {
    "duration": 18,
    "start_time": "2024-11-24T14:18:26.536Z"
   },
   {
    "duration": 168,
    "start_time": "2024-11-24T14:18:26.555Z"
   },
   {
    "duration": 37,
    "start_time": "2024-11-24T14:18:26.725Z"
   },
   {
    "duration": 4,
    "start_time": "2024-11-24T14:18:26.763Z"
   },
   {
    "duration": 67,
    "start_time": "2024-11-24T14:18:26.769Z"
   },
   {
    "duration": 4,
    "start_time": "2024-11-24T14:18:26.838Z"
   },
   {
    "duration": 456,
    "start_time": "2024-11-24T14:18:26.844Z"
   },
   {
    "duration": 1260,
    "start_time": "2024-11-24T14:18:27.302Z"
   },
   {
    "duration": 185,
    "start_time": "2024-11-24T14:18:28.564Z"
   },
   {
    "duration": 379,
    "start_time": "2024-11-24T14:18:28.750Z"
   },
   {
    "duration": 949,
    "start_time": "2024-11-24T14:18:29.131Z"
   },
   {
    "duration": 275,
    "start_time": "2024-11-24T14:18:30.084Z"
   },
   {
    "duration": 1277,
    "start_time": "2024-11-24T14:18:30.361Z"
   },
   {
    "duration": 3,
    "start_time": "2024-11-24T14:18:31.640Z"
   },
   {
    "duration": 14,
    "start_time": "2024-11-24T14:18:31.645Z"
   },
   {
    "duration": 67,
    "start_time": "2024-11-24T14:18:31.661Z"
   },
   {
    "duration": 4,
    "start_time": "2024-11-24T14:18:31.730Z"
   },
   {
    "duration": 106,
    "start_time": "2024-11-24T14:18:31.736Z"
   },
   {
    "duration": 8,
    "start_time": "2024-11-24T14:18:31.844Z"
   },
   {
    "duration": 15,
    "start_time": "2024-11-24T14:18:31.854Z"
   },
   {
    "duration": 28,
    "start_time": "2024-11-24T14:18:31.871Z"
   },
   {
    "duration": 24,
    "start_time": "2024-11-24T14:18:31.901Z"
   },
   {
    "duration": 1282,
    "start_time": "2024-11-24T14:18:31.927Z"
   },
   {
    "duration": 11,
    "start_time": "2024-11-24T14:18:33.211Z"
   },
   {
    "duration": 34,
    "start_time": "2024-11-24T14:18:33.223Z"
   },
   {
    "duration": 13,
    "start_time": "2024-11-24T14:18:33.259Z"
   },
   {
    "duration": 26157,
    "start_time": "2024-11-24T14:18:33.274Z"
   },
   {
    "duration": 11,
    "start_time": "2024-11-24T14:18:59.432Z"
   },
   {
    "duration": 15,
    "start_time": "2024-11-24T14:18:59.444Z"
   },
   {
    "duration": 14,
    "start_time": "2024-11-24T14:18:59.461Z"
   },
   {
    "duration": 517,
    "start_time": "2024-11-24T14:18:59.476Z"
   },
   {
    "duration": 281,
    "start_time": "2024-11-24T14:19:43.632Z"
   },
   {
    "duration": 1813,
    "start_time": "2024-11-24T14:26:46.666Z"
   },
   {
    "duration": 3,
    "start_time": "2024-11-24T14:26:48.481Z"
   },
   {
    "duration": 13,
    "start_time": "2024-11-24T14:26:48.486Z"
   },
   {
    "duration": 88,
    "start_time": "2024-11-24T14:26:48.501Z"
   },
   {
    "duration": 44,
    "start_time": "2024-11-24T14:26:48.590Z"
   },
   {
    "duration": 3,
    "start_time": "2024-11-24T14:26:48.635Z"
   },
   {
    "duration": 34,
    "start_time": "2024-11-24T14:26:48.639Z"
   },
   {
    "duration": 4,
    "start_time": "2024-11-24T14:26:48.674Z"
   },
   {
    "duration": 433,
    "start_time": "2024-11-24T14:26:48.679Z"
   },
   {
    "duration": 1187,
    "start_time": "2024-11-24T14:26:49.116Z"
   },
   {
    "duration": 167,
    "start_time": "2024-11-24T14:26:50.305Z"
   },
   {
    "duration": 273,
    "start_time": "2024-11-24T14:26:50.474Z"
   },
   {
    "duration": 1023,
    "start_time": "2024-11-24T14:26:50.749Z"
   },
   {
    "duration": 233,
    "start_time": "2024-11-24T14:26:51.773Z"
   },
   {
    "duration": 1586,
    "start_time": "2024-11-24T14:26:52.009Z"
   },
   {
    "duration": 3,
    "start_time": "2024-11-24T14:26:53.597Z"
   },
   {
    "duration": 19,
    "start_time": "2024-11-24T14:26:53.601Z"
   },
   {
    "duration": 48,
    "start_time": "2024-11-24T14:26:53.622Z"
   },
   {
    "duration": 19,
    "start_time": "2024-11-24T14:26:53.672Z"
   },
   {
    "duration": 6,
    "start_time": "2024-11-24T14:26:53.692Z"
   },
   {
    "duration": 6,
    "start_time": "2024-11-24T14:26:53.699Z"
   },
   {
    "duration": 17,
    "start_time": "2024-11-24T14:26:53.706Z"
   },
   {
    "duration": 152,
    "start_time": "2024-11-24T14:26:53.724Z"
   },
   {
    "duration": 1382,
    "start_time": "2024-11-24T14:26:53.878Z"
   },
   {
    "duration": 0,
    "start_time": "2024-11-24T14:26:55.262Z"
   },
   {
    "duration": 0,
    "start_time": "2024-11-24T14:26:55.263Z"
   },
   {
    "duration": 0,
    "start_time": "2024-11-24T14:26:55.264Z"
   },
   {
    "duration": 0,
    "start_time": "2024-11-24T14:26:55.265Z"
   },
   {
    "duration": 0,
    "start_time": "2024-11-24T14:26:55.267Z"
   },
   {
    "duration": 0,
    "start_time": "2024-11-24T14:26:55.268Z"
   },
   {
    "duration": 0,
    "start_time": "2024-11-24T14:26:55.269Z"
   },
   {
    "duration": 0,
    "start_time": "2024-11-24T14:26:55.270Z"
   },
   {
    "duration": 0,
    "start_time": "2024-11-24T14:26:55.271Z"
   },
   {
    "duration": 0,
    "start_time": "2024-11-24T14:26:55.272Z"
   },
   {
    "duration": 1800,
    "start_time": "2024-11-24T14:28:41.108Z"
   },
   {
    "duration": 3,
    "start_time": "2024-11-24T14:28:42.910Z"
   },
   {
    "duration": 15,
    "start_time": "2024-11-24T14:28:42.915Z"
   },
   {
    "duration": 93,
    "start_time": "2024-11-24T14:28:42.931Z"
   },
   {
    "duration": 33,
    "start_time": "2024-11-24T14:28:43.026Z"
   },
   {
    "duration": 3,
    "start_time": "2024-11-24T14:28:43.061Z"
   },
   {
    "duration": 60,
    "start_time": "2024-11-24T14:28:43.065Z"
   },
   {
    "duration": 4,
    "start_time": "2024-11-24T14:28:43.127Z"
   },
   {
    "duration": 432,
    "start_time": "2024-11-24T14:28:43.132Z"
   },
   {
    "duration": 1170,
    "start_time": "2024-11-24T14:28:43.565Z"
   },
   {
    "duration": 167,
    "start_time": "2024-11-24T14:28:44.737Z"
   },
   {
    "duration": 315,
    "start_time": "2024-11-24T14:28:44.906Z"
   },
   {
    "duration": 1049,
    "start_time": "2024-11-24T14:28:45.223Z"
   },
   {
    "duration": 230,
    "start_time": "2024-11-24T14:28:46.275Z"
   },
   {
    "duration": 1200,
    "start_time": "2024-11-24T14:28:46.507Z"
   },
   {
    "duration": 12,
    "start_time": "2024-11-24T14:28:47.709Z"
   },
   {
    "duration": 6,
    "start_time": "2024-11-24T14:28:47.722Z"
   },
   {
    "duration": 58,
    "start_time": "2024-11-24T14:28:47.729Z"
   },
   {
    "duration": 5,
    "start_time": "2024-11-24T14:28:47.790Z"
   },
   {
    "duration": 64,
    "start_time": "2024-11-24T14:28:47.796Z"
   },
   {
    "duration": 12,
    "start_time": "2024-11-24T14:28:47.861Z"
   },
   {
    "duration": 9,
    "start_time": "2024-11-24T14:28:47.875Z"
   },
   {
    "duration": 20,
    "start_time": "2024-11-24T14:28:47.885Z"
   },
   {
    "duration": 19,
    "start_time": "2024-11-24T14:28:47.907Z"
   },
   {
    "duration": 5,
    "start_time": "2024-11-24T14:28:47.928Z"
   },
   {
    "duration": 1609,
    "start_time": "2024-11-24T14:28:47.935Z"
   },
   {
    "duration": 6,
    "start_time": "2024-11-24T14:28:49.545Z"
   },
   {
    "duration": 20,
    "start_time": "2024-11-24T14:28:49.552Z"
   },
   {
    "duration": 14,
    "start_time": "2024-11-24T14:28:49.574Z"
   },
   {
    "duration": 28196,
    "start_time": "2024-11-24T14:28:49.590Z"
   },
   {
    "duration": 11,
    "start_time": "2024-11-24T14:29:17.788Z"
   },
   {
    "duration": 76,
    "start_time": "2024-11-24T14:29:17.801Z"
   },
   {
    "duration": 12,
    "start_time": "2024-11-24T14:29:17.879Z"
   },
   {
    "duration": 516,
    "start_time": "2024-11-24T14:29:17.892Z"
   },
   {
    "duration": 1779,
    "start_time": "2024-11-24T14:30:05.268Z"
   },
   {
    "duration": 2,
    "start_time": "2024-11-24T14:30:07.049Z"
   },
   {
    "duration": 10,
    "start_time": "2024-11-24T14:30:07.053Z"
   },
   {
    "duration": 95,
    "start_time": "2024-11-24T14:30:07.065Z"
   },
   {
    "duration": 33,
    "start_time": "2024-11-24T14:30:07.163Z"
   },
   {
    "duration": 3,
    "start_time": "2024-11-24T14:30:07.198Z"
   },
   {
    "duration": 56,
    "start_time": "2024-11-24T14:30:07.202Z"
   },
   {
    "duration": 4,
    "start_time": "2024-11-24T14:30:07.260Z"
   },
   {
    "duration": 455,
    "start_time": "2024-11-24T14:30:07.266Z"
   },
   {
    "duration": 1233,
    "start_time": "2024-11-24T14:30:07.723Z"
   },
   {
    "duration": 174,
    "start_time": "2024-11-24T14:30:08.958Z"
   },
   {
    "duration": 314,
    "start_time": "2024-11-24T14:30:09.134Z"
   },
   {
    "duration": 1063,
    "start_time": "2024-11-24T14:30:09.450Z"
   },
   {
    "duration": 263,
    "start_time": "2024-11-24T14:30:10.520Z"
   },
   {
    "duration": 1256,
    "start_time": "2024-11-24T14:30:10.785Z"
   },
   {
    "duration": 3,
    "start_time": "2024-11-24T14:30:12.043Z"
   },
   {
    "duration": 16,
    "start_time": "2024-11-24T14:30:12.048Z"
   },
   {
    "duration": 73,
    "start_time": "2024-11-24T14:30:12.066Z"
   },
   {
    "duration": 4,
    "start_time": "2024-11-24T14:30:12.140Z"
   },
   {
    "duration": 68,
    "start_time": "2024-11-24T14:30:12.146Z"
   },
   {
    "duration": 21,
    "start_time": "2024-11-24T14:30:12.216Z"
   },
   {
    "duration": 85,
    "start_time": "2024-11-24T14:30:12.239Z"
   },
   {
    "duration": 19,
    "start_time": "2024-11-24T14:30:12.326Z"
   },
   {
    "duration": 24,
    "start_time": "2024-11-24T14:30:12.346Z"
   },
   {
    "duration": 8,
    "start_time": "2024-11-24T14:30:12.373Z"
   },
   {
    "duration": 1675,
    "start_time": "2024-11-24T14:30:12.383Z"
   },
   {
    "duration": 15,
    "start_time": "2024-11-24T14:30:14.060Z"
   },
   {
    "duration": 20,
    "start_time": "2024-11-24T14:30:14.076Z"
   },
   {
    "duration": 29990,
    "start_time": "2024-11-24T14:30:14.098Z"
   },
   {
    "duration": 12,
    "start_time": "2024-11-24T14:30:44.090Z"
   },
   {
    "duration": 13,
    "start_time": "2024-11-24T14:30:44.104Z"
   },
   {
    "duration": 99,
    "start_time": "2024-11-24T14:30:44.119Z"
   },
   {
    "duration": 582,
    "start_time": "2024-11-24T14:30:44.221Z"
   },
   {
    "duration": 1856,
    "start_time": "2024-11-24T14:31:21.383Z"
   },
   {
    "duration": 4,
    "start_time": "2024-11-24T14:31:23.241Z"
   },
   {
    "duration": 12,
    "start_time": "2024-11-24T14:31:23.247Z"
   },
   {
    "duration": 98,
    "start_time": "2024-11-24T14:31:23.261Z"
   },
   {
    "duration": 35,
    "start_time": "2024-11-24T14:31:23.361Z"
   },
   {
    "duration": 4,
    "start_time": "2024-11-24T14:31:23.398Z"
   },
   {
    "duration": 33,
    "start_time": "2024-11-24T14:31:23.421Z"
   },
   {
    "duration": 3,
    "start_time": "2024-11-24T14:31:23.456Z"
   },
   {
    "duration": 423,
    "start_time": "2024-11-24T14:31:23.461Z"
   },
   {
    "duration": 1170,
    "start_time": "2024-11-24T14:31:23.886Z"
   },
   {
    "duration": 177,
    "start_time": "2024-11-24T14:31:25.058Z"
   },
   {
    "duration": 269,
    "start_time": "2024-11-24T14:31:25.236Z"
   },
   {
    "duration": 1071,
    "start_time": "2024-11-24T14:31:25.507Z"
   },
   {
    "duration": 246,
    "start_time": "2024-11-24T14:31:26.583Z"
   },
   {
    "duration": 1223,
    "start_time": "2024-11-24T14:31:26.830Z"
   },
   {
    "duration": 3,
    "start_time": "2024-11-24T14:31:28.055Z"
   },
   {
    "duration": 6,
    "start_time": "2024-11-24T14:31:28.059Z"
   },
   {
    "duration": 69,
    "start_time": "2024-11-24T14:31:28.066Z"
   },
   {
    "duration": 3,
    "start_time": "2024-11-24T14:31:28.137Z"
   },
   {
    "duration": 63,
    "start_time": "2024-11-24T14:31:28.142Z"
   },
   {
    "duration": 6,
    "start_time": "2024-11-24T14:31:28.207Z"
   },
   {
    "duration": 6,
    "start_time": "2024-11-24T14:31:28.214Z"
   },
   {
    "duration": 20,
    "start_time": "2024-11-24T14:31:28.222Z"
   },
   {
    "duration": 20,
    "start_time": "2024-11-24T14:31:28.243Z"
   },
   {
    "duration": 52,
    "start_time": "2024-11-24T14:31:28.265Z"
   },
   {
    "duration": 1697,
    "start_time": "2024-11-24T14:31:28.319Z"
   },
   {
    "duration": 15,
    "start_time": "2024-11-24T14:31:30.018Z"
   },
   {
    "duration": 54,
    "start_time": "2024-11-24T14:31:30.034Z"
   },
   {
    "duration": 30444,
    "start_time": "2024-11-24T14:31:30.090Z"
   },
   {
    "duration": 11,
    "start_time": "2024-11-24T14:32:00.535Z"
   },
   {
    "duration": 82,
    "start_time": "2024-11-24T14:32:00.548Z"
   },
   {
    "duration": 82,
    "start_time": "2024-11-24T14:32:00.631Z"
   },
   {
    "duration": 595,
    "start_time": "2024-11-24T14:32:00.715Z"
   },
   {
    "duration": 2857,
    "start_time": "2024-11-24T15:54:48.948Z"
   },
   {
    "duration": 3,
    "start_time": "2024-11-24T15:54:51.807Z"
   },
   {
    "duration": 10,
    "start_time": "2024-11-24T15:54:51.812Z"
   },
   {
    "duration": 105,
    "start_time": "2024-11-24T15:54:51.824Z"
   },
   {
    "duration": 85,
    "start_time": "2024-11-24T15:54:51.930Z"
   },
   {
    "duration": 3,
    "start_time": "2024-11-24T15:54:52.017Z"
   },
   {
    "duration": 97,
    "start_time": "2024-11-24T15:54:52.022Z"
   },
   {
    "duration": 4,
    "start_time": "2024-11-24T15:54:52.120Z"
   },
   {
    "duration": 837,
    "start_time": "2024-11-24T15:54:52.126Z"
   },
   {
    "duration": 2009,
    "start_time": "2024-11-24T15:54:53.001Z"
   },
   {
    "duration": 297,
    "start_time": "2024-11-24T15:54:55.012Z"
   },
   {
    "duration": 515,
    "start_time": "2024-11-24T15:54:55.310Z"
   },
   {
    "duration": 1900,
    "start_time": "2024-11-24T15:54:55.827Z"
   },
   {
    "duration": 478,
    "start_time": "2024-11-24T15:54:57.729Z"
   },
   {
    "duration": 1518,
    "start_time": "2024-11-24T15:54:58.210Z"
   },
   {
    "duration": 3,
    "start_time": "2024-11-24T15:54:59.730Z"
   },
   {
    "duration": 37,
    "start_time": "2024-11-24T15:54:59.735Z"
   },
   {
    "duration": 139,
    "start_time": "2024-11-24T15:54:59.774Z"
   },
   {
    "duration": 3,
    "start_time": "2024-11-24T15:54:59.915Z"
   },
   {
    "duration": 5,
    "start_time": "2024-11-24T15:54:59.920Z"
   },
   {
    "duration": 6,
    "start_time": "2024-11-24T15:54:59.927Z"
   },
   {
    "duration": 68,
    "start_time": "2024-11-24T15:54:59.934Z"
   },
   {
    "duration": 96,
    "start_time": "2024-11-24T15:55:00.004Z"
   },
   {
    "duration": 22,
    "start_time": "2024-11-24T15:55:00.102Z"
   },
   {
    "duration": 74,
    "start_time": "2024-11-24T15:55:00.126Z"
   },
   {
    "duration": 2822,
    "start_time": "2024-11-24T15:55:00.202Z"
   },
   {
    "duration": 14,
    "start_time": "2024-11-24T15:55:03.025Z"
   },
   {
    "duration": 94,
    "start_time": "2024-11-24T15:55:03.042Z"
   },
   {
    "duration": 57862,
    "start_time": "2024-11-24T15:55:03.138Z"
   },
   {
    "duration": 12,
    "start_time": "2024-11-24T15:56:01.002Z"
   },
   {
    "duration": 36,
    "start_time": "2024-11-24T15:56:01.016Z"
   },
   {
    "duration": 12,
    "start_time": "2024-11-24T15:56:01.100Z"
   },
   {
    "duration": 731,
    "start_time": "2024-11-24T15:56:01.114Z"
   },
   {
    "duration": 1705,
    "start_time": "2024-11-24T16:27:00.967Z"
   },
   {
    "duration": 2,
    "start_time": "2024-11-24T16:27:02.674Z"
   },
   {
    "duration": 12,
    "start_time": "2024-11-24T16:27:02.678Z"
   },
   {
    "duration": 143,
    "start_time": "2024-11-24T16:27:02.692Z"
   },
   {
    "duration": 27,
    "start_time": "2024-11-24T16:27:02.837Z"
   },
   {
    "duration": 3,
    "start_time": "2024-11-24T16:27:02.866Z"
   },
   {
    "duration": 42,
    "start_time": "2024-11-24T16:27:02.870Z"
   },
   {
    "duration": 3,
    "start_time": "2024-11-24T16:27:02.914Z"
   },
   {
    "duration": 408,
    "start_time": "2024-11-24T16:27:02.918Z"
   },
   {
    "duration": 1017,
    "start_time": "2024-11-24T16:27:03.328Z"
   },
   {
    "duration": 133,
    "start_time": "2024-11-24T16:27:04.346Z"
   },
   {
    "duration": 219,
    "start_time": "2024-11-24T16:27:04.480Z"
   },
   {
    "duration": 821,
    "start_time": "2024-11-24T16:27:04.701Z"
   },
   {
    "duration": 189,
    "start_time": "2024-11-24T16:27:05.524Z"
   },
   {
    "duration": 784,
    "start_time": "2024-11-24T16:27:05.714Z"
   },
   {
    "duration": 12,
    "start_time": "2024-11-24T16:27:06.500Z"
   },
   {
    "duration": 8,
    "start_time": "2024-11-24T16:27:06.513Z"
   },
   {
    "duration": 44,
    "start_time": "2024-11-24T16:27:06.522Z"
   },
   {
    "duration": 3,
    "start_time": "2024-11-24T16:27:06.567Z"
   },
   {
    "duration": 27,
    "start_time": "2024-11-24T16:27:06.572Z"
   },
   {
    "duration": 34,
    "start_time": "2024-11-24T16:27:06.601Z"
   },
   {
    "duration": 11,
    "start_time": "2024-11-24T16:27:06.636Z"
   },
   {
    "duration": 27,
    "start_time": "2024-11-24T16:27:06.648Z"
   },
   {
    "duration": 26,
    "start_time": "2024-11-24T16:27:06.677Z"
   },
   {
    "duration": 5,
    "start_time": "2024-11-24T16:27:06.704Z"
   },
   {
    "duration": 1168,
    "start_time": "2024-11-24T16:27:06.710Z"
   },
   {
    "duration": 12,
    "start_time": "2024-11-24T16:27:07.880Z"
   },
   {
    "duration": 23,
    "start_time": "2024-11-24T16:27:07.894Z"
   },
   {
    "duration": 24325,
    "start_time": "2024-11-24T16:27:07.918Z"
   },
   {
    "duration": 8,
    "start_time": "2024-11-24T16:27:32.245Z"
   },
   {
    "duration": 18,
    "start_time": "2024-11-24T16:27:32.254Z"
   },
   {
    "duration": 25,
    "start_time": "2024-11-24T16:27:32.273Z"
   },
   {
    "duration": 462,
    "start_time": "2024-11-24T16:27:32.300Z"
   },
   {
    "duration": 87,
    "start_time": "2024-11-24T16:27:46.453Z"
   },
   {
    "duration": 1539,
    "start_time": "2024-11-24T16:28:12.173Z"
   },
   {
    "duration": 2,
    "start_time": "2024-11-24T16:28:13.714Z"
   },
   {
    "duration": 17,
    "start_time": "2024-11-24T16:28:13.718Z"
   },
   {
    "duration": 73,
    "start_time": "2024-11-24T16:28:13.736Z"
   },
   {
    "duration": 27,
    "start_time": "2024-11-24T16:28:13.810Z"
   },
   {
    "duration": 3,
    "start_time": "2024-11-24T16:28:13.838Z"
   },
   {
    "duration": 37,
    "start_time": "2024-11-24T16:28:13.842Z"
   },
   {
    "duration": 3,
    "start_time": "2024-11-24T16:28:13.881Z"
   },
   {
    "duration": 354,
    "start_time": "2024-11-24T16:28:13.912Z"
   },
   {
    "duration": 946,
    "start_time": "2024-11-24T16:28:14.268Z"
   },
   {
    "duration": 152,
    "start_time": "2024-11-24T16:28:15.215Z"
   },
   {
    "duration": 219,
    "start_time": "2024-11-24T16:28:15.368Z"
   },
   {
    "duration": 835,
    "start_time": "2024-11-24T16:28:15.589Z"
   },
   {
    "duration": 203,
    "start_time": "2024-11-24T16:28:16.426Z"
   },
   {
    "duration": 767,
    "start_time": "2024-11-24T16:28:16.630Z"
   },
   {
    "duration": 2,
    "start_time": "2024-11-24T16:28:17.399Z"
   },
   {
    "duration": 11,
    "start_time": "2024-11-24T16:28:17.403Z"
   },
   {
    "duration": 35,
    "start_time": "2024-11-24T16:28:17.415Z"
   },
   {
    "duration": 3,
    "start_time": "2024-11-24T16:28:17.451Z"
   },
   {
    "duration": 9,
    "start_time": "2024-11-24T16:28:17.455Z"
   },
   {
    "duration": 30,
    "start_time": "2024-11-24T16:28:17.465Z"
   },
   {
    "duration": 5,
    "start_time": "2024-11-24T16:28:17.496Z"
   },
   {
    "duration": 12,
    "start_time": "2024-11-24T16:28:17.503Z"
   },
   {
    "duration": 13,
    "start_time": "2024-11-24T16:28:17.516Z"
   },
   {
    "duration": 6,
    "start_time": "2024-11-24T16:28:17.530Z"
   },
   {
    "duration": 1125,
    "start_time": "2024-11-24T16:28:17.537Z"
   },
   {
    "duration": 11,
    "start_time": "2024-11-24T16:28:18.664Z"
   },
   {
    "duration": 12,
    "start_time": "2024-11-24T16:28:18.676Z"
   },
   {
    "duration": 25681,
    "start_time": "2024-11-24T16:28:18.690Z"
   },
   {
    "duration": 10,
    "start_time": "2024-11-24T16:28:44.373Z"
   },
   {
    "duration": 11,
    "start_time": "2024-11-24T16:28:44.384Z"
   },
   {
    "duration": 8,
    "start_time": "2024-11-24T16:28:44.396Z"
   },
   {
    "duration": 471,
    "start_time": "2024-11-24T16:28:44.405Z"
   }
  ],
  "kernelspec": {
   "display_name": "Python 3 (ipykernel)",
   "language": "python",
   "name": "python3"
  },
  "language_info": {
   "codemirror_mode": {
    "name": "ipython",
    "version": 3
   },
   "file_extension": ".py",
   "mimetype": "text/x-python",
   "name": "python",
   "nbconvert_exporter": "python",
   "pygments_lexer": "ipython3",
   "version": "3.12.4"
  },
  "toc": {
   "base_numbering": 1,
   "nav_menu": {},
   "number_sections": true,
   "sideBar": true,
   "skip_h1_title": true,
   "title_cell": "Содержание",
   "title_sidebar": "Contents",
   "toc_cell": true,
   "toc_position": {},
   "toc_section_display": true,
   "toc_window_display": true
  }
 },
 "nbformat": 4,
 "nbformat_minor": 4
}
